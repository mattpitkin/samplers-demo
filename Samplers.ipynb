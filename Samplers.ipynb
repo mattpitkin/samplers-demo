{
 "cells": [
  {
   "cell_type": "markdown",
   "metadata": {},
   "source": [
    "# Samplers, samplers, everywhere...\n",
    "\n",
    "This notebook aims to provide a basic example of how to run a variety of [MCMC](https://en.wikipedia.org/wiki/Markov_chain_Monte_Carlo) and [Nested Sampling](https://en.wikipedia.org/wiki/Nested_sampling_algorithm) codes in [Python](https://www.python.org/). It won't go into detail about MCMC methods in general, and assumes a bit of knowledge about them, nor will it discuss all the various bells-and-whistles that each sampler can use, but it will hopefully help people get started with writing code to use a sampler using an understandable (albeit \"toy\") example. A very nice, quite similar, article on this topic by [Jake VanderPlas](http://vanderplas.com/) can be found [here](https://jakevdp.github.io/blog/2014/06/14/frequentism-and-bayesianism-4-bayesian-in-python/). There are also very good [online notes](http://people.duke.edu/~ccc14/sta-663-2017/20A_MCMC.html) from the _Computational Statistics and Statistical Computing_ course at [Duke University](https://www.duke.edu/) by [Cliburn Chan](https://genome.duke.edu/directory/cbb-faculty/cliburn-chan-phd) & [Janice McCarthy](https://scholars.duke.edu/person/janice.mccarthy), covering some of this material (including [PyMC3](http://people.duke.edu/~ccc14/sta-663-2017/19A_PyMC3.html) and [PyStan](http://people.duke.edu/~ccc14/sta-663-2017/19B_Pystan.html#estimating-parameters-of-a-linear-regression-model) examples that are very similar to what is covered here). \n",
    "\n",
    "## Background\n",
    "\n",
    "MCMC methods are often used in the context of Bayesian parameter estimation, e.g., you have a model, $y$, defined by a set of unknown parameters, ${\\vec{\\theta}}$, with certain prior probability distributions $p(\\vec{\\theta}|I)$, and you want to sample from the marginalised posterior probability distributions on those parameters given some data, $\\mathbf{d}$, and a particular likelihood function, $p(\\mathbf{d}|\\vec{\\theta},I)$, ($I$ is just a substitute for all our implicit assumptions that have gone into defining our model). From Bayes theorem we have the joint posterior on the parameters,\n",
    "\n",
    "$$\n",
    "p(\\vec{\\theta}|\\mathbf{d},I) = \\frac{p(\\mathbf{d}|\\vec{\\theta},I) p(\\vec{\\theta}|I)}{p(\\mathbf{d}|I)},\n",
    "$$\n",
    "\n",
    "with marginalised posteriors on an individual parameter, say $\\theta_1$, given by nested integrals over all other parameters,\n",
    "\n",
    "$$\n",
    "p(\\theta_1|\\mathbf{d},I) = \\frac{1}{p(\\mathbf{d}|I)}\\int^{\\forall \\theta_i \\in (\\vec{\\theta}\\neq \\theta_1)} p(\\mathbf{d}|\\vec{\\theta},I) p(\\vec{\\theta}|I) {\\rm d}{\\theta_i},\n",
    "$$\n",
    "\n",
    "($\\forall \\theta_i \\in (\\vec{\\theta}\\neq \\theta_1)$ can be translated into \"for all parameters $\\theta_i$ in $\\vec{\\theta}$ that are not equal to $\\theta_1$). $p(\\mathbf{d}|I)$ is the marginalised likelihood, or _evidence_,\n",
    "for the data, and is given by\n",
    "\n",
    "$$\n",
    "p(\\mathbf{d}|I) = \\int^{\\forall \\theta_i \\in \\vec{\\theta}} p(\\mathbf{d}|\\vec{\\theta},I) p(\\vec{\\theta}|I) {\\rm d}{\\theta_i},\n",
    "$$\n",
    "\n",
    "which will be discussed below in relation to nested sampling.\n",
    "\n",
    "This is the only context I (and probably many people in the physical sciences) have encountered using MCMC, and is the context I will use below.\n",
    "\n",
    "## Toy model\n",
    "\n",
    "The very basic example I'll use to demonstrate coding up the samplers is that of sampling from the posteriors of two parameters, $m$ and $c$, defining the model:\n",
    "\n",
    "$$\n",
    "y(\\mathbf{x};m,c) = m\\mathbf{x} + c,\n",
    "$$\n",
    "\n",
    "where $\\mathbf{x}$ is a vector of values of $x$. This is basically fitting the gradient and $y$-intercept of a line, which should be fairly familiar as [linear regression](https://en.wikipedia.org/wiki/Linear_regression), and is obviously a solved problem (_assuming uniform priors!_) using, e.g., [least squares fitting](https://en.wikipedia.org/wiki/Linear_least_squares_%29mathematics%29). But, this provides a simple example that can hopefully be extended to more realistics scenarios.\n",
    "\n",
    "Our aim is to produce samples drawn from the marginalised posteriors\n",
    "\n",
    " * $p(m|\\mathbf{d},I)$, and\n",
    " * $p(c|\\mathbf{d},I)$.\n",
    "\n",
    "The vector of data samples, $\\mathbf{d}$, will consist of the model defined at a set of $M$ values, $\\mathbf{x}$, with additive Gaussian noise, i.e., data point $i$ will be defined by\n",
    "\n",
    "$$\n",
    "d_i = y(x_i;m,c) + n_i,\n",
    "$$\n",
    "\n",
    "with\n",
    "\n",
    "$$\n",
    "n_i \\sim N(0, \\sigma_i),\n",
    "$$\n",
    "\n",
    "which means the noise is drawn from a [Gaussian (or Normal) distribution](https://en.wikipedia.org/wiki/Normal_distribution) of zero mean and standard deviation of $\\sigma_i$.\n",
    "\n",
    "> _Note_: _I'll generally use the term  distribution [Gaussian](https://en.wikipedia.org/wiki/Normal%5fdistribution)\n",
    "> rather than \"Normal\" distribution, as this it what I first heard it called. But, in many packages discussed below\n",
    "> \"Normal\" is the more common word for the distribution._\n",
    "\n",
    "### Setting the likelihood\n",
    "\n",
    "Given the above choice of noise a sensible (and fairly standard) likelihood for a data point given values of $m$ and $c$, will be given by a Gaussian distribution of the form\n",
    "\n",
    "$$\n",
    "p(d_i|m,c,I) = \\left(2\\pi\\sigma_i^2\\right)^{-1/2} \\exp{\\left(-\\frac{\\left[(d_i - y(x_i;m,c)\\right]^2}{2\\sigma_i^2} \\right)},\n",
    "$$\n",
    "\n",
    "and the joint likelihood for the whole dataset of $M$ points will be the product of the individual likelihoods\n",
    "\n",
    "$$\n",
    "p(\\mathbf{d}|m,c,I) = \\prod_{i=1}^M p(d_i|m,c,I) = \\left(2\\pi\\right)^{-M/2}\\left(\\prod_{i=1}^M \\sigma_i^{-1} \\right) \\exp{\\left(-\\sum_{i=1}^M\\frac{\\left[(d_i - y(x_i;m,c)\\right]^2}{2\\sigma_i^2} \\right)}\n",
    "$$\n",
    "\n",
    "When computing likelihoods numerical consideration mean that one almost always works with the natural logarithm of the likelihood, so we have\n",
    "\n",
    "$$\n",
    "\\ln{p(\\mathbf{d}|m,c,I)} \\equiv \\log{L} = -\\frac{M}{2}\\ln{(2\\pi)} - \\ln\\left(\\prod_{i=1}^M \\sigma_i\\right) - \\sum_{i=1}^M\\frac{\\left[(d_i - y(x_i;m,c)\\right]^2}{2\\sigma_i^2}\n",
    "$$\n",
    "\n",
    "For many cases we can ignore the terms that do not include our required parameters when sampling from their marginalised likelihoods (as they will just be constants), so often the log-likelihood can be set to be\n",
    "\n",
    "$$\n",
    "\\log{L} = - \\sum_{i=1}^M\\frac{\\left[(d_i - y(x_i;m,c)\\right]^2}{2\\sigma_i^2}.\n",
    "$$\n",
    "\n",
    "> _Note_: _If wanting to evaluate the marginal likelihood for the data (e.g., using nested sampling, which is\n",
    "> discussed later) and use it for [model comparison](https://en.wikipedia.org/wiki/Bayes%5ffactor), the constants \n",
    "> are required._\n",
    "\n",
    "### Setting the prior\n",
    "\n",
    "In addition to the likelihood we need to define priors on the parameters. To demonstrate a couple of different, and  reasonably common, priors, we'll use a uniform probability distribution for the prior on $m$ and a Gaussian probability distribution for the prior on $c$:\n",
    "\n",
    "$$\n",
    "p(m|\\mu_m,\\sigma_m,I) = \\frac{1}{\\sqrt{2\\pi\\sigma_m^2}}\\exp{\\left(-\\frac{(m-\\mu_m)^2}{2\\sigma_m^2}\\right)},\n",
    "$$\n",
    "\n",
    "and\n",
    "\n",
    "$$\n",
    "p(c|c_{\\rm min}, c_{\\rm max}) = \\frac{1}{c_{\\rm max}-c_{\\rm min}}.\n",
    "$$\n",
    "\n",
    "In our example we'll set:\n",
    "\n",
    " * $\\mu_m = 0$ and $\\sigma_m = 10$,\n",
    " * $c_{\\rm min} = -10$ and $c_{\\rm max} = -10$.\n",
    " \n",
    "> _Note_: _These priors are not intended to the the [least informative](https://en.wikipedia.org/wiki/Prior%5fprobability#Uninformative%5fpriors) for the parameterisation that we have, but\n",
    "> are just chosen for demonstration purposes to show how to code up two different distributions. A better prior\n",
    "> for this particular problem might be the one discussed [here](https://jakevdp.github.io/blog/2014/06/14/frequentism-and-bayesianism-4-bayesian-in-python/#The-Prior), which \n",
    "> could be coded up for PyMC3 using the example [here](http://docs.pymc.io/notebooks/getting%5fstarted.html#Arbitrary-distributions)._\n",
    "\n",
    "### Creating the data\n",
    "\n",
    "So, let's get started creating our data. We'll (arbitrarily) use:\n",
    "\n",
    " * $m = 3.5$,\n",
    " * $c = 1.2$,\n",
    "\n",
    "for our model and\n",
    "\n",
    " * $\\mathbf{x} \\in [0, 10)$ in $M=100$ uniform steps ($[a,b)$ means [inclusive of $a$, but exclusive of $b$](https://en.wikipedia.org/wiki/Bracket_%28mathematics%29#Intervals)),\n",
    " * $\\sigma_i = \\sigma = 0.5$ (i.e., each noise point is independent, but has the same standard deviation),\n",
    " \n",
    "for our data."
   ]
  },
  {
   "cell_type": "code",
   "execution_count": 1,
   "metadata": {},
   "outputs": [],
   "source": [
    "# show plots inline in the notebook\n",
    "%matplotlib inline\n",
    "\n",
    "from __future__ import division, print_function # python3 compatibilty\n",
    "\n",
    "import numpy as np                  # import numpy\n",
    "from matplotlib import pyplot as pl # import pyplot from matplotlib\n",
    "import corner                       # import corner plotting package\n",
    "import matplotlib as mpl\n",
    "from time import time               # use for timing functions\n",
    "\n",
    "# useful modules!\n",
    "import sys\n",
    "import os\n",
    "\n",
    "# make the plots look a bit nicer with some defaults\n",
    "rcparams = {}\n",
    "rcparams['text.usetex'] = True\n",
    "rcparams['axes.linewidth'] = 0.5\n",
    "rcparams['font.family'] = 'sans-serif'\n",
    "rcparams['font.sans-serif'] = 'Avant Garde, Helvetica, Computer Modern Sans serif'\n",
    "rcparams['font.size'] = 18\n",
    "mpl.rcParams.update(rcparams)"
   ]
  },
  {
   "cell_type": "code",
   "execution_count": 2,
   "metadata": {},
   "outputs": [
    {
     "data": {
      "image/png": "[encoded data removed]",
      "text/plain": [
       "<matplotlib.figure.Figure at 0x7fc5db160d50>"
      ]
     },
     "metadata": {},
     "output_type": "display_data"
    }
   ],
   "source": [
    "# set the true values of the model parameters for creating the data\n",
    "m = 3.5 # gradient of the line\n",
    "c = 1.2 # y-intercept of the line\n",
    "\n",
    "# set the \"predictor variable\"/abscissa\n",
    "M = 100\n",
    "xmin = 0.\n",
    "xmax = 10.\n",
    "stepsize = (xmax-xmin)/M\n",
    "x = np.arange(0.0, 10.0, 10./M)\n",
    "\n",
    "# define the model function\n",
    "def straight_line(x, m, c):\n",
    "    \"\"\"\n",
    "    A straight line model: y = m*x + c\n",
    "    \n",
    "    Args:\n",
    "        x (list): a set of abscissa points at which the model is defined\n",
    "        m (float): the gradient of the line\n",
    "        c (float): the y-intercept of the line\n",
    "    \"\"\"\n",
    "    \n",
    "    return m*x + c\n",
    "\n",
    "# create the data - the model plus Gaussian noise\n",
    "sigma = 0.5 # standard deviation of the noise\n",
    "data = straight_line(x, m, c) + sigma*np.random.randn(M)\n",
    "\n",
    "# plot the data\n",
    "fig, ax = pl.subplots(figsize=(9,6))\n",
    "ax.plot(x, data, 'bo', alpha=0.5, label='data')\n",
    "ax.plot(x, straight_line(x, m, c), 'r-', lw=2, label='model')\n",
    "ax.legend()\n",
    "ax.set_xlim([xmin, xmax])\n",
    "ax.set_xlabel(r'$x$');"
   ]
  },
  {
   "cell_type": "markdown",
   "metadata": {},
   "source": [
    "## MCMC samplers\n",
    "\n",
    "First up we'll deal with MCMC samplers that are purely written in Python, then a couple that are wrappers to other libraries.\n",
    "\n",
    "### `emcee`\n",
    "\n",
    "[`emcee`](http://dfm.io/emcee/current/) ([Foreman-Mackey _et al_, 2013](https://arxiv.org/abs/1202.3665)) is a Python MCMC implementation that uses an affine invariant ensemble sampler ([Goodman & Weare, 2010](https://msp.org/camcos/2010/5-1/p04.xhtml)). This basically means that it doesn't just evolve a single point in the model parameter space, but evolves and ensemble of points, and steps in the evolution are tuned based on the current state of the ensemble, so the steps scale naturally (the _affine invariant_ bit) as the ensemble closes in on the posterior. This code has been [well used](http://dfm.io/emcee/current/testimonials/) in the astrophysics community (and as an astrophysicisy myself I'm showing it as my first example!).\n",
    "\n",
    "`emcee` is on [PyPI](https://pypi.org/) and is [installable](http://dfm.io/emcee/current/user/install/#using-pip) via `pip` with: `pip install emcee`. The example here is very similar to the [line model example](http://dfm.io/emcee/current/user/line/) given in the `emcee` documentation.\n",
    "\n",
    "First up, we need to define the likelihood function, prior functions, and posterior probability function. These all need to be defined as the natural logarithms of the functions. All the functions take in a sample [tuple](https://docs.python.org/2/tutorial/datastructures.html#tuples-and-sequences), where a sample is vector $\\vec{\\theta}$ of parameter values, that can be unpacked to give the individual parameter values. Other arguments to the posterior function can be user defined.\n",
    "\n",
    "#### Posterior\n",
    "\n",
    "For our example the posterior will take the following form:"
   ]
  },
  {
   "cell_type": "code",
   "execution_count": 3,
   "metadata": {},
   "outputs": [],
   "source": [
    "def logposterior(theta, data, sigma, x):\n",
    "    \"\"\"\n",
    "    The natural logarithm of the joint posterior.\n",
    "    \n",
    "    Args:\n",
    "        theta (tuple): a sample containing individual parameter values\n",
    "        data (list): the set of data/observations\n",
    "        sigma (float): the standard deviation of the data points\n",
    "        x (list): the abscissa values at which the data/model is defined\n",
    "    \"\"\"\n",
    "    \n",
    "    lp = logprior(theta) # get the prior\n",
    "    \n",
    "    # if the prior is not finite return a probability of zero (log probability of -inf)\n",
    "    if not np.isfinite(lp):\n",
    "        return -np.inf\n",
    "    \n",
    "    # return the likeihood times the prior (log likelihood plus the log prior)\n",
    "    return lp + loglikelihood(theta, data, sigma, x)"
   ]
  },
  {
   "cell_type": "markdown",
   "metadata": {},
   "source": [
    "#### Likelihood\n",
    "\n",
    "The likelihood will take the following form:"
   ]
  },
  {
   "cell_type": "code",
   "execution_count": 4,
   "metadata": {},
   "outputs": [],
   "source": [
    "def loglikelihood(theta, data, sigma, x):\n",
    "    \"\"\"\n",
    "    The natural logarithm of the joint likelihood.\n",
    "    \n",
    "    Args:\n",
    "        theta (tuple): a sample containing individual parameter values\n",
    "        data (list): the set of data/observations\n",
    "        sigma (float): the standard deviation of the data points\n",
    "        x (list): the abscissa values at which the data/model is defined\n",
    "    \n",
    "    Note:\n",
    "        We do not include the normalisation constants (as discussed above).\n",
    "    \"\"\"\n",
    "    \n",
    "    # unpack the model parameters from the tuple\n",
    "    m, c = theta\n",
    "    \n",
    "    # evaluate the model (assumes that the straight_line model is defined as above)\n",
    "    md = straight_line(x, m, c)\n",
    "    \n",
    "    # return the log likelihood\n",
    "    return -0.5*np.sum(((md - data)/sigma)**2)"
   ]
  },
  {
   "cell_type": "markdown",
   "metadata": {},
   "source": [
    "#### Prior\n",
    "\n",
    "The prior will take the following form:"
   ]
  },
  {
   "cell_type": "code",
   "execution_count": 5,
   "metadata": {},
   "outputs": [],
   "source": [
    "def logprior(theta):\n",
    "    \"\"\"\n",
    "    The natural logarithm of the prior probability.\n",
    "    \n",
    "    Args:\n",
    "        theta (tuple): a sample containing individual parameter values\n",
    "    \n",
    "    Note:\n",
    "        We can ignore the normalisations of the prior here.\n",
    "    \"\"\"\n",
    "    \n",
    "    lp = 0.\n",
    "    \n",
    "    # unpack the model parameters from the tuple\n",
    "    m, c = theta\n",
    "    \n",
    "    # uniform prior on c\n",
    "    cmin = -10. # lower range of prior\n",
    "    cmax = 10.  # upper range of prior\n",
    "    \n",
    "    # set prior to 1 (log prior to 0) if in the range and zero (-inf) outside the range \n",
    "    lp = 0. if cmin < c < cmax else -np.inf\n",
    "    \n",
    "    # Gaussian prior on m\n",
    "    mmu = 0.     # mean of the Gaussian prior\n",
    "    msigma = 10. # standard deviation of the Gaussian prior\n",
    "    lp -= 0.5*((m - mmu)/msigma)**2\n",
    "    \n",
    "    return lp"
   ]
  },
  {
   "cell_type": "markdown",
   "metadata": {},
   "source": [
    "#### MCMC set up\n",
    "\n",
    "We need decide on a initial number of ensemble points and initialise the samples, i.e., set starting points for them. The initial samples can be drawn from the prior distributions (in the `emcee` documentation [example](http://dfm.io/emcee/current/user/line/) it starts the opposite way round, i.e., with initial samples tightly packed around the true value). We'll choose 100 ensembles (the number of so-called _walkers_) and initialise them with:"
   ]
  },
  {
   "cell_type": "code",
   "execution_count": 6,
   "metadata": {},
   "outputs": [],
   "source": [
    "Nens = 100   # number of ensemble points\n",
    "\n",
    "mmu = 0.     # mean of the Gaussian prior\n",
    "msigma = 10. # standard deviation of the Gaussian prior\n",
    "\n",
    "mini = mmu + msigma*np.random.randn(Nens) # initial m points\n",
    "\n",
    "cmin = -10.  # lower range of prior\n",
    "cmax = 10.   # upper range of prior\n",
    "\n",
    "cini = cmin + (cmax-cmin)*np.random.rand(Nens) # initial c points\n",
    "\n",
    "inisamples = np.array([mini, cini]).T # initial samples\n",
    "\n",
    "ndims = inisamples.shape[1] # number of parameters/dimensions"
   ]
  },
  {
   "cell_type": "markdown",
   "metadata": {},
   "source": [
    "Because our initial samples are drawn from the prior it can take time for them to converge on sampling from the posterior distributions that we want. To try and get around this we can run the sampler with a [burn-in](https://support.sas.com/documentation/cdl/en/statug/63033/HTML/default/viewer.htm#statug_introbayes_sect007.htm) period (although see, e.g., [here](http://users.stat.umn.edu/~geyer/mcmc/burn.html) or [here](https://www.johndcook.com/blog/2016/01/25/mcmc-burn-in/) for some discussions about whether burn-ins are actually necessary), and we will ignore samples during this burn-in. _[Note: Alternative options could be to use some optimisation routine to try and find the posterior modes and start samples at that point, or use all samples, work out an autocorrelation length and thin the samples accordingly so they are uncorrelated, which gets rid of correlations during the initial convergence of the samples.]_ We'll choose a burn-in of 500 samples, and then run the chain for another 500 samples, which will give an output with $(500+500)\\times 100 = 100000$ samples."
   ]
  },
  {
   "cell_type": "code",
   "execution_count": 7,
   "metadata": {},
   "outputs": [],
   "source": [
    "Nburnin = 500   # number of burn-in samples\n",
    "Nsamples = 500  # number of final posterior samples"
   ]
  },
  {
   "cell_type": "markdown",
   "metadata": {},
   "source": [
    "The sampler first has to be initialise and told the required arguments, including any additional arguments for the posterior function:"
   ]
  },
  {
   "cell_type": "code",
   "execution_count": 8,
   "metadata": {},
   "outputs": [],
   "source": [
    "import emcee # import the emcee package\n",
    "\n",
    "# set additional args for the posterior (the data, the noise std. dev., and the abscissa)\n",
    "argslist = (data, sigma, x)\n",
    "\n",
    "# set up the sampler\n",
    "sampler = emcee.EnsembleSampler(Nens, ndims, logposterior, args=argslist)"
   ]
  },
  {
   "cell_type": "markdown",
   "metadata": {},
   "source": [
    "Now the sampler can be run, and the burn-in removed, with:"
   ]
  },
  {
   "cell_type": "code",
   "execution_count": 9,
   "metadata": {},
   "outputs": [
    {
     "name": "stdout",
     "output_type": "stream",
     "text": [
      "Time taken to run 'emcee' is 2.06729793549 seconds\n"
     ]
    }
   ],
   "source": [
    "# pass the initial samples and total number of samples required\n",
    "t0 = time() # start time\n",
    "sampler.run_mcmc(inisamples, Nsamples+Nburnin);\n",
    "t1 = time()\n",
    "\n",
    "timeemcee = (t1-t0)\n",
    "print(\"Time taken to run 'emcee' is {} seconds\".format(timeemcee))\n",
    "\n",
    "# extract the samples (removing the burn-in)\n",
    "samples = sampler.chain[:, Nburnin:, :].reshape((-1, ndims))"
   ]
  },
  {
   "cell_type": "markdown",
   "metadata": {},
   "source": [
    "Now plot the resulting posteriors using [corner.py](http://corner.readthedocs.io/en/latest/)!"
   ]
  },
  {
   "cell_type": "code",
   "execution_count": 10,
   "metadata": {},
   "outputs": [
    {
     "data": {
      "image/png": "[encoded data removed]",
      "text/plain": [
       "<matplotlib.figure.Figure at 0x7fc5d8c98450>"
      ]
     },
     "metadata": {},
     "output_type": "display_data"
    }
   ],
   "source": [
    "# plot the resulting posteriors\n",
    "fig = corner.corner(samples, labels=[\"$m$\", \"$c$\"], truths=[m, c])"
   ]
  },
  {
   "cell_type": "markdown",
   "metadata": {},
   "source": [
    "### PyMC3\n",
    "\n",
    "[PyMC3](http://docs.pymc.io/) ([Salvatier, Wiecki & Fonnesbeck, 2016](https://peerj.com/articles/cs-55/)) is a Python MCMC implementation that can use a variety of modern sampling method, including \"No-U-turn sampling\" (NUTS) ([Hoffman & Gellman, 2014](http://www.jmlr.org/papers/v15/hoffman14a.html)) and [Hamiltonian Monte Carlo](https://en.wikipedia.org/wiki/Hamiltonian_Monte_Carlo) ([Duane _et al_, 1987](http://www.sciencedirect.com/science/article/pii/037026938791197X)), both of which make use of the gradient of the posterior to efficiently sample the space. An example of getting started using PyMC3 can be found [here](http://docs.pymc.io/notebooks/getting_started), and upon which this example is based.\n",
    "\n",
    "This code can also be [installed](http://docs.pymc.io/#installation) using `pip` with:\n",
    "\n",
    "```\n",
    "pip install pymc3\n",
    "```\n",
    "\n",
    "The majority of distributions that can be used for priors and likehood functions are [predefined](http://docs.pymc.io/api/distributions.html) in PyMC3, so you do not have to worry about writing them yourself (although you can create your [own custom distribution](http://docs.pymc.io/notebooks/getting_started.html#Arbitrary-distributions)).\n",
    "\n",
    "To set up the model we can't just use the `straight_line()` function defined above, but can do the following:"
   ]
  },
  {
   "cell_type": "code",
   "execution_count": 11,
   "metadata": {},
   "outputs": [
    {
     "name": "stderr",
     "output_type": "stream",
     "text": [
      "WARNING (theano.configdefaults): install mkl with `conda install mkl-service`: No module named mkl\n",
      "/opt/conda/envs/py27/lib/python2.7/site-packages/h5py/__init__.py:36: FutureWarning: Conversion of the second argument of issubdtype from `float` to `np.floating` is deprecated. In future, it will be treated as `np.float64 == np.dtype(float).type`.\n",
      "  from ._conv import register_converters as _register_converters\n"
     ]
    }
   ],
   "source": [
    "import pymc3 as pm # import PyMC3\n",
    "\n",
    "# set the PyMC3 model\n",
    "linear_model = pm.Model()\n",
    "\n",
    "with linear_model:\n",
    "    # set prior parameters\n",
    "    cmin = -10. # lower range of uniform distribution on c\n",
    "    cmax = 10.  # upper range of uniform distribution on c\n",
    "    \n",
    "    mmu = 0.     # mean of Gaussian distribution on m\n",
    "    msigma = 10. # standard deviation of Gaussian distribution on m\n",
    "    \n",
    "    # set priors for unknown parameters\n",
    "    cmodel = pm.Uniform('c', lower=cmin, upper=cmax) # uniform prior on y-intercept\n",
    "    mmodel = pm.Normal('m', mu=mmu, sd=msigma)       # Gaussian prior on gradient\n",
    "    \n",
    "    sigmamodel = sigma # set a single standard deviation\n",
    "    \n",
    "    # Expected value of outcome, aka \"the model\"\n",
    "    mu = mmodel*x + cmodel\n",
    "    \n",
    "    # Gaussian likelihood (sampling distribution) of observations, \"data\"\n",
    "    Y_obs = pm.Normal('Y_obs', mu=mu, sd=sigmamodel, observed=data)"
   ]
  },
  {
   "cell_type": "markdown",
   "metadata": {},
   "source": [
    "Now we can perform the sampling. By default, for continuous variables like we have, the [sampling step method](http://docs.pymc.io/api/inference.html#step-methods) will use [NUTS](http://docs.pymc.io/api/inference.html#module-pymc3.step_methods.hmc.nuts), but the method can be chosen manually. PyMC3 comes with a function for finding the [maximum a posteriori](https://en.wikipedia.org/wiki/Maximum_a_posteriori_estimation) point (MAP), which we will use to find a starting point for the sampling. We'll run with 1000 samples, and tune (like the burn-in above) with 1000 samples (discarding these tuning samples):"
   ]
  },
  {
   "cell_type": "code",
   "execution_count": 12,
   "metadata": {},
   "outputs": [
    {
     "name": "stderr",
     "output_type": "stream",
     "text": [
      "logp = -66.32, ||grad|| = 33.923: 100%|██████████| 16/16 [00:00<00:00, 1117.87it/s] \n",
      "Auto-assigning NUTS sampler...\n",
      "Initializing NUTS using jitter+adapt_diag...\n",
      "/opt/conda/envs/py27/lib/python2.7/site-packages/pymc3/model.py:384: FutureWarning: Conversion of the second argument of issubdtype from `float` to `np.floating` is deprecated. In future, it will be treated as `np.float64 == np.dtype(float).type`.\n",
      "  if not np.issubdtype(var.dtype, float):\n",
      "Multiprocess sampling (2 chains in 2 jobs)\n",
      "NUTS: [m, c_interval__]\n",
      "100%|██████████| 2000/2000 [00:03<00:00, 618.01it/s]\n",
      "The number of effective samples is smaller than 25% for some parameters.\n"
     ]
    },
    {
     "name": "stdout",
     "output_type": "stream",
     "text": [
      "Time taken to run 'PyMC3' is 34.7727229595 seconds\n"
     ]
    }
   ],
   "source": [
    "Nsamples = 1000 # final number of samples\n",
    "Ntune = 1000    # number of tuning samples\n",
    "\n",
    "# perform sampling\n",
    "t0 = time()\n",
    "with linear_model:\n",
    "    start = pm.find_MAP(); # find starting value using optimisation methods\n",
    "    trace = pm.sample(Nsamples, start=start, tune=Ntune, discard_tuned_samples=True); # perform sampling\n",
    "t1 = time()\n",
    "\n",
    "timepymc3 = (t1-t0)\n",
    "print(\"Time taken to run 'PyMC3' is {} seconds\".format(timepymc3))"
   ]
  },
  {
   "cell_type": "markdown",
   "metadata": {},
   "source": [
    "PyMC3 has its own in-built [plotting functions](http://docs.pymc.io/api/plots.html) to, for example, show traces of the MCMC chains."
   ]
  },
  {
   "cell_type": "code",
   "execution_count": 13,
   "metadata": {},
   "outputs": [
    {
     "data": {
      "image/png": "[encoded data removed]",
      "text/plain": [
       "<matplotlib.figure.Figure at 0x7fc5c1f94690>"
      ]
     },
     "metadata": {},
     "output_type": "display_data"
    }
   ],
   "source": [
    "# plot trace output (overplot the true values)\n",
    "rcparams['font.size'] = 12 # make font-size smaller\n",
    "mpl.rcParams.update(rcparams)\n",
    "\n",
    "_ = pm.traceplot(trace, lines={'m': m, 'c': c})"
   ]
  },
  {
   "cell_type": "markdown",
   "metadata": {},
   "source": [
    "### MCMC wrapper samplers\n",
    "\n",
    "There are other MCMC samplers that are not pure Python packages, but have a Python-based wrapper to a different library. With these you can't write pure Python model and probability functions, but instead have a create a code string that it then compiled and run using the underlying library functions. We will look at [PyStan](http://pystan.readthedocs.io) and [PyJAGS](https://pyjags.readthedocs.io)."
   ]
  },
  {
   "cell_type": "markdown",
   "metadata": {},
   "source": [
    "### PyStan\n",
    "\n",
    "[PyStan](http://pystan.readthedocs.io) is a Python interface to the popular [Stan](http://mc-stan.org/) library. As with PyMC3, it uses the modern NUTS and Hamiltonain MC sampling methods. It can be [installed](http://pystan.readthedocs.io/en/latest/getting_started.html#installation) using `pip` with:\n",
    "\n",
    "```\n",
    "pip install pystan\n",
    "```\n",
    "\n",
    "To define the model and distributions you need to write a code string like this:"
   ]
  },
  {
   "cell_type": "code",
   "execution_count": 14,
   "metadata": {},
   "outputs": [],
   "source": [
    "# model and distributions for straight line fitting\n",
    "line_code = \"\"\"\n",
    "data {{\n",
    "    int<lower=0> N;      // number of data points\n",
    "    real y[N];           // observed data points\n",
    "    real x[N];           // abscissa points\n",
    "    real<lower=0> sigma; // standard deviation\n",
    "}}\n",
    "parameters {{\n",
    "    // parameters for the fit\n",
    "    real m;\n",
    "    real c;\n",
    "}}\n",
    "transformed parameters {{\n",
    "    real theta[N];\n",
    "    for (j in 1:N)\n",
    "    theta[j] = m * x[j] + c; // straight line model\n",
    "}}\n",
    "model {{\n",
    "    m ~ normal({mmu}, {msigma});     // prior on m (gradient)\n",
    "    c ~ uniform({clower}, {cupper}); // prior on c (y-intercept)\n",
    "    y ~ normal(theta, sigma);        // likelihood of the data given the model\n",
    "}}\n",
    "\"\"\""
   ]
  },
  {
   "cell_type": "markdown",
   "metadata": {},
   "source": [
    "You can then define the inputs to the `data` section in a dictionary:"
   ]
  },
  {
   "cell_type": "code",
   "execution_count": 15,
   "metadata": {},
   "outputs": [],
   "source": [
    "# set the data and the abscissa\n",
    "linear_data = {'N': M,          # number of data points\n",
    "               'y': data,       # observed data (converted from numpy array to a list)\n",
    "               'x': x,          # abscissa points (converted from numpy array to a list)\n",
    "               'sigma': sigma}  # standard deviation"
   ]
  },
  {
   "cell_type": "markdown",
   "metadata": {},
   "source": [
    "Now you can compile the model and run the sampler, with 1000 iterations and 4 chains, with:"
   ]
  },
  {
   "cell_type": "code",
   "execution_count": 16,
   "metadata": {},
   "outputs": [
    {
     "name": "stderr",
     "output_type": "stream",
     "text": [
      "INFO:pystan:COMPILING THE C++ CODE FOR MODEL anon_model_15aa743a6e306b61e6880db7be28ca62 NOW.\n"
     ]
    },
    {
     "name": "stdout",
     "output_type": "stream",
     "text": [
      "cc1plus: warning: command line option ‘-Wstrict-prototypes’ is valid for C/ObjC but not for C++\n",
      "In file included from /opt/conda/envs/py27/lib/python2.7/site-packages/numpy/core/include/numpy/ndarraytypes.h:1816:0,\n",
      "                 from /opt/conda/envs/py27/lib/python2.7/site-packages/numpy/core/include/numpy/ndarrayobject.h:18,\n",
      "                 from /opt/conda/envs/py27/lib/python2.7/site-packages/numpy/core/include/numpy/arrayobject.h:4,\n",
      "                 from /tmp/tmpQQnFFl/stanfit4anon_model_15aa743a6e306b61e6880db7be28ca62_4817826288726419857.cpp:599:\n",
      "/opt/conda/envs/py27/lib/python2.7/site-packages/numpy/core/include/numpy/npy_1_7_deprecated_api.h:15:2: warning: #warning \"Using deprecated NumPy API, disable it by \" \"#defining NPY_NO_DEPRECATED_API NPY_1_7_API_VERSION\" [-Wcpp]\n",
      " #warning \"Using deprecated NumPy API, disable it by \" \\\n",
      "  ^\n",
      "In file included from /opt/conda/envs/py27/lib/python2.7/site-packages/pystan/stan/lib/stan_math/lib/boost_1.64.0/boost/multi_array/base.hpp:28:0,\n",
      "                 from /opt/conda/envs/py27/lib/python2.7/site-packages/pystan/stan/lib/stan_math/lib/boost_1.64.0/boost/multi_array.hpp:21,\n",
      "                 from /opt/conda/envs/py27/lib/python2.7/site-packages/pystan/stan/lib/stan_math/lib/boost_1.64.0/boost/numeric/odeint/util/multi_array_adaption.hpp:29,\n",
      "                 from /opt/conda/envs/py27/lib/python2.7/site-packages/pystan/stan/lib/stan_math/lib/boost_1.64.0/boost/numeric/odeint.hpp:61,\n",
      "                 from /opt/conda/envs/py27/lib/python2.7/site-packages/pystan/stan/lib/stan_math/stan/math/prim/arr/functor/integrate_ode_rk45.hpp:17,\n",
      "                 from /opt/conda/envs/py27/lib/python2.7/site-packages/pystan/stan/lib/stan_math/stan/math/prim/arr.hpp:38,\n",
      "                 from /opt/conda/envs/py27/lib/python2.7/site-packages/pystan/stan/lib/stan_math/stan/math/prim/mat.hpp:298,\n",
      "                 from /opt/conda/envs/py27/lib/python2.7/site-packages/pystan/stan/lib/stan_math/stan/math/rev/mat.hpp:12,\n",
      "                 from /opt/conda/envs/py27/lib/python2.7/site-packages/pystan/stan/src/stan/model/log_prob_grad.hpp:4,\n",
      "                 from /opt/conda/envs/py27/lib/python2.7/site-packages/pystan/stan/src/stan/model/test_gradients.hpp:7,\n",
      "                 from /opt/conda/envs/py27/lib/python2.7/site-packages/pystan/stan/src/stan/services/diagnose/diagnose.hpp:10,\n",
      "                 from /opt/conda/envs/py27/lib/python2.7/site-packages/pystan/stan_fit.hpp:22,\n",
      "                 from /tmp/tmpQQnFFl/stanfit4anon_model_15aa743a6e306b61e6880db7be28ca62_4817826288726419857.cpp:603:\n",
      "/opt/conda/envs/py27/lib/python2.7/site-packages/pystan/stan/lib/stan_math/lib/boost_1.64.0/boost/multi_array/concept_checks.hpp: In static member function ‘static void boost::multi_array_concepts::detail::idgen_helper<N>::call(Array&, const IdxGen&, Call_Type)’:\n",
      "/opt/conda/envs/py27/lib/python2.7/site-packages/pystan/stan/lib/stan_math/lib/boost_1.64.0/boost/multi_array/concept_checks.hpp:42:43: warning: typedef ‘index_range’ locally defined but not used [-Wunused-local-typedefs]\n",
      "       typedef typename Array::index_range index_range;\n",
      "                                           ^\n",
      "/opt/conda/envs/py27/lib/python2.7/site-packages/pystan/stan/lib/stan_math/lib/boost_1.64.0/boost/multi_array/concept_checks.hpp:43:37: warning: typedef ‘index’ locally defined but not used [-Wunused-local-typedefs]\n",
      "       typedef typename Array::index index;\n",
      "                                     ^\n",
      "/opt/conda/envs/py27/lib/python2.7/site-packages/pystan/stan/lib/stan_math/lib/boost_1.64.0/boost/multi_array/concept_checks.hpp: In static member function ‘static void boost::multi_array_concepts::detail::idgen_helper<0ul>::call(Array&, const IdxGen&, Call_Type)’:\n",
      "/opt/conda/envs/py27/lib/python2.7/site-packages/pystan/stan/lib/stan_math/lib/boost_1.64.0/boost/multi_array/concept_checks.hpp:53:43: warning: typedef ‘index_range’ locally defined but not used [-Wunused-local-typedefs]\n",
      "       typedef typename Array::index_range index_range;\n",
      "                                           ^\n",
      "/opt/conda/envs/py27/lib/python2.7/site-packages/pystan/stan/lib/stan_math/lib/boost_1.64.0/boost/multi_array/concept_checks.hpp:54:37: warning: typedef ‘index’ locally defined but not used [-Wunused-local-typedefs]\n",
      "       typedef typename Array::index index;\n",
      "                                     ^\n",
      "/tmp/tmpQQnFFl/stanfit4anon_model_15aa743a6e306b61e6880db7be28ca62_4817826288726419857.cpp: In function ‘PyObject* __pyx_pf_71stanfit4anon_model_15aa743a6e306b61e6880db7be28ca62_4817826288726419857_2_call_sampler(PyObject*, PyObject*, PyObject*, PyObject*)’:\n",
      "/tmp/tmpQQnFFl/stanfit4anon_model_15aa743a6e306b61e6880db7be28ca62_4817826288726419857.cpp:9155:30: warning: comparison between signed and unsigned integer expressions [-Wsign-compare]\n",
      "     __pyx_t_12 = ((__pyx_t_9 != __pyx_v_fitptr->param_names_oi().size()) != 0);\n",
      "                              ^\n",
      "In file included from /opt/conda/envs/py27/lib/python2.7/site-packages/pystan/stan/lib/stan_math/stan/math/rev/core/operator_unary_plus.hpp:7:0,\n",
      "                 from /opt/conda/envs/py27/lib/python2.7/site-packages/pystan/stan/lib/stan_math/stan/math/rev/core.hpp:36,\n",
      "                 from /opt/conda/envs/py27/lib/python2.7/site-packages/pystan/stan/lib/stan_math/stan/math/rev/mat.hpp:4,\n",
      "                 from /opt/conda/envs/py27/lib/python2.7/site-packages/pystan/stan/src/stan/model/log_prob_grad.hpp:4,\n",
      "                 from /opt/conda/envs/py27/lib/python2.7/site-packages/pystan/stan/src/stan/model/test_gradients.hpp:7,\n",
      "                 from /opt/conda/envs/py27/lib/python2.7/site-packages/pystan/stan/src/stan/services/diagnose/diagnose.hpp:10,\n",
      "                 from /opt/conda/envs/py27/lib/python2.7/site-packages/pystan/stan_fit.hpp:22,\n",
      "                 from /tmp/tmpQQnFFl/stanfit4anon_model_15aa743a6e306b61e6880db7be28ca62_4817826288726419857.cpp:603:\n",
      "/opt/conda/envs/py27/lib/python2.7/site-packages/pystan/stan/lib/stan_math/stan/math/prim/scal/fun/constants.hpp: At global scope:\n",
      "/opt/conda/envs/py27/lib/python2.7/site-packages/pystan/stan/lib/stan_math/stan/math/prim/scal/fun/constants.hpp:65:18: warning: ‘stan::math::NEGATIVE_EPSILON’ defined but not used [-Wunused-variable]\n",
      "     const double NEGATIVE_EPSILON\n",
      "                  ^\n"
     ]
    },
    {
     "name": "stderr",
     "output_type": "stream",
     "text": [
      "/opt/conda/envs/py27/lib/python2.7/site-packages/pystan/misc.py:399: FutureWarning: Conversion of the second argument of issubdtype from `float` to `np.floating` is deprecated. In future, it will be treated as `np.float64 == np.dtype(float).type`.\n",
      "  elif np.issubdtype(np.asarray(v).dtype, float):\n"
     ]
    },
    {
     "name": "stdout",
     "output_type": "stream",
     "text": [
      "Time taken to comile 'PyStan' model is 53.9179339409 seconds\n",
      "Time taken to run 'PyStan' is 0.272865056992 seconds\n"
     ]
    }
   ],
   "source": [
    "import pystan # import PyStan\n",
    "\n",
    "Nsamples = 1000 # set the number of iterations of the sampler\n",
    "chains = 4      # set the number of chains to run with\n",
    "\n",
    "# dictionary for inputs into line_code\n",
    "linedict = {}\n",
    "linedict['mmu'] = 0.0    # mean of Gaussian prior distribution for m\n",
    "linedict['msigma'] = 10  # standard deviation of Gaussian prior distribution for m\n",
    "linedict['clower'] = -10 # lower bound on uniform prior distribution for c\n",
    "linedict['cupper'] = 10  # upper bound on uniform prior distribution for c\n",
    "\n",
    "t0 = time()\n",
    "sm = pystan.StanModel(model_code=line_code.format(**linedict)); # compile model\n",
    "t1 = time()\n",
    "\n",
    "timepystancomp = (t1-t0)\n",
    "\n",
    "t0 = time()\n",
    "fit = sm.sampling(data=linear_data, iter=Nsamples, chains=chains) # perform sampling\n",
    "t1 = time()\n",
    "\n",
    "timepystan = (t1-t0)\n",
    "\n",
    "print(\"Time taken to comile 'PyStan' model is {} seconds\".format(timepystancomp))\n",
    "print(\"Time taken to run 'PyStan' is {} seconds\".format(timepystan))"
   ]
  },
  {
   "cell_type": "markdown",
   "metadata": {},
   "source": [
    "PyStan does have a plotting function (you could run `fit.plot()`), but we'll extract the chains and use `corner.py`:"
   ]
  },
  {
   "cell_type": "code",
   "execution_count": 17,
   "metadata": {},
   "outputs": [
    {
     "data": {
      "image/png": "[encoded data removed]",
      "text/plain": [
       "<matplotlib.figure.Figure at 0x7fc5c0f46810>"
      ]
     },
     "metadata": {},
     "output_type": "display_data"
    }
   ],
   "source": [
    "la = fit.extract(permuted=True)  # return a dictionary of arrays\n",
    "mchain = la['m']\n",
    "cchain = la['c']\n",
    "\n",
    "# plot using corner.py\n",
    "fig = corner.corner(np.array([mchain, cchain]).T, labels=[r'$m$', r'$c$'], truths=[m, c])"
   ]
  },
  {
   "cell_type": "markdown",
   "metadata": {},
   "source": [
    "### PyJags\n",
    "\n",
    "[PyJAGS](https://pyjags.readthedocs.io) is another wrapper to a non-Python library, in this case the [JAGS](http://mcmc-jags.sourceforge.net/) ([Plummer, 2003](http://www.ci.tuwien.ac.at/Conferences/DSC-2003/Proceedings/Plummer.pdf)). As with PyStan, you have to write a code script that is then compiled and run. To use PyJAGS you need to install JAGS, e.g. on a Debian-based system this can be done using:\n",
    "\n",
    "`sudo apt-get install jags`\n",
    "\n",
    "and then [install](https://pyjags.readthedocs.io/en/latest/getting_started.html#installation) PyJAGS using `pip` with:\n",
    "\n",
    "`pip install pyjags`\n",
    "\n",
    "> _Note_: _I had some problems with PyJAGS due to [numpy](http://www.numpy.org/) version issues, so to get it\n",
    "> working I had to install it in a [Virtual Environment](https://virtualenv.pypa.io/en/stable/), with PyJAGS getting it's required numpy version._\n",
    "\n",
    "A linear regression fitting example using PyJAGS is given [here](https://pyjags.readthedocs.io/en/latest/getting_started.html), on which this example is based.\n",
    "\n",
    "We can define the model string using (note that in this model the Gaussian/Normal distribution takes the inverse variance as the second argument, rather than the standard deviation):"
   ]
  },
  {
   "cell_type": "code",
   "execution_count": 18,
   "metadata": {},
   "outputs": [],
   "source": [
    "# create the JAGS code for the linear model\n",
    "line_code_jags = '''\n",
    "model {{\n",
    "    for (i in 1:N) {{\n",
    "        y[i] ~ dnorm(c + m * x[i], {invvar}) # Gaussian likelihood\n",
    "    }}\n",
    "    m ~ dnorm({mmu}, {minvvar})     # Gaussian prior on m\n",
    "    c ~ dunif({clower}, {cupper})   # Uniform prior on c\n",
    "}}\n",
    "'''"
   ]
  },
  {
   "cell_type": "markdown",
   "metadata": {},
   "source": [
    "You can then define the data inputs section in a dictionary:"
   ]
  },
  {
   "cell_type": "code",
   "execution_count": 19,
   "metadata": {},
   "outputs": [],
   "source": [
    "datadict = {'x': x,    # abscissa points (converted from numpy array to a list)\n",
    "            'N': M,    # number of data points\n",
    "            'y': data} # the observed data"
   ]
  },
  {
   "cell_type": "markdown",
   "metadata": {},
   "source": [
    "Now you can compile the model and run the sampler, with 1000 iterations and 4 chains, with:"
   ]
  },
  {
   "cell_type": "code",
   "execution_count": 20,
   "metadata": {},
   "outputs": [
    {
     "name": "stderr",
     "output_type": "stream",
     "text": [
      "INFO:pyjags:Using JAGS library located in /usr/lib/libjags.so.4.\n",
      "INFO:pyjags:Loading module basemod from /usr/lib/JAGS/modules-4/basemod.so\n",
      "INFO:pyjags:Loading module bugs from /usr/lib/JAGS/modules-4/bugs.so\n",
      "INFO:pyjags:Loading module lecuyer from /usr/lib/JAGS/modules-4/lecuyer.so\n"
     ]
    },
    {
     "name": "stdout",
     "output_type": "stream",
     "text": [
      "adapting: iterations 4000 of 4000, elapsed 0:00:00, remaining 0:00:00\n",
      "sampling: iterations 4000 of 4000, elapsed 0:00:00, remaining 0:00:00\n",
      "Time taken to comile 'PyJAGS' model is 0.278515815735 seconds\n",
      "Time taken to run 'PyJAGS' is 0.205311059952 seconds\n"
     ]
    }
   ],
   "source": [
    "import pyjags # import PyJAGS\n",
    "\n",
    "Nsamples = 1000 # set the number of iterations of the sampler\n",
    "chains = 4      # set the number of chains to run with\n",
    "\n",
    "# dictionary for inputs into line_code\n",
    "linedict = {}\n",
    "linedict['mmu'] = 0.0           # mean of Gaussian prior distribution for m\n",
    "linedict['minvvar'] = 1/10**2   # inverse variance of Gaussian prior distribution for m\n",
    "linedict['clower'] = -10        # lower bound on uniform prior distribution for c\n",
    "linedict['cupper'] = 10         # upper bound on uniform prior distribution for c\n",
    "linedict['invvar'] = 1/sigma**2 # inverse variance of the data\n",
    "\n",
    "# compile model\n",
    "t0 = time()\n",
    "model = pyjags.Model(line_code_jags.format(**linedict), data=datadict, chains=chains)\n",
    "t1 = time()\n",
    "\n",
    "timepyjagscomp = (t1-t0)\n",
    "\n",
    "t0 = time()\n",
    "samples = model.sample(Nsamples, vars=['m', 'c']) # perform sampling\n",
    "t1 = time()\n",
    "\n",
    "timepyjags = (t1-t0)\n",
    "\n",
    "print(\"Time taken to comile 'PyJAGS' model is {} seconds\".format(timepyjagscomp))\n",
    "print(\"Time taken to run 'PyJAGS' is {} seconds\".format(timepyjags))\n",
    "\n",
    "# remove Virtual Environment from PATH\n",
    "del sys.path[0]"
   ]
  },
  {
   "cell_type": "markdown",
   "metadata": {},
   "source": [
    "Now we can plot the samples using `corner.py`:"
   ]
  },
  {
   "cell_type": "code",
   "execution_count": 21,
   "metadata": {},
   "outputs": [
    {
     "data": {
      "image/png": "[encoded data removed]",
      "text/plain": [
       "<matplotlib.figure.Figure at 0x7fc5a94d2290>"
      ]
     },
     "metadata": {},
     "output_type": "display_data"
    }
   ],
   "source": [
    "mchainjags = samples['m'].flatten()\n",
    "cchainjags = samples['c'].flatten()\n",
    "\n",
    "# plot using corner.py\n",
    "fig = corner.corner(np.array([mchainjags, cchainjags]).T, labels=[r'$m$', r'$c$'], truths=[m, c])"
   ]
  },
  {
   "cell_type": "markdown",
   "metadata": {},
   "source": [
    "That ends our exploration of MCMC codes. We now move on to Nested Sampling!"
   ]
  },
  {
   "cell_type": "markdown",
   "metadata": {},
   "source": [
    "## Nested Sampling\n",
    "\n",
    "[Nested sampling](https://en.wikipedia.org/wiki/Nested_sampling_algorithm) ([Skilling, 2006](https://projecteuclid.org/euclid.ba/1340370944)) is a method to numerically perform the integral required to evaluate the marginal likelihood of the data given a particular model. This is not a value that is produced by most standard MCMC methods, but is a value that is very useful if wanting to do [Bayesian model comparison](https://en.wikipedia.org/wiki/Bayes_factor). Above, we defined the marginal likelihood, or _evidence_, as\n",
    "\n",
    "$$\n",
    "p(\\mathbf{d}|I) = \\int^{\\forall \\theta_i \\in \\vec{\\theta}} p(\\mathbf{d}|\\vec{\\theta},I) p(\\vec{\\theta}|I) {\\rm d}{\\theta_i},\n",
    "$$\n",
    "\n",
    "but, we can make this more explicit for a given hypothesis, or model, $H_j$, by stating:\n",
    "\n",
    "$$\n",
    "p(\\mathbf{d}|H_j, I) \\equiv Z = \\int^{\\forall \\theta_i \\in \\vec{\\theta}} p(\\mathbf{d}|\\vec{\\theta}, H_j, I) p(\\vec{\\theta}|H_j,I) {\\rm d}{\\theta_i},\n",
    "$$\n",
    "\n",
    "where previously the $H_j$ had been subsumed inside our implicit assumptions, $I$.\n",
    "\n",
    "Nested sampling algorithms generally start by drawing a set of points (sometimes called _\"live points\"_, or _\"active points\"_) from the prior distribution. It relies on these points truely being independent draws from the prior, otherwise the resulting marginal likelihood value can be biased. The likelihood is evaluated at each point, and the smallest likelihood point if found. This points is then removed from the set of live points (and goes into the sum calculating the marginal likelihood integral) and a new point is drawn from the prior with the constraint that it has a likelihood larger than the just removed point. Drawing truely independent points from this constrained prior is the main tricky part of nested sampling (particularly when the number of parameters is not small), and a variety of methods (including MCMC methods) can be used.\n",
    "\n",
    "The uncertainty on the estimate of the natural logarithm marginal likelihood, $\\ln{Z}$, can be found if the information gain (or [Kullback-Leibler divergence](https://en.wikipedia.org/wiki/Kullback%E2%80%93Leibler_divergence)), $h$, in going from the prior to the posterior is calculated. If $h$ (in [nats](https://en.wikipedia.org/wiki/Nat_%28unit%29)) is available then the uncertainty is ([Skilling, 2006](https://projecteuclid.org/euclid.ba/1340370944)):\n",
    "\n",
    "$$\n",
    "\\sqrt{\\frac{h}{N_{\\rm live}}},\n",
    "$$\n",
    "\n",
    "where $N_{\\rm live}$ is the number of live points used.\n",
    "\n",
    "> _Note_: _This is the statistical uncertainty on the value, but if there are any biases due to the sampling not being independent draws from the prior then there can be systematic uncertainties too._\n",
    "\n",
    "As well as producing a value for the marginal likelihood, a by-product of the nested sampling algorithm to to produce a set of samples that can be re-sampled from to produce samples drawn from the posterior distribution.\n",
    "\n",
    "> _Note_: _MCMC methods can be used to estimate the marginal likelihood, e.g. `emcee` can be run with a [parallel tempering sampling method](http://dfm.io/emcee/current/user/pt/) and compute the evidence using thermodynamic integration (e.g., [Goggans & Chi, 2004](http://aip.scitation.org/doi/abs/10.1063/1.1751356)), or potentially using Slice sampling with PyMC3._\n",
    "\n",
    "As with MCMC, there are various codes available to perform the nested sampling algorithm. We will again look at pure Python implementations and some that are wrappers to other libraries. "
   ]
  },
  {
   "cell_type": "markdown",
   "metadata": {},
   "source": [
    "### Nestle\n",
    "\n",
    "[Nestle](http://kylebarbary.com/nestle/) is a pure Python nested sampling algorithm. It has three options for the method with which it draws new samples: [\"classic\"](http://kylebarbary.com/nestle/#mcmc-exploration-method-classic), [\"single ellipsoid\"](http://kylebarbary.com/nestle/#single-ellipsoid-method-single), and [\"multiple ellipsoids](http://kylebarbary.com/nestle/#multiple-ellipsoids-method-multi). In this example we'll make use of the last of these. This uses the MultiNest method (also see [PyMultiNest below](#PyMultiNest)) ([Feroz _et al_, 2009](https://arxiv.org/abs/0809.3437)) in which the current live points are clustered (however, clustering is not re-done at every iteration of the algorithm), ellipsoids completely bounding each cluster are found, an ellipsoid is randomly chosen with a probability proportional to their volume, and a new sample is drawn uniformly from it.\n",
    "\n",
    "Nestle is available on PyPI and installable using `pip` with: `pip install nestle`. The source code is available [here](https://github.com/kbarbary/nestle).\n",
    "\n",
    "The set up of likelihood functions is quite similar to that for [`emcee`](#emcee), but the prior that is used is a unit hypercube (an $n$-dimensional cube with all sides equal to one), so parameters must be mapped into this space. This is simple for uniform priors, but requires a [re-parameterisation](https://en.wikipedia.org/wiki/Probability_density_function#Dependent_variables_and_change_of_variables) using a [Jacobian](https://en.wikipedia.org/wiki/Jacobian_matrix_and_determinant) for more complex priors (if possible).\n",
    "\n",
    "For our Gaussian prior on $m$ we can't analytically re-parameterise it for a unit hypercube, however we can use [inverse transform sampling](https://en.wikipedia.org/wiki/Inverse_transform_sampling) to take samples from a uniform range between 0 and 1, and convert them back to a Gaussian, e.g.\n",
    "\n",
    "$$\n",
    "m = \\mu_m + \\sqrt{2}\\sigma_m {\\rm erf}^{-1}\\left(2c - 1\\right),\n",
    "$$\n",
    "\n",
    "where $c \\sim {\\rm Uniform}(0,1)$ and ${\\rm erf}^{-1}$ is the [inverse error function](https://en.wikipedia.org/wiki/Error_function#Inverse_functions). As [shown in the Nestle documentation](http://kylebarbary.com/nestle/prior.html#non-uniform-priors) we can use the [`scipy.special.ndtri`](https://docs.scipy.org/doc/scipy/reference/generated/scipy.special.ndtri.html#scipy.special.ndtri) function for this.\n",
    "\n",
    "An example of using Nestle for the linear regression problem, but with uniform priors on both parameters, is given [here](http://kylebarbary.com/nestle/examples/plot_line.html#sphx-glr-examples-plot-line-py).\n",
    "\n",
    "#### Setting the prior transform\n",
    "\n",
    "Given the above description, rather than setting a prior function, we set a [prior transformation function](http://kylebarbary.com/nestle/prior.html) that maps from parameters drawn from the unit hypercube into the true parameters."
   ]
  },
  {
   "cell_type": "code",
   "execution_count": 22,
   "metadata": {},
   "outputs": [],
   "source": [
    "# import the inverse error function from scipy\n",
    "from scipy.special import ndtri\n",
    "\n",
    "def prior_transform(theta):\n",
    "    \"\"\"\n",
    "    A function defining the tranform between the parameterisation in the unit hypercube\n",
    "    to the true parameters.\n",
    "    \n",
    "    Args:\n",
    "        theta (tuple): a tuple containing the parameters.\n",
    "        \n",
    "    Returns:\n",
    "        tuple: a new tuple or array with the transformed parameters.\n",
    "    \"\"\"\n",
    "    \n",
    "    mprime, cprime = theta # unpack the parameters (in their unit hypercube form)\n",
    "\n",
    "    cmin = -10.  # lower bound on uniform prior on c\n",
    "    cmax = 10.   # upper bound on uniform prior on c\n",
    "\n",
    "    mmu = 0.     # mean of Gaussian prior on m\n",
    "    msigma = 10. # standard deviation of Gaussian prior on m\n",
    "\n",
    "    m = mmu + msigma*ndtri(mprime) # convert back to m\n",
    "    c = cprime*(cmax-cmin) + cmin  # convert back to c\n",
    "    \n",
    "    return (m, c)"
   ]
  },
  {
   "cell_type": "markdown",
   "metadata": {},
   "source": [
    "#### Setting the likelihood function\n",
    "\n",
    "This is similar to setting the likelihood function for [`emcee`](#Likelihood) except, as we're calculating the marginal likelihood, we will keep the normalisation constants. As before, we work with the natural logarithm of the likelihood function. The function can only take in a tuple variable containing the parameter values, so any additional required values must be hard coded, or set as global variables."
   ]
  },
  {
   "cell_type": "code",
   "execution_count": 23,
   "metadata": {},
   "outputs": [],
   "source": [
    "# set the natural logarithm of 2pi, so that it doesn't have to be recalculated\n",
    "LN2PI = np.log(2.*np.pi)\n",
    "LNSIGMA = np.log(sigma) # natural log of the data noise standard deviation\n",
    "\n",
    "def loglikelihood_nestle(theta):\n",
    "    \"\"\"\n",
    "    The log-likelihood function.\n",
    "    \"\"\"\n",
    "\n",
    "    m, c = theta # unpack the parameters\n",
    "\n",
    "    # normalisation\n",
    "    norm = -0.5*M*LN2PI - M*LNSIGMA\n",
    "\n",
    "    # chi-squared (data, sigma and x are global variables defined early on in this notebook)\n",
    "    chisq = np.sum(((data-straight_line(x, m, c))/sigma)**2)\n",
    "\n",
    "    return norm - 0.5*chisq"
   ]
  },
  {
   "cell_type": "markdown",
   "metadata": {},
   "source": [
    "Now run the sampler. We'll use 1024 live/active points (there's nothing special about this number, and powers of two are not required). The more live points you use the longer the code will take to run, but the uncertainty on the final marginal likelihood value will decrease with greater numbers of live points. \n",
    "\n",
    "Unlike with MCMCs where you give it a number of iterations to run and after that point it stops, nested sampling needs to be supplied with a [stopping criterion](http://kylebarbary.com/nestle/stopping.html) at which point it will terminate. One common [criterion](http://kylebarbary.com/nestle/stopping.html#estimated-remaining-evidence) is based on the ratio between an estimate of the total evidence and the current calculated evidence value. Once this value gets below some set value the algorithm will terminate."
   ]
  },
  {
   "cell_type": "code",
   "execution_count": 24,
   "metadata": {},
   "outputs": [
    {
     "name": "stdout",
     "output_type": "stream",
     "text": [
      "Time taken to run 'Nestle' is 1.67511081696 seconds\n"
     ]
    }
   ],
   "source": [
    "# import nestle\n",
    "import nestle\n",
    "\n",
    "nlive = 1024     # number of live points\n",
    "method = 'multi' # use MutliNest algorithm\n",
    "ndims = 2        # two parameters\n",
    "tol= 0.5         # the stopping criterion (this is the nestle default, so doesn't need to be set)\n",
    "\n",
    "t0 = time()\n",
    "res = nestle.sample(loglikelihood_nestle, prior_transform, ndims, method=method, npoints=nlive)\n",
    "t1 = time()\n",
    "\n",
    "timenestle = (t1-t0)\n",
    "\n",
    "print(\"Time taken to run 'Nestle' is {} seconds\".format(timenestle))"
   ]
  },
  {
   "cell_type": "markdown",
   "metadata": {},
   "source": [
    "We can extract the value of the marginal likelihood, $\\ln{Z}$, and its uncertainties with the following:"
   ]
  },
  {
   "cell_type": "code",
   "execution_count": 25,
   "metadata": {},
   "outputs": [
    {
     "name": "stdout",
     "output_type": "stream",
     "text": [
      "log(Z) = -71.4996226293 ± 0.101359612915\n"
     ]
    }
   ],
   "source": [
    "logZnestle = res.logz                         # value of logZ\n",
    "infogainnestle = res.h                        # value of the information gain in nats\n",
    "logZerrnestle = np.sqrt(infogainnestle/nlive) # estimate of the statistcal uncertainty on logZ\n",
    "\n",
    "print(u'log(Z) = {} \\u00B1 {}'.format(logZnestle, logZerrnestle))"
   ]
  },
  {
   "cell_type": "markdown",
   "metadata": {},
   "source": [
    "A summary of the above values can also be output using:"
   ]
  },
  {
   "cell_type": "code",
   "execution_count": 26,
   "metadata": {},
   "outputs": [
    {
     "name": "stdout",
     "output_type": "stream",
     "text": [
      "niter: 12640\n",
      "ncall: 20597\n",
      "nsamples: 13664\n",
      "logz: -71.500 +/-  0.101\n",
      "h: 10.520\n"
     ]
    }
   ],
   "source": [
    "print(res.summary())"
   ]
  },
  {
   "cell_type": "markdown",
   "metadata": {},
   "source": [
    "As mentioned above the samples output by nested sampling are not drawn from the posterior, and as such need to be resampled from using certain weights. These weights are output by Nestle in the results. We can get posterior samples with the following:"
   ]
  },
  {
   "cell_type": "code",
   "execution_count": 27,
   "metadata": {},
   "outputs": [
    {
     "name": "stdout",
     "output_type": "stream",
     "text": [
      "Number of posterior samples is 2421\n"
     ]
    }
   ],
   "source": [
    "# re-scale weights to have a maximum of one\n",
    "nweights = res.weights/np.max(res.weights)\n",
    "\n",
    "# get the probability of keeping a sample from the weights\n",
    "keepidx = np.where(np.random.rand(len(nweights)) < nweights)[0]\n",
    "\n",
    "# get the posterior samples\n",
    "postsamps_nestle = res.samples[keepidx,:]\n",
    "\n",
    "print('Number of posterior samples is {}'.format(len(postsamps_nestle)))"
   ]
  },
  {
   "cell_type": "markdown",
   "metadata": {},
   "source": [
    "Now we can plot the posteriors:"
   ]
  },
  {
   "cell_type": "code",
   "execution_count": 28,
   "metadata": {},
   "outputs": [
    {
     "data": {
      "image/png": "[encoded data removed]",
      "text/plain": [
       "<matplotlib.figure.Figure at 0x7fc5a3aba510>"
      ]
     },
     "metadata": {},
     "output_type": "display_data"
    }
   ],
   "source": [
    "mchain_nestle = postsamps_nestle[:,0] # extract chain of m values\n",
    "cchain_nestle = postsamps_nestle[:,1] # extract chain if c values\n",
    "\n",
    "fig = corner.corner(postsamps_nestle, labels=[\"$m$\", \"$c$\"], truths=[m, c])"
   ]
  },
  {
   "cell_type": "markdown",
   "metadata": {},
   "source": [
    "### CPNest\n",
    "\n",
    "[CPNest](https://johnveitch.github.io/cpnest/) ([Veitch & del Pozzo, 2017](http://doi.org/10.5281/zenodo.835874)) is another pure Python nested sampling algorithm. To perform the sampling from the restricted prior it uses a [Metropolis-Hastings](https://en.wikipedia.org/wiki/Metropolis%E2%80%93Hastings_algorithm) based MCMC, with sample proposal distributions that use a combination of the affine invarient ensemble methods described for [`emcee`](#emcee) ([Goodman & Weare, 2010](https://msp.org/camcos/2010/5-1/p04.xhtml)), [differential evolution](https://en.wikipedia.org/wiki/Differential_evolution), or jumps based on the eigenvectors of the covariance matrix of live points.\n",
    "\n",
    "CPNest is available on PyPI and can be installed using `pip` with: `pip install cpnest`. The source code is available [here](https://github.com/johnveitch/cpnest/).\n",
    "\n",
    "To run CPNest we have to define a class containing the likelihood and prior functions. CPNest also requires explicit bounds on all parameters from which it will uniformly draw an initial set of live points. Prior to running the nested sampling algorithm, it will run an MCMC using the prior as the target distribution to make sure the samples are drawn from the required prior."
   ]
  },
  {
   "cell_type": "code",
   "execution_count": 29,
   "metadata": {},
   "outputs": [],
   "source": [
    "# import the Model class from CPNest\n",
    "from cpnest.model import Model\n",
    "\n",
    "LN2PI = np.log(2.*np.pi)\n",
    "\n",
    "# set the model, likelihood and prior\n",
    "class StraightLineModel(Model):\n",
    "    \"\"\"\n",
    "    A simple straight line model, with a Gaussian likelihood.\n",
    "    \n",
    "    Args:\n",
    "        data (:class:`numpy.ndarray`): an array containing the observed data\n",
    "        abscissa (:class:`numpy.ndarray`): an array containing the points at which the data were taken\n",
    "        modelfunc (function): a function defining the model\n",
    "        sigma (float): the standard deviation of the noise in the data\n",
    "        \n",
    "    \"\"\"\n",
    "    names = ['m','c'] # parameter names (this is a required variables for the class)\n",
    "    \n",
    "    # define the boundaries using for initial sampling of the live points\n",
    "    cmin = -10.  # lower range on c (the same as the uniform c prior lower bound)\n",
    "    cmax = 10.   # upper range on c (the same as the uniform c prior upper bound)\n",
    "    \n",
    "    mmu = 0.     # mean of the Gaussian prior on m\n",
    "    msigma = 10. # standard deviation of the Gaussian prior on m\n",
    "    \n",
    "    cbounds = [cmin, cmax]\n",
    "    # set the m bounds to be +/- 10sigma about the mean\n",
    "    mbounds = [mmu-10.*msigma, mmu+10.*msigma]\n",
    "    \n",
    "    # NOTE: the bounds could instead be set through arguments pass to the __init__\n",
    "    # function for the class if wanted\n",
    "    bounds=[mbounds, cbounds] # upper and lower bounds on each parameter (required for the class)\n",
    "    \n",
    "    def __init__(self, data, abscissa, modelfunc, sigma):\n",
    "        # set the data\n",
    "        self._data = data         # oberserved data\n",
    "        self._abscissa = abscissa # points at which the observed data are taken\n",
    "        self._sigma = sigma       # standard deviation(s) of the data\n",
    "        self._logsigma = np.log(sigma) # log sigma here to save computations in the likelihood\n",
    "        self._ndata = len(data)   # number of data points\n",
    "        self._model = modelfunc   # model function\n",
    "        \n",
    "    def log_likelihood(self, params):\n",
    "        \"\"\"\n",
    "        The natural logarithm of the likelihood function.\n",
    "        \n",
    "        Args:\n",
    "            params (dict): a dictionary keyed to the parameter names.\n",
    "            \n",
    "        Returns:\n",
    "            float: the log likelihood value.\n",
    "        \"\"\"\n",
    "        # extract the parameters\n",
    "        m = params['m']\n",
    "        c = params['c']\n",
    "        \n",
    "        # calculate the model\n",
    "        model = self._model(x, m, c)\n",
    "            \n",
    "        # normalisation\n",
    "        norm = -0.5*self._ndata*LN2PI - self._ndata*self._logsigma\n",
    "            \n",
    "        # chi-squared\n",
    "        chisq = np.sum(((self._data - model)/(self._sigma))**2)\n",
    "        \n",
    "        return norm - 0.5*chisq\n",
    "\n",
    "    def log_prior(self,p):\n",
    "        \"\"\"\n",
    "        The natural logarithm of the prior function.\n",
    "        \n",
    "        Args:\n",
    "            p (dict): a dictionary keyed to parameter names.\n",
    "            \n",
    "        Returns:\n",
    "            float: The log prior value.\n",
    "        \"\"\"\n",
    "        # the uniform priors are dealt with by just checking that we're within the bounds\n",
    "        if not self.in_bounds(p): return -np.inf # check parameters are all in bounds\n",
    "        \n",
    "        # Gaussian prior on m\n",
    "        lp = 0.\n",
    "        m = p['m']\n",
    "        lp -= 0.5*((m-self.mmu)/self.msigma)**2 # no need for normalisation constant on the prior\n",
    "\n",
    "        return lp"
   ]
  },
  {
   "cell_type": "markdown",
   "metadata": {},
   "source": [
    "We can now run CPNest. As with Nestle we will use 1024 live points. CPNest can use mutltiple CPU cores, but we'll set it to use one to be comparable to the other tests. The number of iterations used for the MCMC sampling is automatically worked out within the code by calculating autocorrelation lengths to see how many iterations are needed to produce independent samples, but a maximum chain length can also be set. We'll set this to 1024. As with Nestle a stopping criterion is required, which for CPNest is defined in the same way as Nestle. However, the current CPNest default is 0.1 and this cannot be altered by the user."
   ]
  },
  {
   "cell_type": "code",
   "execution_count": 30,
   "metadata": {},
   "outputs": [
    {
     "name": "stdout",
     "output_type": "stream",
     "text": [
      "Running with 1 parallel threads\n"
     ]
    },
    {
     "name": "stderr",
     "output_type": "stream",
     "text": [
      "Sampler process 924, exiting\n"
     ]
    },
    {
     "name": "stdout",
     "output_type": "stream",
     "text": [
      "Final evidence: -71.53\n",
      "Information: 10.50\n",
      "Time taken to run 'CPNest' is 17.091146946 seconds\n"
     ]
    }
   ],
   "source": [
    "# import cpnest\n",
    "import cpnest\n",
    "\n",
    "nlive = 1024      # number of live point\n",
    "maxmcmc = 1024    # maximum MCMC chain length\n",
    "nthreads = 1      # use one CPU core\n",
    "\n",
    "# set up the algorithm\n",
    "work = cpnest.CPNest(StraightLineModel(data, x, straight_line, sigma), verbose=0,\n",
    "                     Nthreads=nthreads, Nlive=nlive, maxmcmc=maxmcmc)\n",
    "# run the algorithm\n",
    "t0 = time()\n",
    "work.run()\n",
    "t1 = time()\n",
    "\n",
    "timecpnest = (t1-t0)\n",
    "\n",
    "print(\"Time taken to run 'CPNest' is {} seconds\".format(timecpnest))"
   ]
  },
  {
   "cell_type": "markdown",
   "metadata": {},
   "source": [
    "We can again extract the value of $\\ln{Z}$ and its uncertainty. One simple bit of model comparison that we may want to do is compare the evidence for the model of the data containg a straight line (with the given priors on the parameter), with the evidence for a model that the data just contains independent Gaussian noise with the given standard deviation. We can calculate the latter evidence easily by just setting the model to zero in the log-likelihood function, e.g.:\n",
    "\n",
    "$$\n",
    "\\ln{Z}_{\\rm noise} = -\\frac{M}{2}\\ln{(2\\pi)} - \\ln\\left(\\prod_{i=1}^M \\sigma_i\\right) - \\sum_{i=1}^M\\frac{d_i^2}{2\\sigma_i^2}.\n",
    "$$\n",
    "\n",
    "The natural logarithm of the [Bayes factor](https://en.wikipedia.org/wiki/Bayes_factor) comparing the two models is then:\n",
    "\n",
    "$$\n",
    "\\ln{\\mathcal{B}} = \\ln{Z} - \\ln{Z}_{\\rm noise}.\n",
    "$$\n",
    "\n",
    "We will also extract this value."
   ]
  },
  {
   "cell_type": "code",
   "execution_count": 31,
   "metadata": {},
   "outputs": [
    {
     "name": "stdout",
     "output_type": "stream",
     "text": [
      "log(Z) = -71.533113469 ± 0.101278594942\n",
      "log Bayes factor is 89423.9707581\n"
     ]
    }
   ],
   "source": [
    "logZcpnest = work.NS.logZ                     # value of log Z\n",
    "infogaincpnest = work.NS.state.info           # value of the information gain\n",
    "logZerrcpnest = np.sqrt(infogaincpnest/nlive) # estimate of the statistcal uncertainty on logZ\n",
    "\n",
    "# get the null log likelihood (evidence that the data is Gaussian noise with zero mean, and given standard devaition)\n",
    "logZnull = work.user.log_likelihood({'m': 0., 'c': 0.})\n",
    "\n",
    "print(u'log(Z) = {} \\u00B1 {}'.format(logZcpnest, logZerrcpnest))\n",
    "\n",
    "# output the log Bayes factor\n",
    "print('log Bayes factor is {}'.format(logZcpnest - logZnull))"
   ]
  },
  {
   "cell_type": "markdown",
   "metadata": {},
   "source": [
    "CPNest will itself resample from the nested samples to give posterior samples held in a dictionary, which we can plot."
   ]
  },
  {
   "cell_type": "code",
   "execution_count": 32,
   "metadata": {},
   "outputs": [
    {
     "name": "stdout",
     "output_type": "stream",
     "text": [
      "Number of posterior samples is 1\n"
     ]
    },
    {
     "data": {
      "image/png": "[encoded data removed]",
      "text/plain": [
       "<matplotlib.figure.Figure at 0x7fc5a3a91310>"
      ]
     },
     "metadata": {},
     "output_type": "display_data"
    }
   ],
   "source": [
    "mchain_cpnest = work.posterior_samples['m'] # extract chain of m values\n",
    "cchain_cpnest = work.posterior_samples['c'] # extract chain if c values\n",
    "\n",
    "# print out the number of posterior samples\n",
    "print('Number of posterior samples is {}'.format(len(mchain_cpnest)))\n",
    "\n",
    "# plot using corner.py\n",
    "fig = corner.corner(np.vstack((mchain_cpnest, cchain_cpnest)).T, labels=[\"$m$\", \"$c$\"], truths=[m, c])"
   ]
  },
  {
   "cell_type": "markdown",
   "metadata": {},
   "source": [
    "We will now look at some nested sampling algorithms that are not pure Python, but do have Python wrappers.\n",
    "\n",
    "### PyMultiNest\n",
    "\n",
    "[PyMultiNest](http://johannesbuchner.github.io/PyMultiNest/) ([Buchner _et al_, 2014](https://www.aanda.org/articles/aa/abs/2014/04/aa22971-13/aa22971-13.html)) is a wrapper to the popular [MultiNest](https://ccpforge.cse.rl.ac.uk/gf/project/multinest/) code ([Feroz & Hobson, 2008](http://xxx.lanl.gov/abs/0704.3704) & [Feroz _et al_, 2009](http://xxx.lanl.gov/abs/0704.3704)), which has been particularly taken up by the astrophysics and cosmology community. The basics underlying MultiNest were described in relation to [Nestle](#Nestle), although MultiNest can use more sophisticated sampling methods, such as importance sampling ([Feroz _et al_, 2014](http://xxx.lanl.gov/abs/1306.2144v2)).\n",
    "\n",
    "To use PyMultiNest, the MultiNest library itself must be installed. MultiNest can be downloaded from [here](https://ccpforge.cse.rl.ac.uk/gf/project/multinest/), although you must have registered an account with [CCPForge](https://ccpforge.cse.rl.ac.uk/gf/) to download the file. If you have the file, e.g., `MultiNest_v3.10_CMake.tar.gz`, then you can unzip the tarball with:\n",
    "\n",
    "```bash\n",
    "tar -xvzf MultiNest_v3.10_CMake.tar.gz\n",
    "```\n",
    "\n",
    "You can then compile it using [CMake](https://cmake.org/), with the following:\n",
    "\n",
    "```bash\n",
    "cd MultiNest_v3.9_CMake/multinest/build\n",
    "cmake ..\n",
    "make\n",
    "```\n",
    "\n",
    "and install it (to `/usr/local/` by default) with\n",
    "\n",
    "```bash\n",
    "sudo make install\n",
    "```\n",
    "\n",
    "You can then install PyMultiNest using `pip` with:\n",
    "\n",
    "```bash\n",
    "pip install pymultinest\n",
    "```\n",
    "\n",
    "> **Note**: this example works with MultiNest version **3.10** and PyMultiNest [version **2.6**](https://pypi.python.org/pypi/pymultinest/2.6), but has not been tested for any other versions. If using MultiNest, and software wrapping it, for your work please note the software license restrictions [here](http://www.mrao.cam.ac.uk/~ff235/MultiNest_License.pdf). \n",
    "\n",
    "Some examples of running PyMultiNest can be found [here](http://johannesbuchner.github.io/pymultinest-tutorial/), although an interface through a [`solver` function](https://github.com/JohannesBuchner/PyMultiNest/blob/master/pymultinest_demo.py) and [`Solver` class](https://github.com/JohannesBuchner/PyMultiNest/blob/master/pymultinest_solver_demo.py) are also available. We'll use the `Solver` class method, which can take in the same initialisation keyword arguments as the [`run()` method](http://johannesbuchner.github.io/PyMultiNest/pymultinest_run.html).\n",
    "\n",
    "We use the `Solver` class to create a new class for our specific example. As with [CPNest](#CPNest) we use this class to define our log likeihood function, and like [Nestle](#Nestle) we define a prior transform to go from a unit hypercube to the true parameterisation. These functions can only take in arrays of the parameter values that we are exploring and cannot take in additional arguments. Therefore any additional values required must either be global variables, or a new `__init__` method for the class must be defined. We'll show the latter of these.\n",
    "\n",
    "> _Note_: _PyMultiNest is also available in Python through the_ [Monte Python](http://monte-python.readthedocs.io/en/latest/nested.html) _package._"
   ]
  },
  {
   "cell_type": "code",
   "execution_count": 33,
   "metadata": {},
   "outputs": [],
   "source": [
    "# import the Solver class\n",
    "from pymultinest.solve import Solver\n",
    "from scipy.special import ndtri\n",
    "\n",
    "LN2PI = np.log(2.*np.pi)\n",
    "\n",
    "class StraightLineModelPyMultiNest(Solver):\n",
    "    \"\"\"\n",
    "    A simple straight line model, with a Gaussian likelihood.\n",
    "    \n",
    "    Args:\n",
    "        data (:class:`numpy.ndarray`): an array containing the observed data\n",
    "        abscissa (:class:`numpy.ndarray`): an array containing the points at which the data were taken\n",
    "        modelfunc (function): a function defining the model\n",
    "        sigma (float): the standard deviation of the noise in the data\n",
    "        **kwargs: keyword arguments for the run method\n",
    "    \"\"\"\n",
    "    \n",
    "    # define the prior parameters\n",
    "    cmin = -10.  # lower range on c (the same as the uniform c prior lower bound)\n",
    "    cmax = 10.   # upper range on c (the same as the uniform c prior upper bound)\n",
    "    \n",
    "    mmu = 0.     # mean of the Gaussian prior on m\n",
    "    msigma = 10. # standard deviation of the Gaussian prior on m\n",
    "    \n",
    "    def __init__(self, data, abscissa, modelfunc, sigma, **kwargs):\n",
    "        # set the data\n",
    "        self._data = data         # oberserved data\n",
    "        self._abscissa = abscissa # points at which the observed data are taken\n",
    "        self._sigma = sigma       # standard deviation(s) of the data\n",
    "        self._logsigma = np.log(sigma) # log sigma here to save computations in the likelihood\n",
    "        self._ndata = len(data)   # number of data points\n",
    "        self._model = modelfunc   # model function\n",
    "\n",
    "        Solver.__init__(self, **kwargs)\n",
    "\n",
    "    def Prior(self, cube):\n",
    "        \"\"\"\n",
    "        The prior transform going from the unit hypercube to the true parameters. This function\n",
    "        has to be called \"Prior\".\n",
    "        \n",
    "        Args:\n",
    "            cube (:class:`numpy.ndarray`): an array of values drawn from the unit hypercube\n",
    "            \n",
    "        Returns:\n",
    "            :class:`numpy.ndarray`: an array of the transformed parameters\n",
    "        \"\"\"\n",
    "        \n",
    "        # extract values\n",
    "        mprime = cube[0]\n",
    "        cprime = cube[1]\n",
    "        \n",
    "        m = self.mmu + self.msigma*ndtri(mprime)      # convert back to m\n",
    "        c = cprime*(self.cmax-self.cmin) + self.cmin  # convert back to c\n",
    "        \n",
    "        return np.array([m, c])\n",
    "\n",
    "    def LogLikelihood(self, cube):\n",
    "        \"\"\"\n",
    "        The log likelihood function. This function has to be called \"LogLikelihood\".\n",
    "        \n",
    "        Args:\n",
    "            cube (:class:`numpy.ndarray`): an array of parameter values.\n",
    "            \n",
    "        Returns:\n",
    "            float: the log likelihood value.\n",
    "        \"\"\"\n",
    "\n",
    "        # extract parameters\n",
    "        m = cube[0]\n",
    "        c = cube[1]\n",
    "        \n",
    "        # calculate the model\n",
    "        model = self._model(x, m, c)\n",
    "            \n",
    "        # normalisation\n",
    "        norm = -0.5*self._ndata*LN2PI - self._ndata*self._logsigma\n",
    "            \n",
    "        # chi-squared\n",
    "        chisq = np.sum(((self._data - model)/(self._sigma))**2)\n",
    "        \n",
    "        return norm - 0.5*chisq"
   ]
  },
  {
   "cell_type": "markdown",
   "metadata": {},
   "source": [
    "Now we can run the sampler. As before we'll use 1024 live points, and like with [Nestle](#Nestle) we'll use a stopping criterion of 0.5. By default the sampler will use importance sampling."
   ]
  },
  {
   "cell_type": "code",
   "execution_count": 34,
   "metadata": {},
   "outputs": [
    {
     "name": "stdout",
     "output_type": "stream",
     "text": [
      "  analysing data from /tmp/tmp6KTqrwpymultinest/.txt\n",
      "Time taken to run 'PyMultiNest' is 4.95430016518 seconds\n"
     ]
    }
   ],
   "source": [
    "nlive = 1024 # number of live points\n",
    "ndim = 2     # number of parameters\n",
    "tol = 0.5    # stopping criterion\n",
    "\n",
    "# run the algorithm\n",
    "t0 = time()\n",
    "solution = StraightLineModelPyMultiNest(data, x, straight_line, sigma, n_dims=ndim,\n",
    "                                        n_live_points=nlive, evidence_tolerance=tol)\n",
    "t1 = time()\n",
    "\n",
    "timepymultinest = (t1-t0)\n",
    "\n",
    "print(\"Time taken to run 'PyMultiNest' is {} seconds\".format(timepymultinest))"
   ]
  },
  {
   "cell_type": "markdown",
   "metadata": {},
   "source": [
    "Now we can extract the value of $\\ln{Z}$ and its uncertainty."
   ]
  },
  {
   "cell_type": "code",
   "execution_count": 35,
   "metadata": {},
   "outputs": [
    {
     "name": "stdout",
     "output_type": "stream",
     "text": [
      "log(Z) = -71.3519460926 ± 0.100583882022\n"
     ]
    }
   ],
   "source": [
    "logZpymnest = solution.logZ        # value of log Z\n",
    "logZerrpymnest = solution.logZerr  # estimate of the statistcal uncertainty on logZ\n",
    "\n",
    "print(u'log(Z) = {} \\u00B1 {}'.format(logZpymnest, logZerrpymnest))"
   ]
  },
  {
   "cell_type": "markdown",
   "metadata": {},
   "source": [
    "These solutions, and the mean and standard deviation of the $m$ and $c$ parameters, can also be shown by using:"
   ]
  },
  {
   "cell_type": "code",
   "execution_count": 36,
   "metadata": {},
   "outputs": [
    {
     "name": "stdout",
     "output_type": "stream",
     "text": [
      "Model in \"(temporary directory)\" (2 dimensions)\n",
      "Evidence ln Z = -71.4 +- 0.1\n",
      "Parameter values:\n",
      "   Parameter  1 : 3.503 +- 0.017\n",
      "   Parameter  2 : 1.230 +- 0.099\n"
     ]
    }
   ],
   "source": [
    "print(solution)"
   ]
  },
  {
   "cell_type": "markdown",
   "metadata": {},
   "source": [
    "We can extract and plot the posteriors. The `solution.samples` value contains an array of the posterior samples rather than the nested samples, so no resamping is required."
   ]
  },
  {
   "cell_type": "code",
   "execution_count": 37,
   "metadata": {},
   "outputs": [
    {
     "name": "stdout",
     "output_type": "stream",
     "text": [
      "Number of posterior samples is 3555\n"
     ]
    },
    {
     "data": {
      "image/png": "[encoded data removed]",
      "text/plain": [
       "<matplotlib.figure.Figure at 0x7fc5ab2ef2d0>"
      ]
     },
     "metadata": {},
     "output_type": "display_data"
    }
   ],
   "source": [
    "mchain_pymnest = solution.samples[:,0] # extract chain of m values\n",
    "cchain_pymnest = solution.samples[:,1] # extract chain if c values\n",
    "\n",
    "# print out the number of posterior samples\n",
    "print('Number of posterior samples is {}'.format(len(mchain_pymnest)))\n",
    "\n",
    "# plot using corner.py\n",
    "fig = corner.corner(np.array([mchain_pymnest, cchain_pymnest]).T, labels=[\"$m$\", \"$c$\"], truths=[m, c])"
   ]
  },
  {
   "cell_type": "markdown",
   "metadata": {},
   "source": [
    "### DNest4\n",
    "\n",
    "[DNest4](https://github.com/eggplantbren/DNest4) ([Brewer & Foreman-Mackey, 2016](https://arxiv.org/abs/1606.03757), [Brewer _et al_, 2011](https://arxiv.org/abs/0912.2380))"
   ]
  },
  {
   "cell_type": "markdown",
   "metadata": {},
   "source": [
    "### PolyChord\n",
    "\n",
    "[PolyChord](https://ccpforge.cse.rl.ac.uk/gf/project/polychord/) ([Handley _et al_, 2015](https://arxiv.org/abs/1502.01856))\n",
    "\n",
    "The PolyChord package itself provides a Python interface for using the algorithm. PolyChord can be downloaded from [here](), and as with MultiNest it requires a [CCPForge](https://ccpforge.cse.rl.ac.uk/gf/) login. It does not use a very sophisticated installation method, so I would recommend just installing it somewhere in your home directory (or in a [Virtual Environment](https://virtualenv.pypa.io/en/stable/)) rather than trying a system-wide installation. If you have the source tarball `PolyChord_v1.9.tar.gz`, then you can unzip it with\n",
    "\n",
    "```bash\n",
    "tar -xvzf PolyChord_v1.9.tar.gz\n",
    "```\n",
    "\n",
    "which extracts it into a `PolyChord` directory. Then you can run\n",
    "\n",
    "```bash\n",
    "cd PolyChord\n",
    "make PyPolyChord\n",
    "```\n",
    "\n",
    "You need to set the path to the library, so if you use `bash` this can be done (assuming you're still in the `PolyChord` directory) with\n",
    "\n",
    "```bash\n",
    "export LD_LIBRARY_PATH=$LD_LIBRARY_PATH:$PWD/lib\n",
    "```\n",
    "\n",
    "If you have MPI enabled you may also need to set\n",
    "\n",
    "```bash\n",
    "export LD_PRELOAD=/usr/lib/openmpi/lib/libmpi.so:$LD_PRELOAD\n",
    "```\n",
    "\n",
    "where the exact path to point to may vary depending on the MPI library install location on you system (this location works if using [Ubuntu 16.04](http://releases.ubuntu.com/16.04/)). To check that the installation if working you can run the script:\n",
    "\n",
    "```bash\n",
    "python run_PyPolyChord.py\n",
    "```\n",
    "\n",
    "To make PyPolyChord available as a Python module in other scripts you need to add its location to your `PYTHONPATH`, e.g. from within the `PolyChord` directory use\n",
    "\n",
    "```bash\n",
    "export PYTHONPATH=${PYTHONPATH}:${PWD}/PyPolyChord\n",
    "```\n",
    "\n",
    "> **Note**: this example works with PolyChord version 1.9, but has not been tested for any other versions.\n",
    "\n",
    "As with [Nestle](#Nestle) and [PyMultiNest](#PyMultiNest) PolyChord samples from a unit hypercube, so you need to define a prior transform function. We also need a log likelihood function. These can be identical to those used for [Nestle](#Nestle), but we'll defined them again here. Values such as the data array cannot be passed to the functions explicitly, so must be "
   ]
  },
  {
   "cell_type": "code",
   "execution_count": 38,
   "metadata": {},
   "outputs": [],
   "source": [
    "def prior_transform_polychord(theta):\n",
    "    \"\"\"\n",
    "    A function defining the tranform between the parameterisation in the unit hypercube\n",
    "    to the true parameters.\n",
    "    \n",
    "    Args:\n",
    "        theta (tuple): a tuple containing the parameters.\n",
    "        \n",
    "    Returns:\n",
    "        tuple: a new tuple or array with the transformed parameters.\n",
    "    \"\"\"\n",
    "    \n",
    "    mprime, cprime = theta # unpack the parameters (in their unit hypercube form)\n",
    "\n",
    "    cmin = -10.  # lower bound on uniform prior on c\n",
    "    cmax = 10.   # upper bound on uniform prior on c\n",
    "\n",
    "    mmu = 0.     # mean of Gaussian prior on m\n",
    "    msigma = 10. # standard deviation of Gaussian prior on m\n",
    "\n",
    "    m = mmu + msigma*ndtri(mprime) # convert back to m\n",
    "    c = cprime*(cmax-cmin) + cmin  # convert back to c\n",
    "    \n",
    "    return (m, c)\n",
    "\n",
    "\n",
    "def loglikelihood_polychord(theta):\n",
    "    \"\"\"\n",
    "    The log-likelihood function.\n",
    "    \n",
    "    Args:\n",
    "        theta (array, list): the set of parameter values.\n",
    "        \n",
    "    Returns:\n",
    "        float: the log-likelihood value.\n",
    "    \"\"\"\n",
    "\n",
    "    m, c = theta # unpack the parameters\n",
    "\n",
    "    # normalisation\n",
    "    norm = -0.5*M*LN2PI - M*LNSIGMA\n",
    "\n",
    "    # chi-squared (data, sigma and x are global variables defined early on in this notebook)\n",
    "    chisq = np.sum(((data-straight_line(x, m, c))/sigma)**2)\n",
    "\n",
    "    return norm - 0.5*chisq"
   ]
  },
  {
   "cell_type": "markdown",
   "metadata": {},
   "source": [
    "As before we'll use 1024 live points (the default is to use 25 times the dimensionality of the problem) and a stopping criterion of 0.5 (the default value is 0.001). The current version of PyPolyChord will not directly return values such as the marginal likelihood or posterior samples within the Python environment. It instead just outputs these to files. The location of these files is set by passing the keyword arguments `base_dir` (defaults to \"`chains`\") and `file_root` (defaults to \"`test`\") to the algorithm, and with `<root> = <base_dir>/<file_root>` the posterior samples can be found in `<root>.txt` and the statistics found in `<root>.stats`."
   ]
  },
  {
   "cell_type": "code",
   "execution_count": null,
   "metadata": {},
   "outputs": [],
   "source": [
    "nlive = 1024   # number of live points\n",
    "ndims = 2      # number of parameters\n",
    "nderived = 0   # number of derived parameters (this is zero)\n",
    "tol = 0.5      # stopping criterion\n",
    "basedir = os.path.join(os.getcwd(), 'polychord')  # output base directory\n",
    "if not os.path.isdir(basedir):\n",
    "    os.makedirs(basedir)                          # create base directory\n",
    "fileroot = 'straightline'                         # output file name\n",
    "broot = os.path.join(basedir, fileroot)\n",
    "\n",
    "# import PolyChord\n",
    "import PyPolyChord as PolyChord\n",
    "\n",
    "t0 = time()\n",
    "PolyChord.run_nested_sampling(loglikelihood_polychord, ndims, nderived, prior=prior_transform_polychord,\n",
    "                              precision_criterion=tol, nlive=nlive, file_root=fileroot, base_dir=basedir)\n",
    "t1 = time()\n",
    "\n",
    "timepolychord = (t1-t0)\n",
    "\n",
    "print(\"Time taken to run 'PyPolyChord' is {} seconds\".format(timepolychord))"
   ]
  },
  {
   "cell_type": "code",
   "execution_count": 7,
   "metadata": {},
   "outputs": [
    {
     "data": {
      "text/plain": [
       "'/opt/lscsoft/lib:/home/matthew/lib:/usr/lib:/usr/local/lib:/data/matthew/repositories/presto/lib:/home/matthew/projects/polychord/PolyChord/lib'"
      ]
     },
     "execution_count": 7,
     "metadata": {},
     "output_type": "execute_result"
    }
   ],
   "source": [
    "os.environ['LD_LIBRARY_PATH']"
   ]
  },
  {
   "cell_type": "code",
   "execution_count": null,
   "metadata": {
    "collapsed": true
   },
   "outputs": [],
   "source": []
  }
 ],
 "metadata": {
  "kernelspec": {
   "display_name": "Python 2",
   "language": "python",
   "name": "python2"
  },
  "language_info": {
   "codemirror_mode": {
    "name": "ipython",
    "version": 2
   },
   "file_extension": ".py",
   "mimetype": "text/x-python",
   "name": "python",
   "nbconvert_exporter": "python",
   "pygments_lexer": "ipython2",
   "version": "2.7.14"
  },
  "toc": {
   "nav_menu": {
    "height": "208px",
    "width": "248px"
   },
   "number_sections": true,
   "sideBar": true,
   "skip_h1_title": false,
   "toc_cell": false,
   "toc_position": {},
   "toc_section_display": "block",
   "toc_window_display": false
  }
 },
 "nbformat": 4,
 "nbformat_minor": 2
}
