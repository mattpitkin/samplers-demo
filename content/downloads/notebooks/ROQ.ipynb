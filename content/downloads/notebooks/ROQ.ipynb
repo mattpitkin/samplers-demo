{
 "cells": [
  {
   "cell_type": "code",
   "execution_count": 2,
   "id": "74a9569a",
   "metadata": {},
   "outputs": [],
   "source": [
    "%matplotlib inline\n",
    "\n",
    "import numpy as np\n",
    "from matplotlib import pyplot as plt"
   ]
  },
  {
   "cell_type": "markdown",
   "id": "6cc9c6be",
   "metadata": {},
   "source": [
    "# A basic example of reduced order quadrature\n",
    "\n",
    "In [Antil _et al_ (2013)](https://arxiv.org/abs/1210.0577) the concept of _reduced order quadrature_ (ROQ) was introduced. The method has, in particular, found extensive use in the field of gravitational wave astronomy, following the initial work of [Canizares _et al_, 2013](https://ui.adsabs.harvard.edu/abs/2013PhRvD..87l4005C/abstract), where it is used to **massively speed-up the computation of likelihoods** during stochastic sampling (via, e.g., [MCMC](https://en.wikipedia.org/wiki/Markov_chain_Monte_Carlo) or [nested sampling](https://en.wikipedia.org/wiki/Nested_sampling_algorithm)). In this note I will attempt to provide a brief, simple example of the \"quadrature\" part of this method and its use. For the \"[reduced order](https://en.wikipedia.org/wiki/Model_order_reduction)\" part I will not go into detail about the method of generating a set of [orthonormal basis vectors](https://en.wikipedia.org/wiki/Orthonormal_basis), but will make use of (and refer to) the [Arby](https://arby.readthedocs.io/en/latest/index.html) Python package.\n",
    "\n",
    "## What's a \"quadrature\"?\n",
    "\n",
    "Within reduced order quadrature, the \"[quadrature](https://en.wikipedia.org/wiki/Quadrature_(mathematics))\" term is just another way of saying numerical integration, i.e., calculating an integral by approximating it as a sum. E.g.,: \n",
    "\n",
    "$$\n",
    "\\int_a^b f(x) {\\rm d}x \\approx \\sum_{i=1}^N f(x_i) \\Delta x,\n",
    "$$\n",
    "\n",
    "where $f(x)$ is the integrand (the function to be integrated) integrated between the limits $a$ and $b$, $N$ is the number of intervals over which to split the sum and therefore $x_1 = a$ and $\\Delta x = (b - a) / N$. More accurate numerical approximations such as the [trapezium rule](https://en.wikipedia.org/wiki/Trapezoidal_rule) can be used.\n",
    "\n",
    "In the papers above, and what we will assume in this example, is that the integrand is a very specific function: the natural logarithm of a [Gaussian likelihood](https://en.wikipedia.org/wiki/Normal_distribution) function:\n",
    "\n",
    "$$\n",
    "\\ln{L(\\vec{\\theta})} = -\\int_{-\\infty}^{\\infty} \\frac{\\left(d(t) - m(t;\\vec{\\theta})\\right)^2}{2\\sigma(t)^2} {\\rm d}t,\n",
    "$$\n",
    "\n",
    "where $d(t)$ is some data as a function of $t$ (which might be, for example, _time_), $m(t;\\vec{\\theta})$ is a predictive model of some process as a function of $t$ and a set of parameters $\\vec{\\theta}$, and $\\sigma(t)$ is an estimate of the noise standard deviation of the data as a function of $t$. In many statistical application, this is the form of the likelihood function you might want to use to, e.g., maximise and find the \"best fit\" model parameters $\\vec{\\theta}$, or sample from during the process of approximating a posterior probability distribution on the model parameters.\n",
    "\n",
    "In realistic applications, the data $d$ is discrete rather than continuous, so the integral naturally becomes a sum with finite bounds (e.g., the start and end times of the data, or a lower and upper frequency range):\n",
    "\n",
    "$$\n",
    "\\ln{L(\\vec{\\theta})} \\propto \\sum_{i=1}^{N} \\frac{\\left(d(t_i) - m(t_i;\\vec{\\theta})\\right)^2}{\\sigma(t_i)^2},\n",
    "$$\n",
    "\n",
    "where $N$ is the number of data points.\n",
    "\n",
    "Reduced order quadrature is a way of speeding up the calculation of this sum by reducing the number point to sum over from $N$ to $M$, where $M \\ll N$. This is particularly useful if the model $m$ is computationally expensive, i.e., it takes a long time to evaluate it for large numbers of data points, and/or $N$ is intrinsically large.\n",
    "\n",
    "To get started on this path I will expand and separate out the terms in the above equation:\n",
    "\n",
    "\\begin{equation}\n",
    "\\ln{L(\\vec{\\theta})} \\propto \\left(\\sum_{i=1}^{N} \\frac{d_i^2}{\\sigma_i^2}\\right) + \\left(\\sum_{i=1}^{N} \\frac{m_i(\\vec{\\theta})^2}{\\sigma_i^2}\\right) - \\left(2 \\sum_{i=1}^{N} \\frac{d_i m_i(\\vec{\\theta})}{\\sigma_i^2}\\right),\\\n",
    "\\label{eq:expanded}\n",
    "\\tag{1}\n",
    "\\end{equation}\n",
    "\n",
    "where for compactness I've switched $m(t_i;\\vec{\\theta})$ to $m_i(\\vec{\\theta})$. In the subsequent equations I will switch $d_i/\\sigma_i \\rightarrow d_i$ and $m_i / \\sigma_i \\rightarrow m_i$, i.e., the data and model terms will be assumed to be already weighted by the noise.\n",
    "\n",
    "The first term on the right hand side of the Equation $\\eqref{eq:expanded}$ does not depend on the parameters $\\vec{\\theta}$, so no matter what $\\vec{\\theta}$ is used for the likelihood function it will always be the same. Therefore, $\\mathcal{K} = \\sum_{i=1}^N d_i^2$ only needs to be calculated once. The other terms must be calculated each time $\\vec{\\theta}$ changes. In some cases, e.g., that described in [Canizares _et al_, 2013](https://ui.adsabs.harvard.edu/abs/2013PhRvD..87l4005C/abstract), the second term involving the square of the model is analytic and therefore quick to calculate, but I'll not assume this here.\n",
    "\n",
    "\n",
    "## How do you reduce the number of points?\n",
    "\n",
    "Reducing the number of points over which you can sum relies on the model $m$ being reducible into a linear superposition of a relatively small number (compared to $N$) of (scaled) [orthonormal (i.e., orthogonal and normalised) basis vectors](https://en.wikipedia.org/wiki/Orthonormal_basis). This is known as [reduced order modelling](https://en.wikipedia.org/wiki/Model_order_reduction). Most generally the set of basic vectors must be \"learned\" by training in some way using models evaluated over the full prior range of the parameter space $\\vec{\\theta}$. This can be done with packages such as [Arby](https://arby.readthedocs.io/en/latest/index.html). After training, there should be a set of orthonormal asic vectors $b$ such that:\n",
    "\n",
    "\\begin{equation}\n",
    "m(t; \\vec{\\theta}) \\approx \\sum_{j=1}^M C_j(\\vec{\\theta}) b_j(t)\n",
    "\\label{eq:basis}\n",
    "\\tag{2}\n",
    "\\end{equation}\n",
    "\n",
    "where it is the coefficients $C$ that depend on the parameters $\\vec{\\theta}$, but not the basic vectors. Note that often the basis vectors are normalised such that\n",
    "\n",
    "$$\n",
    "\\sum_{i=1}^N b_{ji} = 1.\n",
    "$$\n",
    "\n",
    "If we return to the third term in Equation $\\eqref{eq:expanded}$ and substitute in Equation $\\eqref{eq:basis}$ we get:\n",
    "\n",
    "\\begin{equation}\n",
    "\\sum_{i=1}^N d_i m_i(\\vec{\\theta}) \\approx \\sum_{i=1}^N d_i \\left(  \\sum_{j=1}^M C_j(\\vec{\\theta}) b_{ji} \\right) \\equiv \\sum_{j=1}^M C_j(\\vec{\\theta}) \\left(\\sum_{i=1}^N d_i  b_{ji}\\right),\n",
    "\\label{eq:rhs3}\n",
    "\\tag{3}\n",
    "\\end{equation}\n",
    "\n",
    "where $b_{ji} = b_j(t_i)$.\n",
    "\n",
    "> Note: we can see that the rearrangement of the summation terms works by expanding things for $N = M = 2$:\n",
    "> $d_1 \\left(C_1b_{11} + C_2b_{21}\\right) + d_2\\left(C_1b_{12} + C_2b_{22}\\right) \\equiv C_1\\left(d_1b_{11} + d_2b_{12}\\right) + C_2\\left(d_1b_{21} + d_2b_{22} \\right)$.\n",
    "\n",
    "Neither the basis vectors $b$ nor the data depend on the parameters $\\vec{\\theta}$, so the sums over $N$ for each basis vector\n",
    "\n",
    "$$\n",
    "D_j = \\sum_{i=1}^N d_i b_{ji}\n",
    "$$\n",
    "\n",
    "can all be pre-calculated. This means that Equation $\\eqref{eq:rhs3}$ becomes a sum over $M$:\n",
    "\n",
    "$$\n",
    "\\sum_{i=1}^N d_i m_i(\\vec{\\theta}) \\approx \\sum_{j=1}^M C_j(\\vec{\\theta}) D_j.\n",
    "$$\n",
    "\n",
    "Something similar can be done for the second term in Equation $\\eqref{eq:expanded}$. However, we need a different set of basis vectors that have been calculated from the squared model, such that:\n",
    "\n",
    "$$\n",
    "m(t; \\vec{\\theta})^2 \\approx \\sum_{j=1}^{M'} C'_j(\\vec{\\theta}) b'_j(t),\n",
    "$$\n",
    "\n",
    "where $M'$ may be different from $M$.\n",
    "\n",
    "So, in this case we have:\n",
    "\n",
    "$$\n",
    "\\sum_{i=1}^N m_i(\\vec{\\theta})^2 \\approx \\sum_{i=1}^N \\sum_{j=1}^{M'} C'_j(\\vec{\\theta}) b'_{ji} \\equiv \\sum_{j=1}^{M'} C'_j(\\vec{\\theta}) \\sum_{i=1}^N b'_{ji}.\n",
    "$$\n",
    "\n",
    "Again, the sum over $N$ for the basis vectors does not involve $\\vec{\\theta}$, so these can be pre-computed:\n",
    "\n",
    "$$\n",
    "B_j = \\sum_{i=1}^N {b'}_{ji}^2,\n",
    "$$\n",
    "\n",
    "and we get another sum just over $M'$:\n",
    "\n",
    "$$\n",
    "\\sum_{i=1}^N m_i(\\vec{\\theta})^2 \\approx \\sum_{j=1}^{M'} C'_j(\\vec{\\theta}) B_j.\n",
    "$$\n",
    "\n",
    "Finally, Equation $\\eqref{eq:expanded}$ can become:\n",
    "\n",
    "\\begin{equation}\n",
    "\\ln{L(\\vec{\\theta})} \\propto \\mathcal{K} + \\sum_{j=1}^{M'} C'_j(\\vec{\\theta}) B_j - 2\\sum_{j=1}^M C_j(\\vec{\\theta}) D_j.\n",
    "\\label{eq:roqlike}\n",
    "\\tag{4}\n",
    "\\end{equation}\n",
    "\n",
    "So, provided $M \\ll N$ and $M' \\ll N$, there should be an approximately $N/\\text{max}(M, M')$ speed-up in calculating Equation $\\eqref{eq:roqlike}$ compared to $\\eqref{eq:expanded}$.\n",
    "\n",
    "## How do you calculate the $C$ coefficients?\n",
    "\n",
    "To calculate the $C$ coefficients required for Equation $\\eqref{eq:roqlike}$ you need to apply a bit of linear algebra. For a particular set of parameters $\\vec{\\theta}_k$ you need to evaluate the model $m(\\vec{\\theta}_k)$ at $M$ points (optimally chosing which points is beyond the scope of this note). Say we had only 2 basis vectors, i.e., $M=2$, then we can define the two simultaneous equations:\n",
    "\n",
    "$$\n",
    "\\begin{eqnarray}\n",
    "m(t_l;\\vec{\\theta}_k) & = & \\sum_{j=1}^2 C_j(\\vec{\\theta}_k) b_{jl} \\equiv C_1(\\vec{\\theta}_k) b_{1l} + C_2(\\vec{\\theta}_k) b_{2l}, \\\\\n",
    "m(t_n;\\vec{\\theta}_k) & = & \\sum_{j=1}^2 C_j(\\vec{\\theta}_k) b_{jn} \\equiv C_1(\\vec{\\theta}_k) b_{1n} + C_2(\\vec{\\theta}_k) b_{2n},\n",
    "\\end{eqnarray}\n",
    "$$\n",
    "\n",
    "which in matrix notation becomes:\n",
    "\n",
    "$$\n",
    "\\left( \\begin{array}{c} m_l(\\vec{\\theta}_k) \\\\ m_n(\\vec{\\theta}_k) \\end{array} \\right) = \\left( \\begin{array}{c} C_1(\\vec{\\theta}_k) \\\\ C_2(\\vec{\\theta}_k) \\end{array} \\right) \\left( \\begin{array}{cc} b_{1l} & b_{2l} \\\\ b_{1n} & b_{2n} \\end{array} \\right) \n",
    "$$\n",
    "\n",
    "where the values of $m_l(\\vec{\\theta}_k)$ and $m_n(\\vec{\\theta}_k)$ can be explicitly calculated from the model at the points $t_l$ and $t_n$. The basis vector matrix:\n",
    "\n",
    "$$\n",
    "\\mathsf{B} = \\left( \\begin{array}{cc} b_{1l} & b_{2l} \\\\ b_{1n} & b_{2n} \\end{array} \\right),\n",
    "$$\n",
    "\n",
    "can then be inverted to solve the equations for $C_1(\\vec{\\theta}_k)$ and $C_2(\\vec{\\theta}_k)$:\n",
    "\n",
    "$$\n",
    "\\left( \\begin{array}{c} C_1(\\vec{\\theta}_k) \\\\ C_2(\\vec{\\theta}_k) \\end{array} \\right) = \\left( \\begin{array}{c} m_l(\\vec{\\theta}_k) \\\\ m_n(\\vec{\\theta}_k) \\end{array} \\right) \\cdot  \\mathsf{B}^{-1},\n",
    "$$\n",
    "\n",
    "where:\n",
    "\n",
    "$$\n",
    "\\mathsf{B}^{-1} = \\frac{1}{|\\mathsf{B}|} \\left( \\begin{array}{cc} b_{2n} & -b_{2l} \\\\ -b_{1n} & b_{1l} \\end{array} \\right),\n",
    "$$\n",
    "\n",
    "and the determinant $|B| = b_{1l}b_{2n} - b_{1n}b_{2l}$. So, for this two-basis-vector case we would have:\n",
    "\n",
    "$$\n",
    "\\begin{eqnarray}\n",
    "C_1(\\vec{\\theta}_k) & = \\frac{m_l(\\vec{\\theta}_k) b_{2n} - m_n(\\vec{\\theta}_k) b_{2l}}{b_{1l}b_{2n} - b_{1n}b_{2l}} \\\\\n",
    "C_2(\\vec{\\theta}_k) & = \\frac{-m_l(\\vec{\\theta}_k) b_{1n} + m_n(\\vec{\\theta}_k) b_{1l}}{b_{1l}b_{2n} - b_{1n}b_{2l}}.\n",
    "\\end{eqnarray}\n",
    "$$\n",
    "\n",
    "The same thing can be done for calculating the $C'$ coefficients, instead using the square of the model and the $b'$ basic vectors."
   ]
  },
  {
   "cell_type": "markdown",
   "id": "307fc2af",
   "metadata": {},
   "source": [
    "# A simple example\n",
    "\n",
    "Here I will provide a simple example where the model is explicitly defined in a way that I already know the basis functions. As stated above, more generally you would need to determine the basis vectors through a process such as reduced order modelling.\n",
    "\n",
    "The simple example is explicitly defined to be the sum of two simple functions:\n",
    "\n",
    "$$\n",
    "f(t; A, \\phi_0, m, c) = g(t; A, \\phi_0) + h(t; m, c),\n",
    "$$\n",
    "\n",
    "where I will set $g(t)$ to be the sine function with a fixed angular frequency but unknown amplitude $A$ and initial phase \\phi_0:\n",
    "\n",
    "$$\n",
    "g(t; A, \\phi_0) = A sin(2.3 t + \\phi_0),\n",
    "$$\n",
    "\n",
    "and $h(t)$ to be the function for a straight line with an unknown gradient $m$ and $y$-intercept $c$:\n",
    "\n",
    "$$\n",
    "h(t; m, c) = m t + c.\n",
    "$$\n",
    "\n",
    "These equations can be broken down into four simple basis functions (the basis _vectors_ mentioned earlier are just these functions evaluated at a set of point in $t$):\n",
    "\n",
    "$$\n",
    "\\begin{eqnarray}\n",
    "b_1(t) &= \\sin{(2.3 t)}, \\\\\n",
    "b_2(t) &= \\cos{(2.3 t)}, \\\\\n",
    "b_3(t) &= t, \\\\\n",
    "b_4(t) &= 1,\n",
    "\\end{eqnarray}\n",
    "$$\n",
    "\n",
    "such that:\n",
    "\n",
    "$$\n",
    "f(t; A, \\phi_0, m, c) = C_1 b_1 + C_2 b_2 + C_3 b_3 + C_4 b_4.\n",
    "$$"
   ]
  },
  {
   "cell_type": "code",
   "execution_count": 45,
   "id": "a733931e",
   "metadata": {},
   "outputs": [
    {
     "data": {
      "image/png": "[encoded data removed]",
      "text/plain": [
       "<Figure size 432x288 with 1 Axes>"
      ]
     },
     "metadata": {
      "needs_background": "light"
     },
     "output_type": "display_data"
    }
   ],
   "source": [
    "def g(t, A, phi0):\n",
    "    return A * np.sin(2.3 * t + phi0)\n",
    "\n",
    "def h(t, m, c):\n",
    "    return m * t + c\n",
    "\n",
    "def f(t, A, phi0, m, c):\n",
    "    return g(t, A, phi0) + h(t, m, c)\n",
    "\n",
    "# plot an example of the function\n",
    "A = -1.5\n",
    "phi0 = 0.7\n",
    "m = 0.5\n",
    "c = 2.1\n",
    "\n",
    "N = 1000  # number of points to evaluate the function\n",
    "t = np.linspace(0, 10, N)\n",
    "\n",
    "fig, ax = plt.subplots()\n",
    "ax.plot(t, f(t, A, phi0, m, c), \"k-\", label=\"$f(t)$\")\n",
    "ax.plot(t, g(t, A, phi0), \"r--\", label=\"$g(t)$\")\n",
    "ax.plot(t, h(t, m, c), \"b--\", label=\"$h(t)$\")\n",
    "ax.legend()\n",
    "ax.set_xlabel(\"$t$\");\n",
    "ax.set_ylabel(\"$f(t)$\");"
   ]
  },
  {
   "cell_type": "markdown",
   "id": "51649369",
   "metadata": {},
   "source": [
    "For a particular set of parameters $\\vec{\\theta}_k = \\{A_k, {\\phi_0}_{k}, m_k, c_k\\}$ the coefficients $C$ can be calculated by evaluating the basic vectors at four points. I will just chose four points evenly spaced in $t$, assuming there are $N$ points in $t$, so $t'_1 = t_1$, $t'_2 = t_{N/4}$, $t'_3 = t_{N/2}$ and $t'_4 = t_{3N/4}$, and solving:\n",
    "\n",
    "$$\n",
    "\\left(\\begin{array}{c} C_1 \\\\ C_2 \\\\ C_3 \\\\ C_4 \\end{array}\\right) =  \\left(\\begin{array}{c} f(t_1; A_k, {\\phi_0}_k, m_k, c_k) \\\\ f(t_2; A_k, {\\phi_0}_k, m_k, c_k) \\\\ f(t_3; A_k, {\\phi_0}_k, m_k, c_k) \\\\ f(t_4; A_k, {\\phi_0}_k, m_k, c_k)\\end{array}\\right) \\cdot \\mathsf{B}^{-1},\n",
    "$$\n",
    "\n",
    "where\n",
    "\n",
    "$$\n",
    "\\mathsf{B} = \\left(\\begin{array}{cccc} b_1(t_1) & b_1(t_2) & b_1(t_3) & b_1(t_4) \\\\  b_2(t_1) & b_2(t_2) & b_2(t_3) & b_2(t_4) \\\\  b_3(t_1) & b_3(t_2) & b_3(t_3) & b_3(t_4) \\\\  b_4(t_1) & b_4(t_2) & b_4(t_3) & b_4(t_4) \\end{array}\\right).\n",
    "$$"
   ]
  },
  {
   "cell_type": "code",
   "execution_count": 18,
   "id": "17c9a164",
   "metadata": {},
   "outputs": [
    {
     "data": {
      "image/png": "[encoded data removed]",
      "text/plain": [
       "<Figure size 432x288 with 1 Axes>"
      ]
     },
     "metadata": {
      "needs_background": "light"
     },
     "output_type": "display_data"
    }
   ],
   "source": [
    "# define the basis vectors\n",
    "def b1(t):\n",
    "    return np.sin(2.3 * t)\n",
    "\n",
    "def b2(t):\n",
    "    return np.cos(2.3 * t)\n",
    "\n",
    "def b3(t):\n",
    "    return t\n",
    "\n",
    "def b4(t):\n",
    "    return np.ones_like(t)\n",
    "\n",
    "# get array of basis vectors over t\n",
    "Bfull = [b(t) for b in [b1, b2, b3, b4]]\n",
    "\n",
    "# get indices for 4 tprime values\n",
    "indices = slice(0, -1, int(N/4) + 1)\n",
    "\n",
    "# get the B matrix\n",
    "B = np.array([row[indices] for row in Bfull])\n",
    "\n",
    "# evaluate f at tprime values\n",
    "F = f(t[indices], A, phi0, m, c)\n",
    "\n",
    "# solve for C\n",
    "C = np.dot(F, np.linalg.inv(B))\n",
    "#C = np.einsum(\"i,ij->j\", F, np.linalg.inv(B))\n",
    "\n",
    "# plot original function versus sum of basis vectors\n",
    "fig, ax = plt.subplots()\n",
    "ax.plot(t, f(t, A, phi0, m, c), \"b-\", label=\"$f(t)$\", lw=4)\n",
    "ax.plot(t, np.sum([C[i] * Bfull[i] for i in range(4)], axis=0), \"r--\", label=\"$\\sum_j b_j$\")\n",
    "ax.legend()\n",
    "ax.set_xlabel(\"$t$\");\n",
    "ax.set_ylabel(\"$f(t)$\");"
   ]
  },
  {
   "cell_type": "markdown",
   "id": "42d1a9cd",
   "metadata": {},
   "source": [
    "In the above plot it can be seen that the original function can be reconstructed from the basis vectors.\n",
    "\n",
    "But, now I'll look at evaluating the natural logarithm for the Gaussian likelihood function (log-likelihood for short), and in particular check out the speed-up using the basis vectors for a range of lengths of data $N$. I'll create some fake data consisting of the function $f$ plus some Gaussian noise of known standard deviation and evaluate the likelihood using the standard function and the reduced order quadrature version.\n",
    "\n",
    "In this case the integral of the model-squared term, $\\int m(t; \\vec{\\theta})^2 {\\rm d}t$, is analytic (see [Appendix](#Appendix)):\n",
    "\n",
    "$$\n",
    "\\int_{t_1}^{t_N} \\left(A\\sin{(2.3 t + \\phi_0)} + mt + c\\right)^2 {\\rm d}t = \\left[\\frac{12 A m \\sin{\\left(\\omega t + \\phi_{0} \\right)} - 3 A \\omega \\left(A \\sin{\\left(\\omega t + \\phi_{0} \\right)} + 4 c + 4 m t\\right) \\cos{\\left(\\omega t + \\phi_{0} \\right)} + \\omega^{2} t \\left(3 A^{2} + 6 c^{2} + 6 c m t + 2 m^{2} t^{2}\\right)}{6 \\omega^{2}} \\right]_{t_1}^{t_N}\n",
    "$$\n",
    "\n",
    "where $\\omega = 2.3$. I will use this in the calculation of the log-likelihood as it is not easy to explicitly right down the 9 orthonormal basis vectors required for this term (you can expand the equation and separate it out into different terms, but orthoganilising them is tricky)."
   ]
  },
  {
   "cell_type": "code",
   "execution_count": 26,
   "id": "fc97af00",
   "metadata": {},
   "outputs": [],
   "source": [
    "# integral of model squared\n",
    "def msquaredint(t, A, phi0, m, c, sigma):\n",
    "    def integral(tv, A, phi0, m, c):\n",
    "        return (\n",
    "            (1 / (6 * 2.3 ** 2)) * (\n",
    "                (12 * A * m * np.sin(2.3 * tv + phi0)) -\n",
    "                (3 * A * 2.3 * (A * np.sin(2.3 * tv + phi0) + (4 * c) + (4 * m * tv)) * np.cos(2.3 * tv + phi0)) +\n",
    "                ((2.3 ** 2) * tv * ((3 * (A ** 2)) + (6 * (c ** 2)) + (6 * c * m * tv) + 2 * (m * tv) ** 2))\n",
    "            )\n",
    "        )\n",
    "    \n",
    "    dt = t[1] - t[0]  # time step\n",
    "\n",
    "    # need to start integral and end integral half a time step before/after time\n",
    "    # bounds due to compare with the left point integral rule using in the summation\n",
    "    return (\n",
    "        integral(t[-1] + (dt / 2), A, phi0, m, c) - integral(t[0] - (dt / 2), A, phi0, m, c)\n",
    "    ) / (dt * sigma ** 2)"
   ]
  },
  {
   "cell_type": "code",
   "execution_count": 37,
   "id": "8a6bee40",
   "metadata": {},
   "outputs": [],
   "source": [
    "from timeit import timeit\n",
    "\n",
    "sigma = 2.5  # noise standard deviation\n",
    "\n",
    "# set some parameters for the function\n",
    "A = 0.4\n",
    "phi0 = 2.3\n",
    "m = -1.5\n",
    "c = 0.6\n",
    "\n",
    "# store computation times for both methods\n",
    "tstandard = []\n",
    "troq = []\n",
    "\n",
    "# store log-likelihood values for comparison\n",
    "logLstandard = []\n",
    "logLroq = []\n",
    "\n",
    "# loop over different lengths of data\n",
    "Ns = [int(n) for n in np.logspace(3, 5, 6)]\n",
    "for N in Ns:\n",
    "    t = np.linspace(0, 10, N)\n",
    "    \n",
    "    data = f(t, A, phi0, m, c) + np.random.normal(sigma, N)\n",
    "    \n",
    "    Bfull = [b(t) for b in [b1, b2, b3, b4]]\n",
    "\n",
    "    # get indices for 4 tprime values\n",
    "    indices = slice(0, -1, int(N/4))\n",
    "\n",
    "    # evaluate the likelihood for some other (random) set of parameters\n",
    "    Ak = np.random.uniform(-10, 10)\n",
    "    phi0k = np.random.uniform(0, 2.0 * np.pi)\n",
    "    mk = np.random.uniform(-10, 10)\n",
    "    ck = np.random.uniform(-10, 10)\n",
    "\n",
    "    # sum squared data\n",
    "    K = np.sum((data / sigma) ** 2)\n",
    "    \n",
    "    # use the standard log-likelihood calculation\n",
    "    def standard():\n",
    "        datap = data / sigma\n",
    "        modelp = f(t, Ak, phi0k, mk, ck) / sigma\n",
    "        logL = -0.5 * (K + np.sum(modelp ** 2) - 2 * np.sum(modelp * datap))\n",
    "        return logL\n",
    "\n",
    "    tstandard.append(timeit(standard, number=10000))  # store run time\n",
    "    logLstandard.append(standard())  # store loglikelihood\n",
    "\n",
    "    # use ROQ log-likelihood calculation\n",
    "    D = np.einsum(\"i,ji->j\", data / sigma, Bfull)\n",
    "\n",
    "    def roq():\n",
    "        indices = slice(0, -1, int(N/4) + 1)\n",
    "        datap = data[indices] / sigma\n",
    "\n",
    "        # get the B matrix\n",
    "        B = np.array([row[indices] for row in Bfull])\n",
    "\n",
    "        modelp = f(t[indices], Ak, phi0k, mk, ck) / sigma\n",
    "        C = np.dot(modelp, np.linalg.inv(B))\n",
    "        logL = -0.5 * (K + msquaredint(t, Ak, phi0k, mk, ck, sigma) - 2 * np.sum(C * D))\n",
    "        return logL\n",
    "    \n",
    "    troq.append(timeit(roq, number=10000))\n",
    "    logLroq.append(roq())"
   ]
  },
  {
   "cell_type": "markdown",
   "id": "5ad7bb02",
   "metadata": {},
   "source": [
    "Below is a plot of the ratio of the time taken to calculate the log-likelihood when summing over all $N$ data point compared to that using the ROQ calculation for a range of $N$ values. The considerable speed-up seen when using the ROQ as $N$ increases if obvious. The speed-up is not as good as $N / M$ due to overheads required for some of the functions."
   ]
  },
  {
   "cell_type": "code",
   "execution_count": 38,
   "id": "119d1133",
   "metadata": {},
   "outputs": [
    {
     "data": {
      "image/png": "[encoded data removed]",
      "text/plain": [
       "<Figure size 432x288 with 1 Axes>"
      ]
     },
     "metadata": {
      "needs_background": "light"
     },
     "output_type": "display_data"
    }
   ],
   "source": [
    "fig, ax = plt.subplots()\n",
    "ax.semilogx(Ns, np.array(tstandard) / np.array(troq), 'o', ls=\"none\")\n",
    "ax.set_xlabel(\"$N$\")\n",
    "ax.set_ylabel(r\"$t_{\\rm{standard}} / t_{\\rm{ROQ}}$\");"
   ]
  },
  {
   "cell_type": "markdown",
   "id": "66da652f",
   "metadata": {},
   "source": [
    "Below is a plot of the difference between the value of the log-likelihoods when summing over all $N$ data point compared to that using the ROQ calculation. It can be seen that the log-likelihood values are very similar showing that the ROQ is a very good approximation."
   ]
  },
  {
   "cell_type": "code",
   "execution_count": 42,
   "id": "d8680ce1",
   "metadata": {},
   "outputs": [
    {
     "data": {
      "image/png": "[encoded data removed]",
      "text/plain": [
       "<Figure size 432x288 with 1 Axes>"
      ]
     },
     "metadata": {
      "needs_background": "light"
     },
     "output_type": "display_data"
    }
   ],
   "source": [
    "np.array(logLstandard) - np.array(logLroq)\n",
    "fig, ax = plt.subplots()\n",
    "ax.semilogx(Ns, np.abs(np.array(logLstandard) - np.array(logLroq)), 'o', ls=\"none\")\n",
    "ax.set_xlabel(\"$N$\")\n",
    "ax.set_ylabel(r\"$\\Delta \\ln{L}$\");"
   ]
  },
  {
   "cell_type": "markdown",
   "id": "3533fbfa",
   "metadata": {},
   "source": [
    "## Empirially calculating the reduced basis\n",
    "\n",
    "I will now repeat the above analysis, but I will instead use the [Arby](https://arby.readthedocs.io/en/latest/index.html) package to empirically compute the set of basis vectors. To do this I need to generate a large array containing my model function evaluated over a wide range of the model parameters $\\vec{\\theta}$. This will be my \"training\" data. To do this I will need to define an explicit space in $\\vec{\\theta}$ over which to generate training vectors (in a Bayesian analysis this may be the prior probability volume). In this case I will generate training vectors by uniformly sampling random point from the parameter space between fixed ranges:\n",
    "\n",
    "$$\n",
    "\\begin{array}{rcl}\n",
    "A & \\sim & \\mathcal{U}(-10, 10), \\\\\n",
    "\\phi_0 & \\sim & \\mathcal{U}(0, 2\\pi), \\\\\n",
    "m & \\sim & \\mathcal{U}(-10, 10), \\\\\n",
    "c & \\sim & \\mathcal{U}(-10, 10), \\\\\n",
    "\\end{array}\n",
    "$$\n",
    "\n",
    "where in this notation $\\sim \\mathcal{U}(x, y)$ means \"draw a value from a uniform distribution between a lower bound of $x$ and an upper bound of $y$\". In general, the set of basis vectors may not be valid when approxmating the original function outside of these training bounds, although in some cases they may still work outside the bounds.\n",
    "\n",
    "Unlike in the previous [example](#A-simple-example), here I will generate a set of basis vectors for both the model and the square of the model."
   ]
  },
  {
   "cell_type": "code",
   "execution_count": 61,
   "id": "3edc8ce8",
   "metadata": {},
   "outputs": [
    {
     "name": "stdout",
     "output_type": "stream",
     "text": [
      "Number of reduced bases for the model: 4\n",
      "Number of reduced bases for the squared model: 9\n"
     ]
    }
   ],
   "source": [
    "from arby import reduced_basis\n",
    "\n",
    "# generate training sets by drawing model parameters from across the prior\n",
    "training = []\n",
    "\n",
    "N = 10000  # number of points to evaluate the function\n",
    "t = np.linspace(0, 10, N)\n",
    "\n",
    "Ntraining = 10000\n",
    "As = np.random.uniform(-10, 10, Ntraining)\n",
    "phi0s = np.random.uniform(0, 2.0 * np.pi, Ntraining)\n",
    "ms = np.random.uniform(-10, 10, Ntraining)\n",
    "cs = np.random.uniform(-10, 10, Ntraining)\n",
    "\n",
    "for pars in zip(As, phi0s, ms, cs):\n",
    "    m = f(t, *pars)\n",
    "    training.append(m)\n",
    "    \n",
    "# calculate reduced basis for the model\n",
    "rb = reduced_basis(training_set=np.array(training), physical_points=t, greedy_tol=1e-12)\n",
    "print(f\"Number of reduced bases for the model: {len(rb.basis.data)}\")\n",
    "\n",
    "# calculate reduced basis for the squared model\n",
    "rb2 = reduced_basis(\n",
    "    training_set=np.array([m ** 2 for m in training]),\n",
    "    physical_points=t,\n",
    "    greedy_tol=1e-12\n",
    ")\n",
    "print(f\"Number of reduced bases for the squared model: {len(rb2.basis.data)}\")"
   ]
  },
  {
   "cell_type": "markdown",
   "id": "82eecf2e",
   "metadata": {},
   "source": [
    "To show the validity of these basis vectors, I'll calculate the coefficients for summing the basis vectors and plot these. "
   ]
  },
  {
   "cell_type": "code",
   "execution_count": 78,
   "id": "854392a3",
   "metadata": {},
   "outputs": [
    {
     "data": {
      "image/png": "[encoded data removed]",
      "text/plain": [
       "<Figure size 432x288 with 1 Axes>"
      ]
     },
     "metadata": {
      "needs_background": "light"
     },
     "output_type": "display_data"
    }
   ],
   "source": [
    "Ak = np.random.uniform(-10, 10)\n",
    "phi0k = np.random.uniform(0, 2.0 * np.pi)\n",
    "mk = np.random.uniform(-10, 10)\n",
    "ck = np.random.uniform(-10, 10)\n",
    "\n",
    "# evaluate the model\n",
    "model = f(t, Ak, phi0k, mk, ck)\n",
    "\n",
    "# calculate the B matrix\n",
    "nbases = len(rb.basis.data)\n",
    "indices = slice(0, -1, int(N / nbases) + 1)\n",
    "B = np.array([row[indices] for row in rb.basis.data])\n",
    "\n",
    "modelp = f(t[indices], Ak, phi0k, mk, ck)\n",
    "C = np.dot(modelp, np.linalg.inv(B))\n",
    "\n",
    "fig, ax = plt.subplots()\n",
    "ax.plot(t, model, \"k-\", lw=2, label=\"$f(t)$\")\n",
    "\n",
    "rbmodel = np.zeros(rb.basis.data.shape[1])\n",
    "for i in range(nbases):\n",
    "    rbmodel += C[i] * rb.basis.data[i]\n",
    "    ax.plot(t, C[i] * rb.basis.data[i], \"b--\", lw=0.5)\n",
    "ax.plot(t, rbmodel, \"r--\", label=\"$\\sum_j C_j b_j$\")\n",
    "    \n",
    "ax.legend()\n",
    "ax.set_xlabel(\"$t$\");\n",
    "ax.set_ylabel(\"$f(t)$\");"
   ]
  },
  {
   "cell_type": "code",
   "execution_count": 82,
   "id": "3077667b",
   "metadata": {},
   "outputs": [
    {
     "data": {
      "image/png": "[encoded data removed]",
      "text/plain": [
       "<Figure size 432x288 with 1 Axes>"
      ]
     },
     "metadata": {
      "needs_background": "light"
     },
     "output_type": "display_data"
    }
   ],
   "source": [
    "# evaluate the model-squared\n",
    "model2 = model ** 2\n",
    "\n",
    "# calculate the B matrix\n",
    "nbases = len(rb2.basis.data)\n",
    "indices = slice(0, -1, int(N / nbases) + 1)\n",
    "Bp = np.array([row[indices] for row in rb2.basis.data])\n",
    "\n",
    "modelp = f(t[indices], Ak, phi0k, mk, ck) ** 2\n",
    "Cp = np.dot(modelp, np.linalg.inv(Bp))\n",
    "\n",
    "fig, ax = plt.subplots()\n",
    "ax.plot(t, model2, \"k-\", lw=2, label=\"$f(t)$\")\n",
    "\n",
    "rbmodel = np.zeros(rb2.basis.data.shape[1])\n",
    "for i in range(nbases):\n",
    "    rbmodel += Cp[i] * rb2.basis.data[i]\n",
    "    ax.plot(t, Cp[i] * rb2.basis.data[i], \"b--\", lw=0.5)\n",
    "ax.plot(t, rbmodel, \"r--\", label=\"$\\sum_j C'_j b'_j$\")\n",
    "\n",
    "ax.legend()\n",
    "ax.set_xlabel(\"$t$\");\n",
    "ax.set_ylabel(\"$f(t)^2$\");"
   ]
  },
  {
   "cell_type": "markdown",
   "id": "77b4a8f2",
   "metadata": {},
   "source": [
    "Now, I'll calculate the log-likelihood using the ROQ and compare it to that calculated by summing over all $N$ points."
   ]
  },
  {
   "cell_type": "code",
   "execution_count": 84,
   "id": "6582fcfc",
   "metadata": {},
   "outputs": [
    {
     "name": "stdout",
     "output_type": "stream",
     "text": [
      "-146594415126.7171 -146594809506.98108\n"
     ]
    }
   ],
   "source": [
    "# create the \"data\"\n",
    "data = f(t, Ak, phi0k, mk, ck) + np.random.normal(sigma, N)\n",
    "\n",
    "D = np.einsum(\"i,ji->j\", data / sigma, rb.basis.data)\n",
    "Bj = np.einsum(\"ji,ji->j\", rb2.basis.data, rb2.basis.data)\n",
    "K = np.sum((data / sigma) ** 2)\n",
    "\n",
    "nbases = len(rb.basis.data)\n",
    "indices = slice(0, -1, int(N / nbases) + 1)\n",
    "B = np.array([row[indices] for row in rb.basis.data])\n",
    "modelp = f(t[indices], Ak, phi0k, mk, ck) / sigma\n",
    "\n",
    "nbases = len(rb2.basis.data)\n",
    "indices = slice(0, -1, int(N / nbases) + 1)\n",
    "Bp = np.array([row[indices] for row in rb2.basis.data])\n",
    "modelp2 = (f(t[indices], Ak, phi0k, mk, ck) / sigma) ** 2\n",
    "\n",
    "C = np.dot(modelp, np.linalg.inv(B))\n",
    "Cp = np.dot(modelp2, np.linalg.inv(Bp))\n",
    "\n",
    "logLroq = -0.5 * (K + np.sum(Cp * Bj) - 2 * np.sum(C * D))\n",
    "logLstandard = -0.5 * (K + np.sum(model2 / sigma ** 2) - 2 * np.sum(model * data / sigma ** 2))\n",
    "\n",
    "print(logLroq, logLstandard)"
   ]
  },
  {
   "cell_type": "code",
   "execution_count": 85,
   "id": "93702ba0",
   "metadata": {},
   "outputs": [
    {
     "data": {
      "text/plain": [
       "(1087309.0422043405, 1876069.5701051338)"
      ]
     },
     "execution_count": 85,
     "metadata": {},
     "output_type": "execute_result"
    }
   ],
   "source": [
    "np.sum(Cp * Bj), np.sum(model2 / sigma ** 2)"
   ]
  },
  {
   "cell_type": "code",
   "execution_count": 86,
   "id": "8229d93a",
   "metadata": {},
   "outputs": [
    {
     "data": {
      "text/plain": [
       "(-615641780.3151962, -615641780.3151927)"
      ]
     },
     "execution_count": 86,
     "metadata": {},
     "output_type": "execute_result"
    }
   ],
   "source": [
    "np.sum(model * data / sigma ** 2), np.sum(C * D)"
   ]
  },
  {
   "cell_type": "markdown",
   "id": "ba36216b",
   "metadata": {},
   "source": [
    "## Appendix\n",
    "\n",
    "To calculate the analytical integral for the squared model term in the [example](#A-simple-example)\n",
    "\n",
    "$$\n",
    "\\int_{t_1}^{t_N} \\left(A\\sin{(2.3 t + \\phi_0)} + mt + c\\right)^2 {\\rm d}t,\n",
    "$$\n",
    "\n",
    "\n",
    "I have used Sympy as below:"
   ]
  },
  {
   "cell_type": "code",
   "execution_count": 43,
   "id": "cd2fb8b1",
   "metadata": {},
   "outputs": [
    {
     "data": {
      "text/latex": [
       "$\\displaystyle \\frac{12 A m \\sin{\\left(\\omega t + \\phi_{0} \\right)} - 3 A \\omega \\left(A \\sin{\\left(\\omega t + \\phi_{0} \\right)} + 4 c + 4 m t\\right) \\cos{\\left(\\omega t + \\phi_{0} \\right)} + \\omega^{2} t \\left(3 A^{2} + 6 c^{2} + 6 c m t + 2 m^{2} t^{2}\\right)}{6 \\omega^{2}}$"
      ],
      "text/plain": [
       "(12*A*m*sin(omega*t + phi0) - 3*A*omega*(A*sin(omega*t + phi0) + 4*c + 4*m*t)*cos(omega*t + phi0) + omega**2*t*(3*A**2 + 6*c**2 + 6*c*m*t + 2*m**2*t**2))/(6*omega**2)"
      ]
     },
     "execution_count": 43,
     "metadata": {},
     "output_type": "execute_result"
    }
   ],
   "source": [
    "import sympy\n",
    "\n",
    "# set variables\n",
    "A, t, f, phi0, m, c, t0, tn = sympy.symbols(\"A t omega phi0 m c t0 tn\")\n",
    "\n",
    "# define function\n",
    "func = (A * sympy.sin(f * t + phi0) + m * t + c) ** 2\n",
    "\n",
    "# calculate definite integral\n",
    "sympy.simplify(sympy.integrate(func, t)).args[0].args[0]"
   ]
  }
 ],
 "metadata": {
  "kernelspec": {
   "display_name": "Python 3 (ipykernel)",
   "language": "python",
   "name": "python3"
  },
  "language_info": {
   "codemirror_mode": {
    "name": "ipython",
    "version": 3
   },
   "file_extension": ".py",
   "mimetype": "text/x-python",
   "name": "python",
   "nbconvert_exporter": "python",
   "pygments_lexer": "ipython3",
   "version": "3.8.12"
  }
 },
 "nbformat": 4,
 "nbformat_minor": 5
}
