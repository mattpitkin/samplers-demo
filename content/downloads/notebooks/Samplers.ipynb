{
 "cells": [
  {
   "cell_type": "markdown",
   "metadata": {},
   "source": [
    "<!-- PELICAN_BEGIN_SUMMARY -->\n",
    "\n",
    "This notebook aims to provide basic examples of how to run a variety of [MCMC](https://en.wikipedia.org/wiki/Markov_chain_Monte_Carlo) and [nested sampling](https://en.wikipedia.org/wiki/Nested_sampling_algorithm) codes in [Python](https://www.python.org/). It won't go into detail about MCMC methods in general, and assumes a bit of knowledge about them, nor will it discuss all the various bells-and-whistles that each sampler can use, but it will hopefully help people get started with writing a sampler code using an understandable (albeit \"toy\") example. A very nice, quite similar, article on this topic by [Jake VanderPlas](http://vanderplas.com/) can be found [here](https://jakevdp.github.io/blog/2014/06/14/frequentism-and-bayesianism-4-bayesian-in-python/). There are also very good [online notes](http://people.duke.edu/~ccc14/sta-663-2017/20A_MCMC.html) from the _Computational Statistics and Statistical Computing_ course at [Duke University](https://www.duke.edu/) by [Cliburn Chan](https://genome.duke.edu/directory/cbb-faculty/cliburn-chan-phd) & [Janice McCarthy](https://scholars.duke.edu/person/janice.mccarthy), covering some of this material (including [PyMC3](http://people.duke.edu/~ccc14/sta-663-2017/19A_PyMC3.html) and [PyStan](http://people.duke.edu/~ccc14/sta-663-2017/19B_Pystan.html#estimating-parameters-of-a-linear-regression-model) examples that are very similar to what is covered here). Section 2 of [Brewer & Foreman-Mackey (2016)](https://arxiv.org/abs/1606.03757) gives a nice summary of the advantages and disadvantages of some of the algorithms shown here. A good general description of fitting a model to data in a Bayesian formalism, including various useful examples, can be found in [Hogg, Bovy & Lang (2010)](https://arxiv.org/abs/1008.4686).\n",
    "\n",
    "This code within this notebook is designed to work for Python 3. An older version that should be compatible with Python 2 can be found [here](https://github.com/mattpitkin/samplers-demo/blob/ac1c8151c5a8c1a3c2b19b5edb57902a4926651f/content/downloads/notebooks/Samplers.ipynb).\n",
    "\n",
    "<!-- PELICAN_END_SUMMARY -->\n",
    "\n",
    "You can jump straight to the examples for the different samplers with the links below:\n",
    "\n",
    "[**MCMC samplers**](#MCMC-samplers):\n",
    "  1. [emcee](#emcee)\n",
    "  2. [PyMC3](#PyMC3)\n",
    "  3. [TensorFlow Probability](#TensorFlow-Probability)\n",
    "  4. [PyMC4](#PyMC4)\n",
    "  5. [Zeus](#Zeus)\n",
    "  6. [PyStan](#PyStan)\n",
    "  7. [PyJAGS](#PyJAGS)\n",
    "\n",
    "[**Nested samplers**](#Nested-Sampling):\n",
    "  1. [Nestle](#Nestle)\n",
    "  2. [CPNest](#CPNest)\n",
    "  3. [dynesty](#dynesty)\n",
    "  4. [UltraNest](#UltraNest)\n",
    "  5. [PyMultiNest](#PyMultiNest)\n",
    "  6. [DNest4](#DNest4)\n",
    "  7. [PyPolyChord](#PyPolyChord)\n",
    "\n",
    "## Background\n",
    "\n",
    "MCMC methods are most often used in the context of Bayesian parameter estimation, e.g., you have a model, $y$, defined by a set of parameters, ${\\vec{\\theta}}$, with certain prior probability distributions $p(\\vec{\\theta}|I)$, and you want to efficiently sample from the marginalised posterior probability distributions on those parameters given some data, $\\mathbf{d}$, and a particular [likelihood function](https://en.wikipedia.org/wiki/Likelihood_function), $p(\\mathbf{d}|\\vec{\\theta},I)$, ($I$ is just a substitute for all the implicit assumptions that have gone into defining our model). From Bayes theorem we have the joint posterior on the whole set of parameters,\n",
    "\n",
    "$$\n",
    "p(\\vec{\\theta}|\\mathbf{d},I) = \\frac{p(\\mathbf{d}|\\vec{\\theta},I) p(\\vec{\\theta}|I)}{p(\\mathbf{d}|I)},\n",
    "$$\n",
    "\n",
    "with marginalised posteriors on an individual parameter, say $\\theta_1$, given by nested integrals over all other parameters,\n",
    "\n",
    "$$\n",
    "p(\\theta_1|\\mathbf{d},I) = \\frac{1}{p(\\mathbf{d}|I)}\\int^{\\forall \\theta_i \\in (\\vec{\\theta}\\neq \\theta_1)} p(\\mathbf{d}|\\vec{\\theta},I) p(\\vec{\\theta}|I) {\\rm d}{\\theta_i},\n",
    "$$\n",
    "\n",
    "($\\forall \\theta_i \\in (\\vec{\\theta}\\neq \\theta_1)$ can be translated into \"for all parameters $\\theta_i$ in $\\vec{\\theta}$ that are not equal to $\\theta_1$). $p(\\mathbf{d}|I)$ is the [marginal likelihood](https://en.wikipedia.org/wiki/Marginal_likelihood), or *evidence*, for the data given the particular model used, and is given by\n",
    "\n",
    "$$\n",
    "p(\\mathbf{d}|I) = \\int^{\\forall \\theta_i \\in \\vec{\\theta}} p(\\mathbf{d}|\\vec{\\theta},I) p(\\vec{\\theta}|I) {\\rm d}{\\theta_i},\n",
    "$$\n",
    "\n",
    "which is a normalising constant for the posterior. It will be discussed more below in relation to [nested sampling](#Nested-Sampling).\n",
    "\n",
    "This is the only context I (and probably many people in the physical sciences) have encountered using MCMC methods, and is the context I will use below.\n",
    "\n",
    "## Toy model\n",
    "\n",
    "The very basic example that I will use to demonstrate coding up the samplers is that of sampling from the posterior of two parameters, $m$ and $c$, defining the model:\n",
    "\n",
    "$$\n",
    "y(\\mathbf{x};m,c) = m\\mathbf{x} + c,\n",
    "$$\n",
    "\n",
    "where $\\mathbf{x}$ is a vector of values of $x$. This is basically fitting the gradient and $y$-intercept of a straight line, which should be fairly familiar as [linear regression](https://en.wikipedia.org/wiki/Linear_regression), and is obviously a solved problem (*assuming uniform priors!*) using, e.g., [least squares fitting](https://en.wikipedia.org/wiki/Linear_least_squares_%29mathematics%29). But, this provides a simple example that can hopefully be extended to more realistics scenarios.\n",
    "\n",
    "Our aim is to produce samples drawn from the posterior $p(m, c|\\mathbf{d},I)$, which can be used (by, e.g., histogramming the sample values) to approximate the marginal posteriors $p(m|\\mathbf{d},I)$ and $p(c|\\mathbf{d},I)$.\n",
    "\n",
    "The vector of data samples, $\\mathbf{d}$, will consist of the model defined at a set of $M$ values, $\\mathbf{x}$, with additive Gaussian noise of known standard deviation, i.e., data point $i$ will be defined by\n",
    "\n",
    "$$\n",
    "d_i = y(x_i;m,c) + n_i,\n",
    "$$\n",
    "\n",
    "with\n",
    "\n",
    "$$\n",
    "n_i \\sim N(0, \\sigma_i),\n",
    "$$\n",
    "\n",
    "which means the noise is drawn from a [Gaussian (or Normal) distribution](https://en.wikipedia.org/wiki/Normal_distribution) of zero mean and standard deviation of $\\sigma_i$.\n",
    "\n",
    "> **Note**: I'll generally use the term [Gaussian distribution](https://en.wikipedia.org/wiki/Normal%5fdistribution)\n",
    "> rather than \"Normal\" distribution, as this it what I first heard it called. But, in many packages discussed below\n",
    "> \"Normal\" is the more common word for the distribution.\n",
    "\n",
    "### Setting the likelihood\n",
    "\n",
    "A sensible and fairly standard likelihood function (due to the [Central Limit Theorem](https://en.wikipedia.org/wiki/Central_limit_theorem) and [maximum entropy arguments](https://en.wikipedia.org/wiki/Maximum_entropy_probability_distribution#Specified_variance:_the_normal_distribution)) for a single data point given values of $m$ and $c$ and a known noise standard deviation, will be given by a Gaussian distribution of the form\n",
    "\n",
    "$$\n",
    "p(d_i|m,c,I) = \\left(2\\pi\\sigma_i^2\\right)^{-1/2} \\exp{\\left(-\\frac{\\left[(d_i - y(x_i;m,c)\\right]^2}{2\\sigma_i^2} \\right)},\n",
    "$$\n",
    "\n",
    "and the joint likelihood for the whole dataset of $M$ points (assuming independent noise) will be the product of the individual likelihoods\n",
    "\n",
    "$$\n",
    "p(\\mathbf{d}|m,c,I) = \\prod_{i=1}^M p(d_i|m,c,I) = \\left(2\\pi\\right)^{-M/2}\\left(\\prod_{i=1}^M \\sigma_i^{-1} \\right) \\exp{\\left(-\\sum_{i=1}^M\\frac{\\left[(d_i - y(x_i;m,c)\\right]^2}{2\\sigma_i^2} \\right)}.\n",
    "$$\n",
    "\n",
    "When computing likelihoods, numerical considerations mean that one almost always works with the natural logarithm of the likelihood, so we have\n",
    "\n",
    "$$\n",
    "\\ln{p(\\mathbf{d}|m,c,I)} \\equiv \\log{L} = -\\frac{M}{2}\\ln{(2\\pi)} - \\ln\\left(\\prod_{i=1}^M \\sigma_i\\right) - \\sum_{i=1}^M\\frac{\\left[(d_i - y(x_i;m,c)\\right]^2}{2\\sigma_i^2}.\n",
    "$$\n",
    "\n",
    "For many cases we can ignore the terms that do not include our required parameters when sampling from their marginalised likelihoods (as they will just be constants), so often the log-likelihood can be set to be\n",
    "\n",
    "$$\n",
    "\\log{L} = - \\sum_{i=1}^M\\frac{\\left[(d_i - y(x_i;m,c)\\right]^2}{2\\sigma_i^2}.\n",
    "$$\n",
    "\n",
    "> **Note**: If wanting to evaluate the marginal likelihood for the data (e.g., using nested sampling, which is\n",
    "> discussed later) to use it for [model comparison](https://en.wikipedia.org/wiki/Bayes%5ffactor), the constants\n",
    "> may be required.\n",
    "\n",
    "### Setting the prior\n",
    "\n",
    "In addition to the likelihood, we need to define [prior](https://en.wikipedia.org/wiki/Prior_probability) distributions on the parameters. To demonstrate a couple of different, and reasonably common, priors, I'll use a [uniform probability distribution](https://en.wikipedia.org/wiki/Continuous_uniform_distribution) for the prior on $m$ and a Gaussian probability distribution for the prior on $c$:\n",
    "\n",
    "$$\n",
    "p(m|\\mu_m,\\sigma_m,I) = \\frac{1}{\\sqrt{2\\pi\\sigma_m^2}}\\exp{\\left(-\\frac{(m-\\mu_m)^2}{2\\sigma_m^2}\\right)},\n",
    "$$\n",
    "\n",
    "and\n",
    "\n",
    "$$\n",
    "p(c|c_{\\rm min}, c_{\\rm max}) = \\Bigg\\{\\begin{array}{cl}\n",
    "\\frac{1}{c_{\\rm max}-c_{\\rm min}} & \\text{if}~c_{\\rm min} < c < c_{\\rm max}, \\\\\n",
    "0 & \\text{otherwise}.\n",
    "\\end{array}\n",
    "$$\n",
    "\n",
    "In our example we'll set:\n",
    "\n",
    " * $\\mu_m = 0$ and $\\sigma_m = 10$,\n",
    " * $c_{\\rm min} = -10$ and $c_{\\rm max} = -10$.\n",
    " \n",
    "> **Note**: These priors are not intended to be the [least informative](https://en.wikipedia.org/wiki/Prior%5fprobability#Uninformative%5fpriors) for the parameterisation that we have, but\n",
    "> are just chosen for demonstration purposes to show how to code up two different distributions. A better prior\n",
    "> for this particular problem might be the one discussed [here](https://jakevdp.github.io/blog/2014/06/14/frequentism-and-bayesianism-4-bayesian-in-python/#The-Prior), which \n",
    "> could be coded up for PyMC3 using the example [here](http://docs.pymc.io/notebooks/getting%5fstarted.html#Arbitrary-distributions).\n",
    "\n",
    "### Creating the data\n",
    "\n",
    "So, let's get started creating our data. I'll (arbitrarily) use:\n",
    "\n",
    " * $m = 3.5$,\n",
    " * $c = 1.2$,\n",
    "\n",
    "for the model and\n",
    "\n",
    " * $\\mathbf{x} \\in [0, 10)$ in $M=50$ uniform steps ($[a,b)$ means [inclusive of $a$, but exclusive of $b$](https://en.wikipedia.org/wiki/Bracket_%28mathematics%29#Intervals)),\n",
    " * $\\sigma_i = \\sigma = 2$ (i.e., each noise point is independent, but has the same standard deviation),\n",
    " \n",
    "for the data."
   ]
  },
  {
   "cell_type": "code",
   "execution_count": 1,
   "metadata": {},
   "outputs": [],
   "source": [
    "# show plots inline in the notebook\n",
    "%matplotlib inline\n",
    "\n",
    "import numpy as np                  # import numpy\n",
    "from time import time               # use for timing functions\n",
    "\n",
    "# useful modules!\n",
    "import os\n",
    "import sys\n",
    "\n",
    "# make the plots look a bit nicer with some defaults\n",
    "from matplotlib import pyplot as pl # import pyplot from matplotlib\n",
    "import matplotlib as mpl\n",
    "rcparams = {}\n",
    "rcparams['axes.linewidth'] = 0.5\n",
    "rcparams['font.family'] = 'serif'\n",
    "rcparams['font.size'] = 22\n",
    "rcparams['legend.fontsize'] = 16\n",
    "rcparams['mathtext.fontset'] = \"stix\"\n",
    "\n",
    "# functions for plotting posteriors\n",
    "import corner\n",
    "from scipy.stats import gaussian_kde"
   ]
  },
  {
   "cell_type": "code",
   "execution_count": 2,
   "metadata": {},
   "outputs": [
    {
     "data": {
      "image/png": "[encoded data removed]",
      "text/plain": [
       "<Figure size 648x432 with 1 Axes>"
      ]
     },
     "metadata": {
      "needs_background": "light"
     },
     "output_type": "display_data"
    }
   ],
   "source": [
    "# set the true values of the model parameters for creating the data\n",
    "m = 3.5 # gradient of the line\n",
    "c = 1.2 # y-intercept of the line\n",
    "\n",
    "# set the \"predictor variable\"/abscissa\n",
    "M = 50\n",
    "xmin = 0.\n",
    "xmax = 10.\n",
    "stepsize = (xmax-xmin)/M\n",
    "x = np.arange(xmin, xmax, stepsize)\n",
    "\n",
    "# define the model function\n",
    "def straight_line(x, m, c):\n",
    "    \"\"\"\n",
    "    A straight line model: y = m*x + c\n",
    "    \n",
    "    Args:\n",
    "        x (list): a set of abscissa points at which the model is defined\n",
    "        m (float): the gradient of the line\n",
    "        c (float): the y-intercept of the line\n",
    "    \"\"\"\n",
    "\n",
    "    return m*x + c\n",
    "\n",
    "# seed our random number generator, so we have reproducible data\n",
    "np.random.seed(sum([ord(v) for v in 'samplers']))\n",
    "\n",
    "# create the data - the model plus Gaussian noise\n",
    "sigma = 2.0  # standard deviation of the noise\n",
    "data = straight_line(x, m, c) + np.random.normal(scale=sigma, size=M)\n",
    "\n",
    "# plot the data\n",
    "mpl.rcParams.update(rcparams) # update plot parameters\n",
    "fig, ax = pl.subplots(figsize=(9,6))\n",
    "ax.plot(x, data, 'bo', alpha=0.5, label='data')\n",
    "ax.plot(x, straight_line(x, m, c), 'r-', lw=2, label='model')\n",
    "ax.legend()\n",
    "ax.set_xlim([xmin, xmax])\n",
    "ax.set_xlabel(r'$x$');"
   ]
  },
  {
   "cell_type": "markdown",
   "metadata": {},
   "source": [
    "## MCMC samplers\n",
    "\n",
    "First up I'll deal with MCMC samplers that are purely written in Python, then a couple that are wrappers to other libraries.\n",
    "\n",
    "### emcee\n",
    "\n",
    "[emcee](https://emcee.readthedocs.io/) ([Foreman-Mackey _et al_, 2013](https://arxiv.org/abs/1202.3665)) is a Python MCMC implementation that uses an affine invariant ensemble sampler ([Goodman & Weare, 2010](https://msp.org/camcos/2010/5-1/p04.xhtml)). This basically means that it doesn't just evolve a single point in the model parameter space, but evolves and ensemble of points, and steps in the evolution are tuned based on the current state of the ensemble. The steps scale naturally (the *affine invariant* bit) as the ensemble closes in on the posterior. This code has been [well used](https://emcee.readthedocs.io/en/v3.0.2/testimonials/) in the astrophysics community (and as an astrophysicist myself I'm showing it as my first example!).\n",
    "\n",
    "emcee is available on [PyPI](https://pypi.org/) and is [installable](https://emcee.readthedocs.io/en/stable/user/install/#package-managers) via `pip` with:\n",
    "\n",
    "```bash\n",
    "pip install emcee\n",
    "```\n",
    "\n",
    "or via [Conda](https://conda.io/en/latest/index.html) [with](https://anaconda.org/conda-forge/emcee):\n",
    "\n",
    "```bash\n",
    "conda install -c conda-forge emcee \n",
    "```\n",
    "\n",
    "The source code is available on GitHub [here](https://emcee.readthedocs.io/en/stable/). The example here is very similar to the [line model example](https://emcee.readthedocs.io/en/stable/tutorials/line/) given in the emcee documentation.\n",
    "\n",
    "First up, we need to define the likelihood function, prior functions, and posterior probability function. These all need to be defined as the natural logarithms of the functions. All the functions take in a sample [tuple](https://docs.python.org/3/tutorial/datastructures.html#tuples-and-sequences) or list, where a sample is a vector $\\vec{\\theta}$ of parameter values, that can be unpacked to give the individual parameter values. Other arguments to the posterior function can be user defined.\n",
    "\n",
    "#### Posterior\n",
    "\n",
    "As we do not care about the marginal likelihood, the posterior will just be the product of the likelihood and prior, and will take the following form:"
   ]
  },
  {
   "cell_type": "code",
   "execution_count": 3,
   "metadata": {},
   "outputs": [],
   "source": [
    "def logposterior(theta, data, sigma, x):\n",
    "    \"\"\"\n",
    "    The natural logarithm of the joint posterior.\n",
    "\n",
    "    Args:\n",
    "        theta (tuple): a sample containing individual parameter values\n",
    "        data (list): the set of data/observations\n",
    "        sigma (float): the standard deviation of the data points\n",
    "        x (list): the abscissa values at which the data/model is defined\n",
    "    \"\"\"\n",
    "\n",
    "    lp = logprior(theta) # get the prior\n",
    "\n",
    "    # if the prior is not finite return a probability of zero (log probability of -inf)\n",
    "    if not np.isfinite(lp):\n",
    "        return -np.inf\n",
    "\n",
    "    # return the likeihood times the prior (log likelihood plus the log prior)\n",
    "    return lp + loglikelihood(theta, data, sigma, x)"
   ]
  },
  {
   "cell_type": "markdown",
   "metadata": {},
   "source": [
    "#### Likelihood\n",
    "\n",
    "The likelihood will take the following form:"
   ]
  },
  {
   "cell_type": "code",
   "execution_count": 4,
   "metadata": {},
   "outputs": [],
   "source": [
    "def loglikelihood(theta, data, sigma, x):\n",
    "    \"\"\"\n",
    "    The natural logarithm of the joint Gaussian likelihood.\n",
    "\n",
    "    Args:\n",
    "        theta (tuple): a sample containing individual parameter values\n",
    "        data (list): the set of data/observations\n",
    "        sigma (float): the standard deviation of the data points\n",
    "        x (list): the abscissa values at which the data/model is defined\n",
    "\n",
    "    Note:\n",
    "        We do not include the normalisation constants (as discussed above).\n",
    "    \"\"\"\n",
    "    \n",
    "    # unpack the model parameters from the tuple\n",
    "    m, c = theta\n",
    "\n",
    "    # evaluate the model (assumes that the straight_line model is defined as above)\n",
    "    md = straight_line(x, m, c)\n",
    "\n",
    "    # return the log likelihood\n",
    "    return -0.5 * np.sum(((md - data) / sigma)**2)"
   ]
  },
  {
   "cell_type": "markdown",
   "metadata": {},
   "source": [
    "#### Prior\n",
    "\n",
    "The prior function will take the following form:"
   ]
  },
  {
   "cell_type": "code",
   "execution_count": 5,
   "metadata": {},
   "outputs": [],
   "source": [
    "def logprior(theta):\n",
    "    \"\"\"\n",
    "    The natural logarithm of the prior probability.\n",
    "\n",
    "    Args:\n",
    "        theta (tuple): a sample containing individual parameter values\n",
    "\n",
    "    Note:\n",
    "        We can ignore the normalisations of the prior here.\n",
    "    \"\"\"\n",
    "\n",
    "    lp = 0.\n",
    "\n",
    "    # unpack the model parameters from the tuple\n",
    "    m, c = theta\n",
    "\n",
    "    # uniform prior on c\n",
    "    cmin = -10. # lower range of prior\n",
    "    cmax = 10.  # upper range of prior\n",
    "\n",
    "    # set prior to 1 (log prior to 0) if in the range and zero (-inf) outside the range\n",
    "    # (we don't care about it being properly normalised, but you can if you want) \n",
    "    lp = 0. if cmin < c < cmax else -np.inf\n",
    "\n",
    "    # Gaussian prior on m\n",
    "    mmu = 0.     # mean of the Gaussian prior\n",
    "    msigma = 10. # standard deviation of the Gaussian prior\n",
    "    lp -= 0.5 * ((m - mmu) / msigma)**2\n",
    "\n",
    "    return lp"
   ]
  },
  {
   "cell_type": "markdown",
   "metadata": {},
   "source": [
    "#### MCMC set up\n",
    "\n",
    "We need to decide on an initial number of ensemble points and initialise the samples, i.e., set starting points for them. The initial samples can be drawn from the prior distributions (in the emcee documentation [example](https://emcee.readthedocs.io/en/stable/tutorials/line/) it starts the opposite way round, i.e., with initial samples tightly packed around the true value). We'll choose 100 ensemble points (the number of so-called *walkers*) and initialise them with:"
   ]
  },
  {
   "cell_type": "code",
   "execution_count": 6,
   "metadata": {},
   "outputs": [],
   "source": [
    "Nens = 100   # number of ensemble points\n",
    "\n",
    "mmu = 0.     # mean of the Gaussian prior\n",
    "msigma = 10. # standard deviation of the Gaussian prior\n",
    "\n",
    "mini = np.random.normal(mmu, msigma, Nens) # initial m points\n",
    "\n",
    "cmin = -10.  # lower range of prior\n",
    "cmax = 10.   # upper range of prior\n",
    "\n",
    "cini = np.random.uniform(cmin, cmax, Nens) # initial c points\n",
    "\n",
    "inisamples = np.array([mini, cini]).T # initial samples\n",
    "\n",
    "ndims = inisamples.shape[1] # number of parameters/dimensions"
   ]
  },
  {
   "cell_type": "markdown",
   "metadata": {},
   "source": [
    "Because our initial samples are drawn from the prior it can take time for them to converge on sampling from the posterior distributions that we want. To try and get around this we can run the sampler with a [burn-in](https://support.sas.com/documentation/cdl/en/statug/63033/HTML/default/viewer.htm#statug_introbayes_sect007.htm) period (although see, e.g., [here](http://users.stat.umn.edu/~geyer/mcmc/burn.html) or [here](https://www.johndcook.com/blog/2016/01/25/mcmc-burn-in/) for some discussions about whether burn-ins are actually necessary), and we will ignore samples during this burn-in.\n",
    "\n",
    "> **Note**: Alternative options could be to use some optimisation routine to try and find the posterior mode and start samples at that point, or use all samples, work out an autocorrelation length and thin the samples accordingly so they are uncorrelated (as shown a bit later), which gets rid of correlations during the initial convergence of the samples.\n",
    "\n",
    "We'll choose a burn-in of 500 samples, and then run the chain for another 500 samples, which will give an output with $(500+500)\\times 100 = 100000$ samples."
   ]
  },
  {
   "cell_type": "code",
   "execution_count": 7,
   "metadata": {},
   "outputs": [],
   "source": [
    "Nburnin = 500   # number of burn-in samples\n",
    "Nsamples = 500  # number of final posterior samples"
   ]
  },
  {
   "cell_type": "markdown",
   "metadata": {},
   "source": [
    "The sampler first has to be initialised and told the required arguments, including any additional arguments for the posterior function:"
   ]
  },
  {
   "cell_type": "code",
   "execution_count": 8,
   "metadata": {},
   "outputs": [
    {
     "name": "stdout",
     "output_type": "stream",
     "text": [
      "emcee version: 3.0.2\n"
     ]
    }
   ],
   "source": [
    "import emcee # import the emcee package\n",
    "\n",
    "print('emcee version: {}'.format(emcee.__version__))\n",
    "\n",
    "# for bookkeeping set number of likelihood calls to zero\n",
    "loglikelihood.ncalls = 0\n",
    "\n",
    "# set additional args for the posterior (the data, the noise std. dev., and the abscissa)\n",
    "argslist = (data, sigma, x)\n",
    "\n",
    "# set up the sampler\n",
    "sampler = emcee.EnsembleSampler(Nens, ndims, logposterior, args=argslist)"
   ]
  },
  {
   "cell_type": "markdown",
   "metadata": {},
   "source": [
    "Now the sampler can be run, and the burn-in samples removed, with:"
   ]
  },
  {
   "cell_type": "code",
   "execution_count": 9,
   "metadata": {},
   "outputs": [
    {
     "name": "stdout",
     "output_type": "stream",
     "text": [
      "Time taken to run 'emcee' is 1.9110567569732666 seconds\n"
     ]
    }
   ],
   "source": [
    "# pass the initial samples and total number of samples required\n",
    "t0 = time() # start time\n",
    "sampler.run_mcmc(inisamples, Nsamples + Nburnin);\n",
    "t1 = time()\n",
    "\n",
    "timeemcee = (t1-t0)\n",
    "print(\"Time taken to run 'emcee' is {} seconds\".format(timeemcee))\n",
    "\n",
    "# extract the samples (removing the burn-in)\n",
    "samples_emcee = sampler.get_chain(flat=True, discard=Nburnin)"
   ]
  },
  {
   "cell_type": "markdown",
   "metadata": {},
   "source": [
    "Now we can plot the resulting posteriors using [corner.py](http://corner.readthedocs.io/en/latest/), and also show smoothed versions using a Gaussian [kernel density estimate](https://en.wikipedia.org/wiki/Kernel_density_estimation)."
   ]
  },
  {
   "cell_type": "code",
   "execution_count": 10,
   "metadata": {},
   "outputs": [
    {
     "data": {
      "image/png": "[encoded data removed]",
      "text/plain": [
       "<Figure size 396x396 with 4 Axes>"
      ]
     },
     "metadata": {
      "needs_background": "light"
     },
     "output_type": "display_data"
    }
   ],
   "source": [
    "# plot the resulting posteriors\n",
    "mpl.rcParams.update({'font.size': 16})\n",
    "\n",
    "#def plotposts(samples, truths=[m,c]):\n",
    "def plotposts(samples, **kwargs):\n",
    "    \"\"\"\n",
    "    Function to plot posteriors using corner.py and scipy's gaussian KDE function.\n",
    "    \"\"\"\n",
    "    if \"truths\" not in kwargs:\n",
    "        kwargs[\"truths\"] = [m, c]\n",
    "\n",
    "    fig = corner.corner(samples, labels=[r'$m$', r'$c$'], hist_kwargs={'density': True}, **kwargs)\n",
    "\n",
    "    # plot KDE smoothed version of distributions\n",
    "    for axidx, samps in zip([0, 3], samples.T):\n",
    "        kde = gaussian_kde(samps)\n",
    "        xvals = fig.axes[axidx].get_xlim()\n",
    "        xvals = np.linspace(xvals[0], xvals[1], 100)\n",
    "        fig.axes[axidx].plot(xvals, kde(xvals), color='firebrick')\n",
    "\n",
    "# make plot\n",
    "plotposts(samples_emcee)"
   ]
  },
  {
   "cell_type": "code",
   "execution_count": 11,
   "metadata": {},
   "outputs": [],
   "source": [
    "# lets store some results for showing together later\n",
    "resdict = {}\n",
    "\n",
    "resdict['memcee_mu'] = np.mean(samples_emcee[:,0])     # mean of m samples\n",
    "resdict['memcee_sig'] = np.std(samples_emcee[:,0])     # standard deviation of m samples\n",
    "resdict['cemcee_mu'] = np.mean(samples_emcee[:,1])     # mean of c samples\n",
    "resdict['cemcee_sig'] = np.std(samples_emcee[:,1])     # standard deviation of c samples\n",
    "resdict['ccemcee'] = np.corrcoef(samples_emcee.T)[0,1] # correlation coefficient between parameters"
   ]
  },
  {
   "cell_type": "markdown",
   "metadata": {},
   "source": [
    "The time to convergence can depend greatly on how the initial points are set up, so if you have a better guess as to location and shape of the posterior, then using those guesses is advised. But, beware overtuning! emcee has some handy utilities to draw samples from around an initial guess. In the example below I show the use of the (now deprecated) [`sample_ball()`](https://emcee.readthedocs.io/en/v2.2.1/api/#emcee.utils.sample_ball) function, which creates a ball of samples assuming no correlations between parameters. However, if you knew that your parameter uncertainties had a particular covariance, you could use `sample_ellipsoid()` to generate a sample cloud using a supplied covarance matrix."
   ]
  },
  {
   "cell_type": "code",
   "execution_count": 12,
   "metadata": {},
   "outputs": [],
   "source": [
    "from emcee.utils import sample_ball\n",
    "m_guess, c_guess = 1., 1. # guess at the mean of the distribution\n",
    "m_std, c_std = 1., 1.     # guess at the width of the distribution\n",
    "\n",
    "# generate samples from a ball based on those guesses\n",
    "inisamples = sample_ball((m_guess, c_guess), (m_std, c_std), size=Nens)"
   ]
  },
  {
   "cell_type": "code",
   "execution_count": 13,
   "metadata": {},
   "outputs": [
    {
     "name": "stdout",
     "output_type": "stream",
     "text": [
      "Time taken to run 'emcee' is 1.8805787563323975 seconds\n"
     ]
    }
   ],
   "source": [
    "# reset so we don't pick up the result from earlier\n",
    "sampler.reset()\n",
    "\n",
    "# pass the initial samples and total number of samples required\n",
    "t0 = time() # start time\n",
    "sampler.run_mcmc(inisamples, Nsamples+Nburnin);\n",
    "t1 = time()\n",
    "\n",
    "timeemcee = (t1-t0)\n",
    "print(\"Time taken to run 'emcee' is {} seconds\".format(timeemcee))\n",
    "\n",
    "# extract the samples (removing the burn-in)\n",
    "samples_emcee = sampler.get_chain(flat=True, discard=Nburnin)"
   ]
  },
  {
   "cell_type": "code",
   "execution_count": 14,
   "metadata": {},
   "outputs": [
    {
     "data": {
      "image/png": "[encoded data removed]",
      "text/plain": [
       "<Figure size 396x396 with 4 Axes>"
      ]
     },
     "metadata": {
      "needs_background": "light"
     },
     "output_type": "display_data"
    }
   ],
   "source": [
    "# plot the resulting posteriors\n",
    "plotposts(samples_emcee)"
   ]
  },
  {
   "cell_type": "markdown",
   "metadata": {},
   "source": [
    "Once the sampler has settled, the samples that come out of MCMC will be drawn from the posterior. However, even in the best of situations, draws which are adjacent are often correlated with each other. The number of \"independent\" samples, that is, fully independent draws from the posterior can be much fewer than the samples in hand.\n",
    "\n",
    "The emcee [`EnsembleSampler`](https://emcee.readthedocs.io/en/v3.0.2/user/sampler/#emcee.EnsembleSampler) class has an inbuilt function, [`get_autocorr_time()`](https://emcee.readthedocs.io/en/stable/user/sampler/#emcee.EnsembleSampler.get_autocorr_time), to calculate the auto-correlation length (ACL) (or time) - this is an estimate the number of samples between independent samples in the chain. You can use this number to estimate convergence of chains, and also to thin out chains to produce independent samples."
   ]
  },
  {
   "cell_type": "code",
   "execution_count": 15,
   "metadata": {},
   "outputs": [
    {
     "name": "stderr",
     "output_type": "stream",
     "text": [
      "WARNING:root:The chain is shorter than 50 times the integrated autocorrelation time for 2 parameter(s). Use this estimate with caution and run a longer chain!\n",
      "N/50 = 20;\n",
      "tau: [23.98692287 25.13038681]\n"
     ]
    },
    {
     "name": "stdout",
     "output_type": "stream",
     "text": [
      "The autocorrelation length for m is 23.986922869990487 and c is 25.130386813726226\n",
      "Number of independent samples is 2000\n",
      "Effective samples per second: 1063\n"
     ]
    },
    {
     "data": {
      "image/png": "[encoded data removed]",
      "text/plain": [
       "<Figure size 396x396 with 4 Axes>"
      ]
     },
     "metadata": {
      "needs_background": "light"
     },
     "output_type": "display_data"
    }
   ],
   "source": [
    "m_acl, c_acl = sampler.get_autocorr_time(quiet=True)\n",
    "print(\"The autocorrelation length for m is {0} and c is {1}\".format(m_acl, c_acl))\n",
    "\n",
    "# thin out the chain\n",
    "samples_emcee = sampler.get_chain(flat=True, discard=Nburnin, thin=int(max([m_acl, c_acl])))\n",
    "print(\"Number of independent samples is {}\".format(len(samples_emcee)))\n",
    "\n",
    "resdict['essemcee'] = int(len(samples_emcee) / timeemcee)\n",
    "print(\"Effective samples per second: {}\".format(resdict['essemcee']))\n",
    "\n",
    "# plot the resulting posteriors\n",
    "plotposts(samples_emcee)"
   ]
  },
  {
   "cell_type": "markdown",
   "metadata": {},
   "source": [
    "In practice, if you have a minimum number of independent samples that you require then you can repeatedly run the sampler, checking the ACL each time (and maybe adjusting the `c` input parameter for `get_autocorr_time()`), until you have collected the required number.\n",
    "\n",
    "Checking the ACL is something that can be done for any of the samplers discussed in the rest of this notebook. Different sampling methods can lead to different ACLs, and methods that may take more time per sample might end up having shorter ACLs. So, examining the various trade-offs between overall speed and the final number of independent samples can be worthwhile."
   ]
  },
  {
   "cell_type": "markdown",
   "metadata": {},
   "source": [
    "### PyMC3\n",
    "\n",
    "[PyMC3](http://docs.pymc.io/) ([Salvatier, Wiecki & Fonnesbeck, 2016](https://peerj.com/articles/cs-55/)) is a Python MCMC implementation that can use a variety of modern sampling method, including \"No-U-turn sampling\" (NUTS) ([Hoffman & Gellman, 2014](http://www.jmlr.org/papers/v15/hoffman14a.html)) and [Hamiltonian Monte Carlo](https://en.wikipedia.org/wiki/Hamiltonian_Monte_Carlo) ([Duane _et al_, 1987](http://www.sciencedirect.com/science/article/pii/037026938791197X)), both of which make use of the gradient of the posterior to efficiently sample the space. An example of getting started using PyMC3 can be found [here](https://docs.pymc.io/notebooks/getting_started#A-Motivating-Example:-Linear-Regression) upon which this example is based.\n",
    "\n",
    "This code can be [installed](http://docs.pymc.io/#installation) using `pip` with:\n",
    "\n",
    "```bash\n",
    "pip install pymc3\n",
    "```\n",
    "\n",
    "or with [Conda](https://conda.io/docs/index.html) [with](https://anaconda.org/conda-forge/pymc3):\n",
    "\n",
    "```bash\n",
    "conda install -c conda-forge pymc3\n",
    "```\n",
    "\n",
    "and the source is available on GitHub [here](https://github.com/pymc-devs/pymc3).\n",
    "\n",
    "The majority of distributions that can be used for priors and likelihood functions are [predefined](http://docs.pymc.io/api/distributions.html) in PyMC3, so you do not have to worry about writing them yourself (although you can create your [own custom distribution](http://docs.pymc.io/notebooks/getting_started.html#Arbitrary-distributions)).\n",
    "\n",
    "Note that in PyMC3 the prior and likelihood distributions have to be defined within the [context](http://book.pythontips.com/en/latest/context_managers.html) of a PyMC3 [`Model()` class](https://docs.pymc.io/api/model.html#module-pymc3.model), and cannot be defined outside that context (the `with` statment). Therefore, to set up the model we can't just use the `straight_line()` function defined above, but can do the following:"
   ]
  },
  {
   "cell_type": "code",
   "execution_count": 16,
   "metadata": {},
   "outputs": [
    {
     "name": "stderr",
     "output_type": "stream",
     "text": [
      "WARNING:theano.tensor.blas:Using NumPy C-API based implementation for BLAS functions.\n"
     ]
    },
    {
     "name": "stdout",
     "output_type": "stream",
     "text": [
      "PyMC3 version: 3.11.2\n"
     ]
    }
   ],
   "source": [
    "import pymc3 as pm # import PyMC3\n",
    "\n",
    "print('PyMC3 version: {}'.format(pm.__version__))\n",
    "\n",
    "# set the PyMC3 model\n",
    "linear_model = pm.Model()\n",
    "\n",
    "with linear_model:\n",
    "    # set prior parameters\n",
    "    cmin = -10. # lower range of uniform distribution on c\n",
    "    cmax = 10.  # upper range of uniform distribution on c\n",
    "    \n",
    "    mmu = 0.     # mean of Gaussian distribution on m\n",
    "    msigma = 10. # standard deviation of Gaussian distribution on m\n",
    "    \n",
    "    # set priors for unknown parameters\n",
    "    cmodel = pm.Uniform('c', lower=cmin, upper=cmax) # uniform prior on y-intercept\n",
    "    mmodel = pm.Normal('m', mu=mmu, sd=msigma)       # Gaussian prior on gradient\n",
    "    \n",
    "    sigmamodel = sigma # set a single standard deviation\n",
    "    \n",
    "    # Expected value of outcome, aka \"the model\"\n",
    "    mu = mmodel*x + cmodel\n",
    "\n",
    "    # Gaussian likelihood (sampling distribution) of observations, \"data\"\n",
    "    Y_obs = pm.Normal('Y_obs', mu=mu, sd=sigmamodel, observed=data)"
   ]
  },
  {
   "cell_type": "markdown",
   "metadata": {},
   "source": [
    "Now we can perform the sampling. By default, for continuous variables like we have, the [sampling step method](http://docs.pymc.io/api/inference.html#step-methods) will use [NUTS](http://docs.pymc.io/api/inference.html#module-pymc3.step_methods.hmc.nuts), but the method can be chosen manually. We'll run with 1000 samples, and tune (like the burn-in discussed [above](#MCMC-set-up)) with 1000 samples (discarding these tuning samples):"
   ]
  },
  {
   "cell_type": "code",
   "execution_count": 18,
   "metadata": {},
   "outputs": [
    {
     "name": "stderr",
     "output_type": "stream",
     "text": [
      "WARNING:pymc3:The acceptance probability does not match the target. It is 0.8881386717506918, but should be close to 0.8. Try to increase the number of tuning steps.\n",
      "WARNING:pymc3:The acceptance probability does not match the target. It is 0.9037542650276801, but should be close to 0.8. Try to increase the number of tuning steps.\n"
     ]
    }
   ],
   "source": [
    "%%capture\n",
    "Nsamples = 1000 # final number of samples\n",
    "Ntune = 1000    # number of tuning samples\n",
    "\n",
    "# perform sampling\n",
    "t0 = time()\n",
    "with linear_model:\n",
    "    trace = pm.sample(Nsamples, tune=Ntune, discard_tuned_samples=True); # perform sampling\n",
    "t1 = time()\n",
    "\n",
    "timepymc3 = (t1-t0)"
   ]
  },
  {
   "cell_type": "code",
   "execution_count": 19,
   "metadata": {},
   "outputs": [
    {
     "name": "stdout",
     "output_type": "stream",
     "text": [
      "Time taken to run 'PyMC3' is 25.621554136276245 seconds\n"
     ]
    }
   ],
   "source": [
    "print(\"Time taken to run 'PyMC3' is {} seconds\".format(timepymc3))"
   ]
  },
  {
   "cell_type": "markdown",
   "metadata": {},
   "source": [
    "Now, let's extract the samples from the `trace` object and make a corner plot!"
   ]
  },
  {
   "cell_type": "code",
   "execution_count": 20,
   "metadata": {},
   "outputs": [
    {
     "data": {
      "image/png": "[encoded data removed]",
      "text/plain": [
       "<Figure size 396x396 with 4 Axes>"
      ]
     },
     "metadata": {
      "needs_background": "light"
     },
     "output_type": "display_data"
    }
   ],
   "source": [
    "samples_pymc3 = np.vstack((trace['m'], trace['c'])).T\n",
    "\n",
    "resdict['mpymc3_mu'] = np.mean(samples_pymc3[:,0])      # mean of m samples\n",
    "resdict['mpymc3_sig'] = np.std(samples_pymc3[:,0])      # standard deviation of m samples\n",
    "resdict['cpymc3_mu'] = np.mean(samples_pymc3[:,1])      # mean of c samples\n",
    "resdict['cpymc3_sig'] = np.std(samples_pymc3[:,1])      # standard deviation of c samples\n",
    "resdict['ccpymc3'] = np.corrcoef(samples_pymc3.T)[0,1]  # correlation coefficient between parameters\n",
    "\n",
    "plotposts(samples_pymc3)"
   ]
  },
  {
   "cell_type": "code",
   "execution_count": 21,
   "metadata": {},
   "outputs": [
    {
     "name": "stdout",
     "output_type": "stream",
     "text": [
      "Autocorrelation length for 'm' is [4.57782586]\n",
      "Autocorrelation length for 'c' is [3.95745792]\n",
      "Maximum autocorrelation length is 4.6\n",
      "Effective samples per second: 34\n"
     ]
    }
   ],
   "source": [
    "# calculate the autocorrelation length\n",
    "acts = []\n",
    "for param in [\"m\", \"c\"]:\n",
    "    acts.append(emcee.autocorr.integrated_time(trace[param]))\n",
    "    print(\"Autocorrelation length for '{}' is {}\".format(param, acts[-1]))\n",
    "print(\"Maximum autocorrelation length is {0:.1f}\".format(np.max(acts)))\n",
    "\n",
    "resdict['esspymc3'] = int((len(samples_pymc3) / np.max(acts)) / timepymc3)\n",
    "print(\"Effective samples per second: {}\".format(resdict['esspymc3']))"
   ]
  },
  {
   "cell_type": "markdown",
   "metadata": {},
   "source": [
    "### TensorFlow Probability\n",
    "\n",
    "[TensorFlow Probability](https://www.tensorflow.org/probability/) (TFP) is a probabilistic modelling framework built upon the [TensorFlow](https://www.tensorflow.org/) library. TFP contains some samplers for performing MCMC. At the time of writing TFP is still fairly new, and [currently includes](https://github.com/tensorflow/probability/tree/master/tensorflow_probability/python/mcmc) a Hamiltonian MC sampler, a Metropolis-Hastings sampler, and a slice sampler.\n",
    "\n",
    "TFP can be [installed](https://github.com/tensorflow/probability#stable-builds) from [PyPI](https://pypi.org/) via `pip` with:\n",
    "\n",
    "```bash\n",
    "pip install tensorflow tensorflow-probability\n",
    "```\n",
    "\n",
    "where `tensorflow` must be explicitly installed as it's not a dependency of `tensorflow-probability`.\n",
    "\n",
    "Using TFP for MCMC sampling has some similarites to PyMC3, however it can be fairly opaque, and (for me at least!) non-intuitive. The example given does not come with a detailed explanation of the constructions I've used, because I don't have any in-depth knowlegde of them! It was mainly cobbled together by looking at the example given [here](https://www.tensorflow.org/probability/examples/Eight_Schools).\n",
    "\n",
    "Firstly, we can set up the probablistic model (with a [`JointDistributionSequential`](https://www.tensorflow.org/probability/api_docs/python/tfp/distributions/JointDistributionSequential) class) that contains the prior distributions on the parameters of interest and a `lambda` function defining the likelihood function, within which we write out the straight line model for the data. Some things to be aware of are: the arguments to the `lambda` function defining the likelihood must be given in the opposite order to that in which those arguments are placed within the `JointDistributionSequential` class; the `name` of the [`Independent`](https://www.tensorflow.org/probability/api_docs/python/tfp/distributions/Independent) distribution that holds the likelihood function should be the same as the name of the variable that holds the data. "
   ]
  },
  {
   "cell_type": "code",
   "execution_count": 22,
   "metadata": {},
   "outputs": [
    {
     "name": "stdout",
     "output_type": "stream",
     "text": [
      "TensorFlow version: 2.6.0-dev20210518\n",
      "TensorFlow Probability version: 0.14.0-dev20210518\n"
     ]
    }
   ],
   "source": [
    "# import TensorFlow probability\n",
    "import tensorflow_probability as tfp\n",
    "from tensorflow_probability import distributions as tfd\n",
    "import tensorflow as tf\n",
    "\n",
    "cmin = -10. # lower range of uniform distribution on c\n",
    "cmax = 10.  # upper range of uniform distribution on c\n",
    "\n",
    "mmu = 0.     # mean of Gaussian distribution on m\n",
    "msigma = 10. # standard deviation of Gaussian distribution on m\n",
    "\n",
    "# convert x values and data to 32 bit float\n",
    "xtfp = x.astype(np.float32)  # x is being use globally here\n",
    "datatfp = data.astype(np.float32)\n",
    "\n",
    "# set model - contains priors and the expected linear model\n",
    "model = tfd.JointDistributionSequential([\n",
    "  tfd.Normal(loc=mmu, scale=msigma, name=\"m\"),  # m prior\n",
    "  tfd.Uniform(cmin, cmax, name=\"c\"),  # c prior\n",
    "  lambda c, m: (tfd.Independent(\n",
    "        tfd.Normal( # the Normal likelihood function\n",
    "            loc=(m[..., tf.newaxis] * xtfp + c[..., tf.newaxis]), # the straight line model\n",
    "            scale=sigma  # the data standard deviation\n",
    "        ),\n",
    "        name=\"datatfp\",  # the name of the variable holding the data\n",
    "        reinterpreted_batch_ndims=1,\n",
    "    ))\n",
    "])\n",
    "\n",
    "print('TensorFlow version: {}'.format(tf.__version__))\n",
    "print('TensorFlow Probability version: {}'.format(tfp.__version__))"
   ]
  },
  {
   "cell_type": "markdown",
   "metadata": {},
   "source": [
    "Next, the probablistic model must be wrapped in a function that takes in values of the parameters being sampled and returns the probability."
   ]
  },
  {
   "cell_type": "code",
   "execution_count": 23,
   "metadata": {},
   "outputs": [],
   "source": [
    "def target_log_prob_fn(mvalue, cvalue):\n",
    "    return model.log_prob(\n",
    "        (mvalue, cvalue, datatfp)\n",
    "    )"
   ]
  },
  {
   "cell_type": "markdown",
   "metadata": {},
   "source": [
    "We can now set up the sampler and here we'll use the No U-turn Sampler (NUTS). For the set up of the [`NoUTurnSampler`](https://www.tensorflow.org/probability/api_docs/python/tfp/mcmc/NoUTurnSampler) we have to specify a step size (i.e., the size of the proposals). Some experimentation for our particular case shows a step size of 0.01 is reasonable, but it won't work for every case and most be tuned by hand. It also means that if different parameters have quite different dynamic ranges this method will not work well (it may produce jumps that are always for too big or small for certain sets of parameters).\n",
    "\n",
    "Wrapping the sampling within a function (`do_sampling()`) with the `@tf.function` decorator compiles the model and means it runs far faster than without the wrapper.\n",
    "\n",
    "We'll draw initial values of the `m` and `c` parameters from distributions that match their priors."
   ]
  },
  {
   "cell_type": "code",
   "execution_count": 33,
   "metadata": {},
   "outputs": [
    {
     "name": "stderr",
     "output_type": "stream",
     "text": [
      "/opt/conda/envs/python37/lib/python3.7/site-packages/tensorflow_probability/python/mcmc/sample.py:342: UserWarning: Tracing all kernel results by default is deprecated. Set the `trace_fn` argument to None (the future default value) or an explicit callback that traces the values you are interested in.\n",
      "  warnings.warn('Tracing all kernel results by default is deprecated. Set '\n"
     ]
    },
    {
     "name": "stdout",
     "output_type": "stream",
     "text": [
      "Acceptance rate: 0.92325\n"
     ]
    }
   ],
   "source": [
    "Nsamples = 4000 # final number of samples\n",
    "Nburn = 4000    # number of tuning samples\n",
    "\n",
    "# set up Hamiltonian MC (within TensorFlow function to speed up computation)\n",
    "@tf.function(autograph=False)\n",
    "def do_sampling():\n",
    "    # set initial state (random draw from prior)\n",
    "    qc = tf.random.uniform([], minval=cmin, maxval=cmax, name=\"init_c\")\n",
    "    qm = tf.random.normal([], stddev=msigma, mean=mmu, name=\"init_m\")\n",
    "\n",
    "    hmc_kernel = tfp.mcmc.HamiltonianMonteCarlo(\n",
    "        target_log_prob_fn=target_log_prob_fn,\n",
    "        step_size=0.05,\n",
    "        num_leapfrog_steps=5,\n",
    "    )\n",
    "\n",
    "    return tfp.mcmc.sample_chain(\n",
    "        num_results=Nsamples,\n",
    "        current_state=[qm, qc],\n",
    "        kernel=hmc_kernel,\n",
    "        num_burnin_steps=Nburn,\n",
    "    )\n",
    "\n",
    "t0 = time()\n",
    "states, kernel_results = do_sampling()\n",
    "t1 = time()\n",
    "\n",
    "timetfp = (t1-t0)\n",
    "\n",
    "# extract the samples\n",
    "ms, cs = states\n",
    "\n",
    "# convert output states to numpy arrays\n",
    "samples_tfp = np.vstack((ms.numpy(), cs.numpy())).T\n",
    "\n",
    "num_accepted = np.sum(kernel_results.is_accepted)\n",
    "print(\"Acceptance rate: {}\".format(num_accepted / Nsamples))  # print out acceptance rate"
   ]
  },
  {
   "cell_type": "code",
   "execution_count": 34,
   "metadata": {},
   "outputs": [
    {
     "name": "stdout",
     "output_type": "stream",
     "text": [
      "Time taken to run 'TFP' is 4.677964210510254 seconds\n"
     ]
    }
   ],
   "source": [
    "print(\"Time taken to run 'TFP' is {} seconds\".format(timetfp))"
   ]
  },
  {
   "cell_type": "code",
   "execution_count": 35,
   "metadata": {},
   "outputs": [
    {
     "data": {
      "image/png": "[encoded data removed]",
      "text/plain": [
       "<Figure size 396x396 with 4 Axes>"
      ]
     },
     "metadata": {
      "needs_background": "light"
     },
     "output_type": "display_data"
    }
   ],
   "source": [
    "resdict['mtfp_mu'] = np.mean(samples_tfp[:,0])      # mean of m samples\n",
    "resdict['mtfp_sig'] = np.std(samples_tfp[:,0])      # standard deviation of m samples\n",
    "resdict['ctfp_mu'] = np.mean(samples_tfp[:,1])      # mean of c samples\n",
    "resdict['ctfp_sig'] = np.std(samples_tfp[:,1])      # standard deviation of c samples\n",
    "resdict['cctfp'] = np.corrcoef(samples_tfp.T)[0,1]  # correlation coefficient between parameters\n",
    "\n",
    "plotposts(samples_tfp)"
   ]
  },
  {
   "cell_type": "markdown",
   "metadata": {},
   "source": [
    "### Zeus\n",
    "\n",
    "[Zeus](https://zeus-mcmc.readthedocs.io/en/latest/) ([Karamanis & Beutler, 2020](https://arxiv.org/abs/2002.06212), [Karamanis, Beutler & Peacock, 2021](https://arxiv.org/abs/2105.03468)) is a pure Python MCMC code that uses ensemble slice sampling. It is very similar in usage to [emcee](#emcee).\n",
    "\n",
    "Zeus is available via PyPI and can be installed using `pip` with:\n",
    "\n",
    "```bash\n",
    "pip install zeus-mcmc\n",
    "```\n",
    "\n",
    "or with [Conda](https://conda.io/docs/index.html) [with](https://anaconda.org/conda-forge/zeus-mcmc):\n",
    "\n",
    "```bash\n",
    "conda install -c conda-forge zeus-mcmc\n",
    "```\n",
    "\n",
    "The Zeus source code is available on [Github](https://github.com/minaskar/zeus).\n",
    "\n",
    "The Zeus documentation gives a nice [example of fitting a straight line](https://zeus-mcmc.readthedocs.io/en/latest/notebooks/datafit.html). The interface is so similar to [emcee](#emcee) that we can reuse the `logprior`, `loglikelihood` and `logposterior` functions that we used in the case (I won't bother redefining them, so you'll have to scroll back up!). So, that just leaves the sampling. We will just leave any tunable parameters at their default values, but you can choose between a few different proposal distributions."
   ]
  },
  {
   "cell_type": "code",
   "execution_count": 39,
   "metadata": {},
   "outputs": [
    {
     "name": "stderr",
     "output_type": "stream",
     "text": [
      "Initialising ensemble of 100 walkers...\n",
      "Sampling progress :   1%|          | 7/1000 [00:00<00:15, 65.29it/s]"
     ]
    },
    {
     "name": "stdout",
     "output_type": "stream",
     "text": [
      "Zeus version: 2.3.0\n"
     ]
    },
    {
     "name": "stderr",
     "output_type": "stream",
     "text": [
      "Sampling progress : 100%|██████████| 1000/1000 [00:11<00:00, 88.64it/s]\n",
      "Summary\n",
      "-------\n",
      "Number of Generations: 1000\n",
      "Number of Parameters: 2\n",
      "Number of Walkers: 100\n",
      "Number of Tuning Generations: 19\n",
      "Scale Factor: 1.049832\n",
      "Mean Integrated Autocorrelation Time: 3.01\n",
      "Effective Sample Size: 33251.43\n",
      "Number of Log Probability Evaluations: 532012\n",
      "Effective Samples per Log Probability Evaluation: 0.062501\n"
     ]
    }
   ],
   "source": [
    "import zeus\n",
    "\n",
    "print('Zeus version: {}'.format(zeus.__version__))\n",
    "\n",
    "ndim = 2          # Number of parameters/dimensions (e.g. m and c)\n",
    "Nens = 100        # for consistency with the emcee example we'll use 100 \n",
    "Nburn = 500       # burn-in samples\n",
    "Nsamples = 500    # Nsamples\n",
    "\n",
    "# set the initial samples (we'll draw from the prior)\n",
    "mini = np.random.normal(mmu, msigma, Nens) # initial m points\n",
    "cini = np.random.uniform(cmin, cmax, Nens) # initial c points\n",
    "inisamples = np.array([mini, cini]).T # initial samples\n",
    "\n",
    "# Initialise the sampler\n",
    "sampler = zeus.EnsembleSampler(Nens, ndim, logposterior, args=[data, sigma, x])\n",
    "\n",
    "t0 = time()\n",
    "# Run the sampler\n",
    "sampler.run_mcmc(inisamples, Nburn + Nsamples)\n",
    "t1 = time()\n",
    "\n",
    "timezeus = t1 - t0\n",
    "\n",
    "# print summary diagnostics\n",
    "sampler.summary"
   ]
  },
  {
   "cell_type": "code",
   "execution_count": null,
   "metadata": {},
   "outputs": [],
   "source": [
    "print(\"Time taken to run 'Zeus' is {} seconds\".format(timezeus))"
   ]
  },
  {
   "cell_type": "markdown",
   "metadata": {},
   "source": [
    "The [`EnsembleSampler`](https://zeus-mcmc.readthedocs.io/en/latest/api/sampler.html#zeus.EnsembleSampler) object has a method to extract the posterior samples and we can discard the burn-in and thin the samples if required."
   ]
  },
  {
   "cell_type": "code",
   "execution_count": null,
   "metadata": {},
   "outputs": [],
   "source": [
    "samples_zeus = sampler.get_chain(flat=True, discard=Nburn)\n",
    "\n",
    "resdict['mzeus_mu'] = np.mean(samples_zeus[:,0])      # mean of m samples\n",
    "resdict['mzeus_sig'] = np.std(samples_zeus[:,0])      # standard deviation of m samples\n",
    "resdict['czeus_mu'] = np.mean(samples_zeus[:,1])      # mean of c samples\n",
    "resdict['czeus_sig'] = np.std(samples_zeus[:,1])      # standard deviation of c samples\n",
    "resdict['cczeus'] = np.corrcoef(samples_zeus.T)[0,1]  # correlation coefficient between parameters\n",
    "\n",
    "plotposts(samples_zeus)"
   ]
  },
  {
   "cell_type": "code",
   "execution_count": null,
   "metadata": {},
   "outputs": [],
   "source": [
    "# calculate the autocorrelation length\n",
    "acts = []\n",
    "for i, param in enumerate([\"m\", \"c\"]):\n",
    "    acts.append(emcee.autocorr.integrated_time(samples_zeus[:, i]))\n",
    "    print(\"Autocorrelation length for '{}' is {}\".format(param, acts[-1]))\n",
    "print(\"Maximum autocorrelation length is {0:.1f}\".format(np.max(acts)))\n",
    "\n",
    "resdict['esszeus'] = int((len(samples_zeus) / np.max(acts)) / timezeus)\n",
    "print(\"Effective samples per second: {}\".format(resdict['esszeus']))"
   ]
  },
  {
   "cell_type": "markdown",
   "metadata": {},
   "source": [
    "### MCMC wrapper samplers\n",
    "\n",
    "There are other MCMC samplers that are not pure Python packages, but have a Python-based wrapper to a different library. With these you can't write pure Python model and probability functions, but instead have to create a code string that is then compiled and run using the underlying library functions. We will look at [PyStan](http://pystan.readthedocs.io) and [PyJAGS](https://pyjags.readthedocs.io)."
   ]
  },
  {
   "cell_type": "markdown",
   "metadata": {},
   "source": [
    "### PyStan\n",
    "\n",
    "[PyStan](http://pystan.readthedocs.io) is a Python interface to the popular [Stan](http://mc-stan.org/) library. As with [PyMC3](#PyMC3), it uses the modern NUTS and Hamiltonain MC sampling methods. It can be [installed](http://pystan.readthedocs.io/en/latest/getting_started.html#installation) using `pip` with:\n",
    "\n",
    "```bash\n",
    "pip install pystan\n",
    "```\n",
    "\n",
    "or via Conda [with](https://anaconda.org/conda-forge/pystan):\n",
    "\n",
    "```bash\n",
    "conda install -c conda-forge pystan\n",
    "```\n",
    "\n",
    "and the source code is available on GitHub [here](https://github.com/stan-dev/pystan).\n",
    "\n",
    "To define the model and distributions you need to write a code string like this:"
   ]
  },
  {
   "cell_type": "code",
   "execution_count": null,
   "metadata": {},
   "outputs": [],
   "source": [
    "# model and distributions for straight line fitting\n",
    "line_code = \"\"\"\n",
    "data {{\n",
    "    int<lower=0> N;      // number of data points\n",
    "    real y[N];           // observed data points\n",
    "    real x[N];           // abscissa points\n",
    "    real<lower=0> sigma; // standard deviation\n",
    "}}\n",
    "parameters {{\n",
    "    // parameters for the fit\n",
    "    real m;\n",
    "    real c;\n",
    "}}\n",
    "transformed parameters {{\n",
    "    real theta[N];\n",
    "    for (j in 1:N)\n",
    "    theta[j] = m * x[j] + c; // straight line model\n",
    "}}\n",
    "model {{\n",
    "    m ~ normal({mmu}, {msigma});     // prior on m (gradient)\n",
    "    c ~ uniform({clower}, {cupper}); // prior on c (y-intercept)\n",
    "    y ~ normal(theta, sigma);        // likelihood of the data given the model\n",
    "}}\n",
    "\"\"\""
   ]
  },
  {
   "cell_type": "markdown",
   "metadata": {},
   "source": [
    "You can then define the inputs to the `data` section in a dictionary:"
   ]
  },
  {
   "cell_type": "code",
   "execution_count": null,
   "metadata": {},
   "outputs": [],
   "source": [
    "# set the data and the abscissa\n",
    "linear_data = {'N': M,          # number of data points\n",
    "               'y': data,       # observed data (converted from numpy array to a list)\n",
    "               'x': x,          # abscissa points (converted from numpy array to a list)\n",
    "               'sigma': sigma}  # standard deviation"
   ]
  },
  {
   "cell_type": "markdown",
   "metadata": {},
   "source": [
    "Now you can compile the model and run the sampler, with 1000 iterations and 4 chains, with:"
   ]
  },
  {
   "cell_type": "code",
   "execution_count": null,
   "metadata": {},
   "outputs": [],
   "source": [
    "%%capture\n",
    "import pystan # import PyStan\n",
    "\n",
    "Nsamples = 1000 # set the number of iterations of the sampler\n",
    "chains = 4      # set the number of chains to run with\n",
    "\n",
    "# dictionary for inputs into line_code\n",
    "linedict = {}\n",
    "linedict['mmu'] = 0.0    # mean of Gaussian prior distribution for m\n",
    "linedict['msigma'] = 10  # standard deviation of Gaussian prior distribution for m\n",
    "linedict['clower'] = -10 # lower bound on uniform prior distribution for c\n",
    "linedict['cupper'] = 10  # upper bound on uniform prior distribution for c\n",
    "\n",
    "t0 = time()\n",
    "sm = pystan.StanModel(model_code=line_code.format(**linedict)); # compile model\n",
    "t1 = time()\n",
    "\n",
    "timepystancomp = (t1-t0)\n",
    "\n",
    "t0 = time()\n",
    "fit = sm.sampling(data=linear_data, iter=Nsamples, chains=chains); # perform sampling\n",
    "t1 = time()\n",
    "\n",
    "timepystan = (t1-t0)"
   ]
  },
  {
   "cell_type": "code",
   "execution_count": null,
   "metadata": {},
   "outputs": [],
   "source": [
    "print('PyStan version: {}'.format(pystan.__version__))\n",
    "\n",
    "print(\"Time taken to comile 'PyStan' model is {} seconds\".format(timepystancomp))\n",
    "print(\"Time taken to run 'PyStan' is {} seconds\".format(timepystan))"
   ]
  },
  {
   "cell_type": "markdown",
   "metadata": {},
   "source": [
    "PyStan does have a plotting function (you could run `fit.plot()`), but we'll extract the chains and use `corner.py`:"
   ]
  },
  {
   "cell_type": "code",
   "execution_count": null,
   "metadata": {},
   "outputs": [],
   "source": [
    "la = fit.extract(permuted=True)  # return a dictionary of arrays\n",
    "\n",
    "samples_pystan = np.vstack((la['m'], la['c'])).T\n",
    "\n",
    "resdict['mpystan_mu'] = np.mean(samples_pystan[:,0])      # mean of m samples\n",
    "resdict['mpystan_sig'] = np.std(samples_pystan[:,0])      # standard deviation of m samples\n",
    "resdict['cpystan_mu'] = np.mean(samples_pystan[:,1])      # mean of c samples\n",
    "resdict['cpystan_sig'] = np.std(samples_pystan[:,1])      # standard deviation of c samples\n",
    "resdict['ccpystan'] = np.corrcoef(samples_pystan.T)[0,1] # correlation coefficient between parameters\n",
    "\n",
    "# plot using corner.py\n",
    "plotposts(samples_pystan)"
   ]
  },
  {
   "cell_type": "code",
   "execution_count": null,
   "metadata": {},
   "outputs": [],
   "source": [
    "# calculate the autocorrelation length\n",
    "acts = []\n",
    "for i, param in enumerate([\"m\", \"c\"]):\n",
    "    acts.append(emcee.autocorr.integrated_time(samples_pystan[:, i]))\n",
    "    print(\"Autocorrelation length for '{}' is {}\".format(param, acts[-1]))\n",
    "print(\"Maximum autocorrelation length is {0:.1f}\".format(np.max(acts)))\n",
    "\n",
    "resdict['esspystan'] = int((len(samples_pystan) / np.max(acts)) / timetfp)\n",
    "print(\"Effective samples per second: {}\".format(resdict['esspystan']))"
   ]
  },
  {
   "cell_type": "markdown",
   "metadata": {},
   "source": [
    "### PyJAGS\n",
    "\n",
    "[PyJAGS](https://pyjags.readthedocs.io) is another wrapper to a non-Python library, in this case the [JAGS](http://mcmc-jags.sourceforge.net/) library ([Plummer, 2003](http://www.ci.tuwien.ac.at/Conferences/DSC-2003/Proceedings/Plummer.pdf)). As with PyStan, you have to write a code string that is then compiled and run. To use PyJAGS you need to install JAGS, e.g. on a Debian-based system this can be done using:\n",
    "\n",
    "```bash\n",
    "sudo apt-get install jags\n",
    "```\n",
    "\n",
    "and then [install](https://pyjags.readthedocs.io/en/latest/getting_started.html#installation) PyJAGS using `pip` with:\n",
    "\n",
    "```bash\n",
    "pip install pyjags\n",
    "```\n",
    "\n",
    "The source code for PyJAGS is available on GitHub [here](https://github.com/michaelnowotny/pyjags).\n",
    "\n",
    "A linear regression fitting example using PyJAGS is given [here](https://pyjags.readthedocs.io/en/latest/getting_started.html), on which this example is based.\n",
    "\n",
    "We can define the model string using (note that in this model the Gaussian/Normal distribution `dnorm` takes the inverse variance as the second argument, rather than the standard deviation):"
   ]
  },
  {
   "cell_type": "code",
   "execution_count": null,
   "metadata": {},
   "outputs": [],
   "source": [
    "# create the JAGS code for the linear model\n",
    "line_code_jags = '''\n",
    "model {{\n",
    "    for (i in 1:N) {{\n",
    "        y[i] ~ dnorm(c + m * x[i], {invvar}) # Gaussian likelihood\n",
    "    }}\n",
    "    m ~ dnorm({mmu}, {minvvar})     # Gaussian prior on m\n",
    "    c ~ dunif({clower}, {cupper})   # Uniform prior on c\n",
    "}}\n",
    "'''"
   ]
  },
  {
   "cell_type": "markdown",
   "metadata": {},
   "source": [
    "You can then define the data inputs section in a dictionary:"
   ]
  },
  {
   "cell_type": "code",
   "execution_count": null,
   "metadata": {},
   "outputs": [],
   "source": [
    "datadict = {'x': x,    # abscissa points (converted from numpy array to a list)\n",
    "            'N': M,    # number of data points\n",
    "            'y': data} # the observed data"
   ]
  },
  {
   "cell_type": "markdown",
   "metadata": {},
   "source": [
    "Now you can compile the model and run the sampler, with 1000 iterations and 4 chains, with:"
   ]
  },
  {
   "cell_type": "code",
   "execution_count": null,
   "metadata": {},
   "outputs": [],
   "source": [
    "%%capture\n",
    "import pyjags # import PyJAGS\n",
    "\n",
    "Nsamples = 1000 # set the number of iterations of the sampler\n",
    "chains = 4      # set the number of chains to run with\n",
    "\n",
    "# dictionary for inputs into line_code\n",
    "linedict = {}\n",
    "linedict['mmu'] = 0.0           # mean of Gaussian prior distribution for m\n",
    "linedict['minvvar'] = 1/10**2   # inverse variance of Gaussian prior distribution for m\n",
    "linedict['clower'] = -10        # lower bound on uniform prior distribution for c\n",
    "linedict['cupper'] = 10         # upper bound on uniform prior distribution for c\n",
    "linedict['invvar'] = 1/sigma**2 # inverse variance of the data\n",
    "\n",
    "# compile model\n",
    "t0 = time()\n",
    "model = pyjags.Model(line_code_jags.format(**linedict), data=datadict, chains=chains)\n",
    "t1 = time()\n",
    "\n",
    "timepyjagscomp = (t1-t0)\n",
    "\n",
    "t0 = time()\n",
    "samples = model.sample(Nsamples, vars=['m', 'c']) # perform sampling\n",
    "t1 = time()\n",
    "\n",
    "timepyjags = (t1-t0)"
   ]
  },
  {
   "cell_type": "code",
   "execution_count": null,
   "metadata": {},
   "outputs": [],
   "source": [
    "print('PyJAGS version: {}'.format(pyjags.__version__))\n",
    "\n",
    "print(\"Time taken to comile 'PyJAGS' model is {} seconds\".format(timepyjagscomp))\n",
    "print(\"Time taken to run 'PyJAGS' is {} seconds\".format(timepyjags))"
   ]
  },
  {
   "cell_type": "markdown",
   "metadata": {},
   "source": [
    "Now we can plot the samples using `corner.py`:"
   ]
  },
  {
   "cell_type": "code",
   "execution_count": null,
   "metadata": {},
   "outputs": [],
   "source": [
    "mchainjags = samples['m'].flatten()\n",
    "cchainjags = samples['c'].flatten()\n",
    "\n",
    "samples_pyjags = np.vstack((mchainjags, cchainjags)).T\n",
    "\n",
    "resdict['mpyjags_mu'] = np.mean(samples_pyjags[:,0])      # mean of m samples\n",
    "resdict['mpyjags_sig'] = np.std(samples_pyjags[:,0])      # standard deviation of m samples\n",
    "resdict['cpyjags_mu'] = np.mean(samples_pyjags[:,1])      # mean of c samples\n",
    "resdict['cpyjags_sig'] = np.std(samples_pyjags[:,1])      # standard deviation of c samples\n",
    "resdict['ccpyjags'] = np.corrcoef(samples_pyjags.T)[0,1] # correlation coefficient between parameters\n",
    "\n",
    "# plot using corner.py\n",
    "plotposts(samples_pyjags)"
   ]
  },
  {
   "cell_type": "code",
   "execution_count": null,
   "metadata": {},
   "outputs": [],
   "source": [
    "# calculate the autocorrelation length\n",
    "acts = []\n",
    "for i, param in enumerate([\"m\", \"c\"]):\n",
    "    acts.append(emcee.autocorr.integrated_time(samples_pystan[:, i]))\n",
    "    print(\"Autocorrelation length for '{}' is {}\".format(param, acts[-1]))\n",
    "print(\"Maximum autocorrelation length is {0:.1f}\".format(np.max(acts)))\n",
    "\n",
    "resdict['esspyjags'] = int((len(samples_pyjags) / np.max(acts)) / timetfp)\n",
    "print(\"Effective samples per second: {}\".format(resdict['esspyjags']))"
   ]
  },
  {
   "cell_type": "markdown",
   "metadata": {},
   "source": [
    "That ends our exploration of MCMC codes. We now move on to Nested Sampling!"
   ]
  },
  {
   "cell_type": "markdown",
   "metadata": {},
   "source": [
    "## Nested Sampling\n",
    "\n",
    "[Nested sampling](https://en.wikipedia.org/wiki/Nested_sampling_algorithm) ([Skilling, 2006](https://projecteuclid.org/euclid.ba/1340370944)) is a method to numerically perform the integral required to evaluate the [marginal likelihood](https://en.wikipedia.org/wiki/Marginal_likelihood) of the data given a particular model. This is not a value that is produced by most standard MCMC methods, but is a value that is very useful if wanting to do [Bayesian model comparison](https://en.wikipedia.org/wiki/Bayes_factor). Above, we defined the marginal likelihood, or _evidence_, as\n",
    "\n",
    "$$\n",
    "p(\\mathbf{d}|I) = \\int^{\\forall \\theta_i \\in \\vec{\\theta}} p(\\mathbf{d}|\\vec{\\theta},I) p(\\vec{\\theta}|I) {\\rm d}{\\theta_i},\n",
    "$$\n",
    "\n",
    "but, we can make this more explicit for a given hypothesis, or model, $H_j$, by stating:\n",
    "\n",
    "$$\n",
    "p(\\mathbf{d}|H_j, I) \\equiv Z = \\int^{\\forall \\theta_i \\in \\vec{\\theta}} p(\\mathbf{d}|\\vec{\\theta}, H_j, I) p(\\vec{\\theta}|H_j,I) {\\rm d}{\\theta_i},\n",
    "$$\n",
    "\n",
    "where previously the $H_j$ had been subsumed inside our implicit assumptions, $I$.\n",
    "\n",
    "Nested sampling algorithms generally start by drawing a set of points (sometimes called _\"live points\"_, or _\"active points\"_) from the prior distribution. It relies on these points being independent draws from the prior, otherwise the resulting marginal likelihood value can be biased. The likelihood is evaluated at each point, and the smallest likelihood point is found. This points is then removed from the set of live points (and goes into the sum calculating the marginal likelihood integral) and a new point is drawn from the prior with the constraint that it has a likelihood larger than the just removed point. Drawing truly independent points from this constrained prior is the main tricky part of nested sampling (particularly when the number of parameters is not small), and a variety of methods (including MCMC methods) can be used.\n",
    "\n",
    "The uncertainty on the estimate of the natural logarithm of the marginal likelihood, $\\ln{Z}$, can be found if the information gain (or [Kullback-Leibler divergence](https://en.wikipedia.org/wiki/Kullback%E2%80%93Leibler_divergence)), $h$, in going from the prior to the posterior is calculated. If $h$ (in [nats](https://en.wikipedia.org/wiki/Nat_%28unit%29)) is available then the uncertainty is ([Skilling, 2006](https://projecteuclid.org/euclid.ba/1340370944)):\n",
    "\n",
    "$$\n",
    "\\sqrt{\\frac{h}{N_{\\rm live}}},\n",
    "$$\n",
    "\n",
    "where $N_{\\rm live}$ is the number of live points used.\n",
    "\n",
    "> **Note**: This is the statistical uncertainty on the value, but if there are any biases due to the sampling not being independent draws from the prior then there can be systematic uncertainties too.\n",
    "\n",
    "As well as producing a value for the marginal likelihood, a by-product of the nested sampling algorithm is the production a set of samples that can be re-sampled from to provide samples drawn from the posterior distribution.\n",
    "\n",
    "> **Note**: MCMC methods can be used to estimate the marginal likelihood, e.g., `emcee` can be run with a [parallel tempering sampling method](http://dfm.io/emcee/current/user/pt/) and used to compute the evidence using thermodynamic integration (e.g., [Goggans & Chi, 2004](http://aip.scitation.org/doi/abs/10.1063/1.1751356)), or potentially using Slice sampling with PyMC3.\n",
    "\n",
    "As with MCMC, there are various codes available to perform the nested sampling algorithm. We will again look at pure Python implementations and some that are wrappers to other libraries."
   ]
  },
  {
   "cell_type": "markdown",
   "metadata": {},
   "source": [
    "### Nestle\n",
    "\n",
    "[Nestle](http://kylebarbary.com/nestle/) is a pure Python nested sampling algorithm. It has three options for the method with which it draws new samples: [\"classic\"](http://kylebarbary.com/nestle/#mcmc-exploration-method-classic), [\"single ellipsoid\"](http://kylebarbary.com/nestle/#single-ellipsoid-method-single), and [\"multiple ellipsoids](http://kylebarbary.com/nestle/#multiple-ellipsoids-method-multi). In this example we'll make use of the last of these. This uses the MultiNest method (also see [PyMultiNest below](#PyMultiNest)) ([Feroz _et al_, 2009](https://arxiv.org/abs/0809.3437)) in which the current live points are clustered using a recursive [_k_-means](https://en.wikipedia.org/wiki/K-means_clustering) method (however, clustering is not re-done at every iteration of the algorithm), ellipsoids completely bounding each cluster are found, an ellipsoid is randomly chosen with a probability proportional to its volume, and a new sample is drawn uniformly from it.\n",
    "\n",
    "Nestle is available on PyPI and installable using `pip` with:\n",
    "\n",
    "```bash\n",
    "pip install nestle\n",
    "```\n",
    "\n",
    "or via Conda [with](https://anaconda.org/conda-forge/nestle):\n",
    "\n",
    "```bash\n",
    "conda install -c conda-forge nestle\n",
    "```\n",
    "\n",
    "The source code is available on GitHub [here](https://github.com/kbarbary/nestle).\n",
    "\n",
    "The set up of likelihood functions is quite similar to that for [emcee](#emcee), but the prior that is used is a unit hypercube (an $n$-dimensional cube with all sides equal to one), so parameters must be mapped into this space. This is simple for uniform priors, but requires a [re-parameterisation](https://en.wikipedia.org/wiki/Probability_density_function#Dependent_variables_and_change_of_variables) using a [Jacobian](https://en.wikipedia.org/wiki/Jacobian_matrix_and_determinant) for more complex priors (if possible).\n",
    "\n",
    "For our Gaussian prior on $m$ we can't analytically re-parameterise it for a unit hypercube, however we can use [inverse transform sampling](https://en.wikipedia.org/wiki/Inverse_transform_sampling) to take samples from a uniform range between 0 and 1, and convert them back to a Gaussian, e.g.\n",
    "\n",
    "$$\n",
    "m = \\mu_m + \\sqrt{2}\\sigma_m {\\rm erf}^{-1}\\left(2c - 1\\right),\n",
    "$$\n",
    "\n",
    "where $c \\sim {\\rm Uniform}(0,1)$ and ${\\rm erf}^{-1}$ is the [inverse error function](https://en.wikipedia.org/wiki/Error_function#Inverse_functions). As [shown in the Nestle documentation](http://kylebarbary.com/nestle/prior.html#non-uniform-priors) we can use the [`scipy.special.ndtri`](https://docs.scipy.org/doc/scipy/reference/generated/scipy.special.ndtri.html#scipy.special.ndtri) function for this.\n",
    "\n",
    "An example of using Nestle for the linear regression problem, but with uniform priors on both parameters, is given [here](http://kylebarbary.com/nestle/examples/plot_line.html#sphx-glr-examples-plot-line-py).\n",
    "\n",
    "#### Setting the prior transform\n",
    "\n",
    "Given the above description, rather than setting a prior function, we set a [prior transformation function](http://kylebarbary.com/nestle/prior.html) that maps from parameters drawn from the unit hypercube into the true parameters."
   ]
  },
  {
   "cell_type": "code",
   "execution_count": null,
   "metadata": {},
   "outputs": [],
   "source": [
    "# import the inverse error function from scipy\n",
    "from scipy.special import ndtri\n",
    "\n",
    "def prior_transform(theta):\n",
    "    \"\"\"\n",
    "    A function defining the tranform between the parameterisation in the unit hypercube\n",
    "    to the true parameters.\n",
    "\n",
    "    Args:\n",
    "        theta (tuple): a tuple containing the parameters.\n",
    "        \n",
    "    Returns:\n",
    "        tuple: a new tuple or array with the transformed parameters.\n",
    "    \"\"\"\n",
    "\n",
    "    mprime, cprime = theta # unpack the parameters (in their unit hypercube form)\n",
    "\n",
    "    cmin = -10.  # lower bound on uniform prior on c\n",
    "    cmax = 10.   # upper bound on uniform prior on c\n",
    "\n",
    "    mmu = 0.     # mean of Gaussian prior on m\n",
    "    msigma = 10. # standard deviation of Gaussian prior on m\n",
    "\n",
    "    m = mmu + msigma*ndtri(mprime) # convert back to m\n",
    "    c = cprime*(cmax-cmin) + cmin  # convert back to c\n",
    "\n",
    "    return (m, c)"
   ]
  },
  {
   "cell_type": "markdown",
   "metadata": {},
   "source": [
    "#### Setting the likelihood function\n",
    "\n",
    "This is similar to setting the likelihood function for [emcee](#Likelihood) except, as we're calculating the marginal likelihood, we will keep the normalisation constants. As before, we work with the natural logarithm of the likelihood function. The function can only take in a tuple variable containing the parameter values, so any additional required values must be hard coded, or set as global variables."
   ]
  },
  {
   "cell_type": "code",
   "execution_count": null,
   "metadata": {},
   "outputs": [],
   "source": [
    "# set the natural logarithm of 2pi, so that it doesn't have to be recalculated\n",
    "LN2PI = np.log(2.*np.pi)\n",
    "LNSIGMA = np.log(sigma) # natural log of the data noise standard deviation\n",
    "\n",
    "def loglikelihood_nestle(theta):\n",
    "    \"\"\"\n",
    "    The log-likelihood function.\n",
    "    \"\"\"\n",
    "\n",
    "    m, c = theta # unpack the parameters\n",
    "\n",
    "    # normalisation\n",
    "    norm = -0.5 * M * LN2PI - M * LNSIGMA\n",
    "\n",
    "    # chi-squared (data, sigma and x are global variables defined early on in this notebook)\n",
    "    chisq = np.sum(((data - straight_line(x, m, c)) / sigma)**2)\n",
    "\n",
    "    return norm - 0.5 * chisq"
   ]
  },
  {
   "cell_type": "markdown",
   "metadata": {},
   "source": [
    "Now you can run the sampler. We'll use 1024 live/active points (there's nothing special about this number, and powers of two are not required). The more live points you use the longer the code will take to run, but the uncertainty on the final marginal likelihood value will decrease with greater numbers of live points. \n",
    "\n",
    "Unlike with MCMCs, where you give it a number of iterations to run and after that point it stops, nested sampling needs to be supplied with a [stopping criterion](http://kylebarbary.com/nestle/stopping.html) at which point it will terminate. One common [criterion](http://kylebarbary.com/nestle/stopping.html#estimated-remaining-evidence) is based on the ratio between an estimate of the total evidence and the current calculated evidence value. Once this value gets below some set value the algorithm will terminate."
   ]
  },
  {
   "cell_type": "code",
   "execution_count": null,
   "metadata": {},
   "outputs": [],
   "source": [
    "# import nestle\n",
    "import nestle\n",
    "\n",
    "print('Nestle version: {}'.format(nestle.__version__))\n",
    "\n",
    "nlive = 1024     # number of live points\n",
    "method = 'multi' # use MutliNest algorithm\n",
    "ndims = 2        # two parameters\n",
    "tol = 0.1        # the stopping criterion\n",
    "\n",
    "t0 = time()\n",
    "res = nestle.sample(loglikelihood_nestle, prior_transform, ndims, method=method, npoints=nlive, dlogz=tol)\n",
    "t1 = time()\n",
    "\n",
    "timenestle = (t1-t0)\n",
    "\n",
    "print(\"Time taken to run 'Nestle' is {} seconds\".format(timenestle))"
   ]
  },
  {
   "cell_type": "markdown",
   "metadata": {},
   "source": [
    "We can extract the value of the marginal likelihood, $\\ln{Z}$, and its uncertainties with the following:"
   ]
  },
  {
   "cell_type": "code",
   "execution_count": null,
   "metadata": {},
   "outputs": [],
   "source": [
    "logZnestle = res.logz                         # value of logZ\n",
    "infogainnestle = res.h                        # value of the information gain in nats\n",
    "logZerrnestle = np.sqrt(infogainnestle/nlive) # estimate of the statistcal uncertainty on logZ\n",
    "\n",
    "print(\"log(Z) = {} ± {}\".format(logZnestle, logZerrnestle))"
   ]
  },
  {
   "cell_type": "markdown",
   "metadata": {},
   "source": [
    "A summary of the above values can also be output using:"
   ]
  },
  {
   "cell_type": "code",
   "execution_count": null,
   "metadata": {},
   "outputs": [],
   "source": [
    "print(res.summary())"
   ]
  },
  {
   "cell_type": "markdown",
   "metadata": {},
   "source": [
    "As mentioned above, the samples output by nested sampling are not drawn from the posterior, and as such need to be resampled from using certain weights. These weights are output by Nestle in the results. We can get posterior samples with the following:"
   ]
  },
  {
   "cell_type": "code",
   "execution_count": null,
   "metadata": {},
   "outputs": [],
   "source": [
    "# re-scale weights to have a maximum of one\n",
    "nweights = res.weights/np.max(res.weights)\n",
    "\n",
    "# get the probability of keeping a sample from the weights\n",
    "keepidx = np.where(np.random.rand(len(nweights)) < nweights)[0]\n",
    "\n",
    "# get the posterior samples\n",
    "samples_nestle = res.samples[keepidx,:]\n",
    "\n",
    "resdict['mnestle_mu'] = np.mean(samples_nestle[:,0])      # mean of m samples\n",
    "resdict['mnestle_sig'] = np.std(samples_nestle[:,0])      # standard deviation of m samples\n",
    "resdict['cnestle_mu'] = np.mean(samples_nestle[:,1])      # mean of c samples\n",
    "resdict['cnestle_sig'] = np.std(samples_nestle[:,1])      # standard deviation of c samples\n",
    "resdict['ccnestle'] = np.corrcoef(samples_nestle.T)[0,1]  # correlation coefficient between parameters\n",
    "resdict['nestle_npos'] = len(samples_nestle)              # number of posterior samples\n",
    "resdict['nestle_time'] = timenestle                       # run time\n",
    "resdict['nestle_logZ'] = logZnestle                       # log marginalised likelihood\n",
    "resdict['nestle_logZerr'] = logZerrnestle                 # uncertainty on log(Z)\n",
    "\n",
    "print('Number of posterior samples is {}'.format(len(samples_nestle)))"
   ]
  },
  {
   "cell_type": "markdown",
   "metadata": {},
   "source": [
    "Now we can plot the posteriors:"
   ]
  },
  {
   "cell_type": "code",
   "execution_count": null,
   "metadata": {},
   "outputs": [],
   "source": [
    "plotposts(samples_nestle)"
   ]
  },
  {
   "cell_type": "markdown",
   "metadata": {},
   "source": [
    "With nested sampling the samples *should* be uncorrelated by construction (in reality, for some complex problems, *some* methods used to draw new samples within the nested sampling algorithm can leave correlations). During nested sampling, you can estimate the number of effective posterior samples from the full chain of samples using, for example, (an unnormalised verion of) the effective sampler size calculation given [here](https://pypmc.github.io/api.html#pypmc.tools.convergence.ess)."
   ]
  },
  {
   "cell_type": "code",
   "execution_count": null,
   "metadata": {},
   "outputs": [],
   "source": [
    "def ess(weights):\n",
    "    \"\"\"\n",
    "    Estimate the effective sample size from the weights.\n",
    "    \n",
    "    Args:\n",
    "        weights (array_like): an array of weights values for each nested sample\n",
    "        \n",
    "    Returns:\n",
    "        int: the effective sample size\n",
    "    \"\"\"\n",
    "    \n",
    "    N = len(weights)\n",
    "    w = weights / weights.sum()\n",
    "    ess = N / (1.0 + ((N * w - 1)**2).sum() / N)\n",
    "\n",
    "    return int(ess)"
   ]
  },
  {
   "cell_type": "code",
   "execution_count": null,
   "metadata": {},
   "outputs": [],
   "source": [
    "essnestle = ess(res.weights)\n",
    "resdict['essnestle'] = int(essnestle / timenestle)\n",
    "print(\"Effective samples per second: {}\".format(resdict['essnestle']))"
   ]
  },
  {
   "cell_type": "markdown",
   "metadata": {},
   "source": [
    "### CPNest\n",
    "\n",
    "[CPNest](https://johnveitch.github.io/cpnest/) ([Veitch & del Pozzo, 2017](http://doi.org/10.5281/zenodo.835874)) is another pure Python nested sampling algorithm. To perform the sampling from the restricted prior it uses a [Metropolis-Hastings](https://en.wikipedia.org/wiki/Metropolis%E2%80%93Hastings_algorithm) based MCMC, with sample proposal distributions that use a combination of the affine invarient ensemble methods described for [emcee](#emcee) ([Goodman & Weare, 2010](https://msp.org/camcos/2010/5-1/p04.xhtml)), [differential evolution](https://en.wikipedia.org/wiki/Differential_evolution), or jumps based on the eigenvectors of the covariance matrix of live points.\n",
    "\n",
    "CPNest is available on PyPI and can be installed using `pip` with: \n",
    "\n",
    "```bash\n",
    "pip install cpnest\n",
    "```\n",
    "\n",
    "or via Conda [with](https://anaconda.org/conda-forge/cpnest):\n",
    "\n",
    "```\n",
    "conda install -c conda-forge cpnest\n",
    "```\n",
    "\n",
    "The source code is available on GitHub [here](https://github.com/johnveitch/cpnest/).\n",
    "\n",
    "To run CPNest we have to define a [class](https://docs.python.org/3/tutorial/classes.html) containing the likelihood and prior functions. CPNest also requires explicit bounds on all parameters from which it will uniformly draw an initial set of live points. Prior to running the nested sampling algorithm, it will run an MCMC using the prior as the target distribution to make sure the samples are drawn from the required prior, so it does not require any mapping between the prior and a unit-hypercube."
   ]
  },
  {
   "cell_type": "code",
   "execution_count": null,
   "metadata": {},
   "outputs": [],
   "source": [
    "# import the Model class from CPNest\n",
    "from cpnest.model import Model\n",
    "\n",
    "LN2PI = np.log(2.*np.pi)\n",
    "\n",
    "# set the model, likelihood and prior\n",
    "class StraightLineModel(Model):\n",
    "    \"\"\"\n",
    "    A simple straight line model, with a Gaussian likelihood.\n",
    "    \n",
    "    Args:\n",
    "        data (:class:`numpy.ndarray`): an array containing the observed data\n",
    "        abscissa (:class:`numpy.ndarray`): an array containing the points at which the data were taken\n",
    "        modelfunc (function): a function defining the model\n",
    "        sigma (float): the standard deviation of the noise in the data\n",
    "        \n",
    "    \"\"\"\n",
    "    names = ['m','c'] # parameter names (this is a required variables for the class)\n",
    "\n",
    "    # define the boundaries using for initial sampling of the live points\n",
    "    cmin = -10.  # lower range on c (the same as the uniform c prior lower bound)\n",
    "    cmax = 10.   # upper range on c (the same as the uniform c prior upper bound)\n",
    "\n",
    "    mmu = 0.     # mean of the Gaussian prior on m\n",
    "    msigma = 10. # standard deviation of the Gaussian prior on m\n",
    "\n",
    "    cbounds = [cmin, cmax]\n",
    "    # set the m bounds to be +/- 10sigma about the mean\n",
    "    mbounds = [mmu-10.*msigma, mmu+10.*msigma]\n",
    "\n",
    "    # NOTE: the bounds could instead be set through arguments passed to the __init__\n",
    "    # function for the class if wanted\n",
    "    bounds=[mbounds, cbounds] # upper and lower bounds on each parameter (required for the class)\n",
    "\n",
    "    def __init__(self, data, abscissa, modelfunc, sigma):\n",
    "        # set the data\n",
    "        self._data = data         # oberserved data\n",
    "        self._abscissa = abscissa # points at which the observed data are taken\n",
    "        self._sigma = sigma       # standard deviation(s) of the data\n",
    "        self._logsigma = np.log(sigma) # log sigma here to save computations in the likelihood\n",
    "        self._ndata = len(data)   # number of data points\n",
    "        self._model = modelfunc   # model function\n",
    "\n",
    "    def log_likelihood(self, params):\n",
    "        \"\"\"\n",
    "        The natural logarithm of the likelihood function.\n",
    "\n",
    "        Args:\n",
    "            params (dict): a dictionary keyed to the parameter names.\n",
    "\n",
    "        Returns:\n",
    "            float: the log likelihood value.\n",
    "        \"\"\"\n",
    "        # extract the parameters\n",
    "        m = params['m']\n",
    "        c = params['c']\n",
    "\n",
    "        # calculate the model\n",
    "        model = self._model(x, m, c)\n",
    "\n",
    "        # normalisation\n",
    "        norm = -0.5*self._ndata*LN2PI - self._ndata*self._logsigma\n",
    "\n",
    "        # chi-squared\n",
    "        chisq = np.sum(((self._data - model)/(self._sigma))**2)\n",
    "\n",
    "        return norm - 0.5*chisq\n",
    "\n",
    "    def log_prior(self,p):\n",
    "        \"\"\"\n",
    "        The natural logarithm of the prior function.\n",
    "\n",
    "        Args:\n",
    "            p (dict): a dictionary keyed to parameter names.\n",
    "\n",
    "        Returns:\n",
    "            float: The log prior value.\n",
    "        \"\"\"\n",
    "        # the uniform priors are dealt with by just checking that we're within the bounds\n",
    "        if not self.in_bounds(p): return -np.inf # check parameters are all in bounds\n",
    "\n",
    "        # Gaussian prior on m\n",
    "        lp = 0.\n",
    "        m = p['m']\n",
    "        lp -= 0.5 * ((m - self.mmu) / self.msigma)**2 # no need for normalisation constant on the prior\n",
    "\n",
    "        return lp"
   ]
  },
  {
   "cell_type": "markdown",
   "metadata": {},
   "source": [
    "We can now run CPNest. As with Nestle we will use 1024 live points. CPNest can use mutltiple CPU cores, but we'll set it to use one to be comparable to the other tests. The number of iterations used for the MCMC sampling is automatically worked out within the code by calculating autocorrelation lengths to see how many iterations are needed to produce independent samples, but a maximum chain length can also be set. We'll set this to 1024. As with Nestle a stopping criterion is required, which for CPNest is defined in the same way as Nestle. The current CPNest default is 0.1 and this cannot be altered by the user."
   ]
  },
  {
   "cell_type": "code",
   "execution_count": null,
   "metadata": {},
   "outputs": [],
   "source": [
    "%%capture\n",
    "# import cpnest\n",
    "import cpnest\n",
    "\n",
    "print('CPNest version: {}'.format(cpnest.__version__))\n",
    "\n",
    "nlive = 1024      # number of live point\n",
    "maxmcmc = 1024    # maximum MCMC chain length\n",
    "nthreads = 1      # use one CPU core\n",
    "\n",
    "# set up the algorithm\n",
    "work = cpnest.CPNest(StraightLineModel(data, x, straight_line, sigma), verbose=0,\n",
    "                     nthreads=nthreads, nlive=nlive, maxmcmc=maxmcmc);\n",
    "# run the algorithm\n",
    "t0 = time()\n",
    "work.run();\n",
    "t1 = time()\n",
    "\n",
    "timecpnest = (t1-t0)"
   ]
  },
  {
   "cell_type": "code",
   "execution_count": null,
   "metadata": {},
   "outputs": [],
   "source": [
    "print(\"Time taken to run 'CPNest' is {} seconds\".format(timecpnest))"
   ]
  },
  {
   "cell_type": "markdown",
   "metadata": {},
   "source": [
    "We can again extract the value of $\\ln{Z}$ and its uncertainty. One simple bit of model comparison that we may want to do is to compare the evidence for the model of the data containg a straight line (with the given priors on the parameter), with the evidence for a model that the data just contains independent Gaussian noise with the given standard deviation. We can calculate the latter evidence easily by just setting the model to zero in the log-likelihood function, e.g.:\n",
    "\n",
    "$$\n",
    "\\ln{Z}_{\\rm noise} = -\\frac{M}{2}\\ln{(2\\pi)} - \\ln\\left(\\prod_{i=1}^M \\sigma_i\\right) - \\sum_{i=1}^M\\frac{d_i^2}{2\\sigma_i^2}.\n",
    "$$\n",
    "\n",
    "The natural logarithm of the [Bayes factor](https://en.wikipedia.org/wiki/Bayes_factor) comparing the two models is then:\n",
    "\n",
    "$$\n",
    "\\ln{\\mathcal{B}} = \\ln{Z} - \\ln{Z}_{\\rm noise}.\n",
    "$$\n",
    "\n",
    "We will also extract this value."
   ]
  },
  {
   "cell_type": "code",
   "execution_count": null,
   "metadata": {},
   "outputs": [],
   "source": [
    "logZcpnest = work.NS.logZ                     # value of log Z\n",
    "infogaincpnest = work.NS.state.info           # value of the information gain\n",
    "logZerrcpnest = np.sqrt(infogaincpnest/nlive) # estimate of the statistcal uncertainty on logZ\n",
    "\n",
    "# get the null log likelihood (evidence that the data is Gaussian noise with zero mean, and given standard devaition)\n",
    "logZnull = work.user.log_likelihood({'m': 0., 'c': 0.})\n",
    "\n",
    "print(\"log(Z) = {} ± {}\".format(logZcpnest, logZerrcpnest))\n",
    "\n",
    "# output the log Bayes factor\n",
    "print('log Bayes factor is {}'.format(logZcpnest - logZnull))"
   ]
  },
  {
   "cell_type": "markdown",
   "metadata": {},
   "source": [
    "CPNest will itself resample from the nested samples to give posterior samples held in a dictionary, which we can plot."
   ]
  },
  {
   "cell_type": "code",
   "execution_count": null,
   "metadata": {},
   "outputs": [],
   "source": [
    "mchain_cpnest = work.posterior_samples['m']  # extract chain of m values\n",
    "cchain_cpnest = work.posterior_samples['c']  # extract chain if c values\n",
    "samples_cpnest = np.vstack((mchain_cpnest, cchain_cpnest)).T\n",
    "\n",
    "# print out the number of posterior samples\n",
    "print('Number of posterior samples is {}'.format(samples_cpnest.shape[0]))\n",
    "\n",
    "resdict['mcpnest_mu'] = np.mean(samples_cpnest[:,0])      # mean of m samples\n",
    "resdict['mcpnest_sig'] = np.std(samples_cpnest[:,0])      # standard deviation of m samples\n",
    "resdict['ccpnest_mu'] = np.mean(samples_cpnest[:,1])      # mean of c samples\n",
    "resdict['ccpnest_sig'] = np.std(samples_cpnest[:,1])      # standard deviation of c samples\n",
    "resdict['cccpnest'] = np.corrcoef(samples_cpnest.T)[0,1]  # correlation coefficient between parameters\n",
    "resdict['cpnest_npos'] = len(samples_cpnest)              # number of posterior samples\n",
    "resdict['cpnest_time'] = timecpnest                       # run time\n",
    "resdict['cpnest_logZ'] = logZcpnest                       # log marginalised likelihood\n",
    "resdict['cpnest_logZerr'] = logZerrcpnest                 # uncertainty on log(Z)\n",
    "\n",
    "# plot using corner.py\n",
    "plotposts(samples_cpnest)"
   ]
  },
  {
   "cell_type": "code",
   "execution_count": null,
   "metadata": {},
   "outputs": [],
   "source": [
    "resdict['esscpnest'] = int(len(samples_cpnest)/ timecpnest)\n",
    "print(\"Effective samples per second: {}\".format(resdict['esscpnest']))"
   ]
  },
  {
   "cell_type": "markdown",
   "metadata": {},
   "source": [
    "### dynesty\n",
    "\n",
    "[dynesty](https://dynesty.readthedocs.io/en/latest/index.html) ([Speagle, 2019](https://ui.adsabs.harvard.edu/abs/2020MNRAS.493.3132S/abstract)) is a pure Python-based implementation of the dynamic nested sampling algorithm ([Higson _et al_, 2017](https://arxiv.org/abs/1704.03459)). It is very similar in usage to [Nestle](#Nestle). Dynamic nested sampling is a way of dynamically adapting the number of live points used to provide more accurate evidence estimates and/or larger numbers of independent posterior samples. The code can run using dynamic adjustment of live points or just in a \"static\" mode with a fixed number of live points. There a many options for how the new live points are drawn, both in terms of the [bounds](https://dynesty.readthedocs.io/en/latest/quickstart.html#bounding-options) from which they are drawn and the [sampling](https://dynesty.readthedocs.io/en/latest/quickstart.html#sampling-options) from within those bounds. The bound options include the using bounding ellipsoids in the style of [MultiNest](#PyMultiNest), or the RadFriends algorithm of [UltraNest](#UltraNest), among others. The sampling options include uniform draws from the bounds, random walks, or slice sampling in the style of [PolyChord](#PyPolyChord). If not explicitly specified, dynesty will [select](https://dynesty.readthedocs.io/en/latest/quickstart.html#sampling-options) a sampling algorithm based on the number of dimensions of the problem being tackled.\n",
    "\n",
    "dynesty is available on [PyPI](https://pypi.org/) and can be installed with `pip` using:\n",
    "\n",
    "```bash\n",
    "pip install dynesty\n",
    "```\n",
    "\n",
    "or using Conda [with](https://anaconda.org/conda-forge/dynesty):\n",
    "\n",
    "```bash\n",
    "conda install -c conda-forge dynesty\n",
    "```\n",
    "\n",
    "> **Note**: Other dynamic nested sampling codes exist such as [dyPolyChord](http://dypolychord.readthedocs.io/en/latest/) and [`perfectns`](https://github.com/ejhigson/perfectns).\n",
    "\n",
    "The likelihood function and prior transform can be set up in a way that is identical to [Nestle](#Nestle) (we'll define both again below for completeness), with the differences being in how the sampler is called. Here we will show the sampling being used for both \"*static*\" and \"*dynamic*\" nested sampling."
   ]
  },
  {
   "cell_type": "code",
   "execution_count": null,
   "metadata": {},
   "outputs": [],
   "source": [
    "# import the inverse error function from scipy\n",
    "from scipy.special import ndtri\n",
    "\n",
    "def prior_transform(theta):\n",
    "    \"\"\"\n",
    "    A function defining the tranform between the parameterisation in the unit hypercube\n",
    "    to the true parameters.\n",
    "\n",
    "    Args:\n",
    "        theta (tuple): a tuple containing the parameters.\n",
    "        \n",
    "    Returns:\n",
    "        tuple: a new tuple or array with the transformed parameters.\n",
    "    \"\"\"\n",
    "\n",
    "    mprime, cprime = theta # unpack the parameters (in their unit hypercube form)\n",
    "\n",
    "    cmin = -10.  # lower bound on uniform prior on c\n",
    "    cmax = 10.   # upper bound on uniform prior on c\n",
    "\n",
    "    mmu = 0.     # mean of Gaussian prior on m\n",
    "    msigma = 10. # standard deviation of Gaussian prior on m\n",
    "\n",
    "    m = mmu + msigma*ndtri(mprime) # convert back to m\n",
    "    c = cprime*(cmax-cmin) + cmin  # convert back to c\n",
    "\n",
    "    return (m, c)\n",
    "\n",
    "\n",
    "# set the natural logarithm of 2pi, so that it doesn't have to be recalculated\n",
    "LN2PI = np.log(2.*np.pi)\n",
    "LNSIGMA = np.log(sigma) # natural log of the data noise standard deviation\n",
    "\n",
    "\n",
    "def loglikelihood_dynesty(theta):\n",
    "    \"\"\"\n",
    "    The log-likelihood function.\n",
    "    \"\"\"\n",
    "\n",
    "    m, c = theta # unpack the parameters\n",
    "\n",
    "    # normalisation\n",
    "    norm = -0.5*M*LN2PI - M*LNSIGMA\n",
    "\n",
    "    # chi-squared (data, sigma and x are global variables defined early on in this notebook)\n",
    "    chisq = np.sum(((data-straight_line(x, m, c))/sigma)**2)\n",
    "\n",
    "    return norm - 0.5*chisq"
   ]
  },
  {
   "cell_type": "markdown",
   "metadata": {},
   "source": [
    "First we'll run with the \"static\" sampler. For consistency with [Nestle](#Nestle) and [CPNest](#CPNest) we'll use 1024 live points and a stopping criterion of 0.1. As with our [Nestle](#Nestle) example we will use the [MultiNest](#PyMultiNest)-style bounding ellipsoids, but with [uniform](https://dynesty.readthedocs.io/en/latest/api.html#dynesty.sampling.sample_unif) sampling based on the low-dimensionality of the problem."
   ]
  },
  {
   "cell_type": "code",
   "execution_count": null,
   "metadata": {},
   "outputs": [],
   "source": [
    "# import dynesty\n",
    "import dynesty\n",
    "\n",
    "print('dynesty version: {}'.format(dynesty.__version__))\n",
    "\n",
    "nlive = 1024      # number of live points\n",
    "bound = 'multi'   # use MutliNest algorithm for bounds\n",
    "ndims = 2         # two parameters\n",
    "sample = 'unif'   # uniform sampling\n",
    "tol = 0.1         # the stopping criterion\n",
    "\n",
    "from dynesty import NestedSampler\n",
    "\n",
    "sampler = NestedSampler(loglikelihood_dynesty, prior_transform, ndims,\n",
    "                        bound=bound, sample=sample, nlive=nlive)\n",
    "\n",
    "t0 = time()\n",
    "sampler.run_nested(dlogz=tol, print_progress=False) # don't output progress bar\n",
    "t1 = time()\n",
    "\n",
    "timedynesty = (t1-t0)\n",
    "\n",
    "print(\"Time taken to run 'dynesty' (in static mode) is {} seconds\".format(timedynesty))"
   ]
  },
  {
   "cell_type": "markdown",
   "metadata": {},
   "source": [
    "We can extract the value of the marginal likelihood, $\\ln{⁡Z}$, and its uncertainties with the following:"
   ]
  },
  {
   "cell_type": "code",
   "execution_count": null,
   "metadata": {},
   "outputs": [],
   "source": [
    "res = sampler.results # get results dictionary from sampler\n",
    "\n",
    "logZdynesty = res.logz[-1]        # value of logZ\n",
    "logZerrdynesty = res.logzerr[-1]  # estimate of the statistcal uncertainty on logZ\n",
    "\n",
    "print(\"log(Z) = {} ± {}\".format(logZdynesty, logZerrdynesty))"
   ]
  },
  {
   "cell_type": "markdown",
   "metadata": {},
   "source": [
    "Or, get a summary of this information using:"
   ]
  },
  {
   "cell_type": "code",
   "execution_count": null,
   "metadata": {},
   "outputs": [],
   "source": [
    "print(res.summary())"
   ]
  },
  {
   "cell_type": "markdown",
   "metadata": {},
   "source": [
    "As with [Nestle](#Nestle) we need to draw posterior samples from the nested samples based on their prior weights."
   ]
  },
  {
   "cell_type": "code",
   "execution_count": null,
   "metadata": {},
   "outputs": [],
   "source": [
    "# get function that resamples from the nested samples to give sampler with equal weight\n",
    "from dynesty.utils import resample_equal\n",
    "\n",
    "# draw posterior samples\n",
    "weights = np.exp(res['logwt'] - res['logz'][-1])\n",
    "samples_dynesty = resample_equal(res.samples, weights)\n",
    "\n",
    "resdict['mdynesty_mu'] = np.mean(samples_dynesty[:,0])      # mean of m samples\n",
    "resdict['mdynesty_sig'] = np.std(samples_dynesty[:,0])      # standard deviation of m samples\n",
    "resdict['cdynesty_mu'] = np.mean(samples_dynesty[:,1])      # mean of c samples\n",
    "resdict['cdynesty_sig'] = np.std(samples_dynesty[:,1])      # standard deviation of c samples\n",
    "resdict['ccdynesty'] = np.corrcoef(samples_dynesty.T)[0,1]  # correlation coefficient between parameters\n",
    "resdict['dynesty_npos'] = len(samples_dynesty)              # number of posterior samples\n",
    "resdict['dynesty_time'] = timedynesty                       # run time\n",
    "resdict['dynesty_logZ'] = logZdynesty                       # log marginalised likelihood\n",
    "resdict['dynesty_logZerr'] = logZerrdynesty                 # uncertainty on log(Z)\n",
    "\n",
    "print('Number of posterior samples is {}'.format(len(samples_dynesty)))\n",
    "\n",
    "# plot using corner.py\n",
    "plotposts(samples_dynesty)"
   ]
  },
  {
   "cell_type": "code",
   "execution_count": null,
   "metadata": {},
   "outputs": [],
   "source": [
    "essdynesty = ess(np.exp(res[\"logwt\"] - logZdynesty))\n",
    "resdict['essdynesty'] = int(len(samples_dynesty)/ timedynesty)\n",
    "print(\"Effective samples per second: {}\".format(resdict['essdynesty']))"
   ]
  },
  {
   "cell_type": "markdown",
   "metadata": {},
   "source": [
    "We can now do the same thing, but with the \"dynamic\" sampler. For this we can specify an initial number of live points (we will stick with 1024), but the actual number used will evolve. The [stopping criterion](https://dynesty.readthedocs.io/en/latest/dynamic.html#stopping-function) for the dynamic method is more complex than for the static case, and we will just leave it at the default values."
   ]
  },
  {
   "cell_type": "code",
   "execution_count": null,
   "metadata": {},
   "outputs": [],
   "source": [
    "# import the dynamic nested sampler\n",
    "from dynesty import DynamicNestedSampler\n",
    "\n",
    "# set up the sampler\n",
    "dsampler = DynamicNestedSampler(loglikelihood_dynesty, prior_transform, ndims,\n",
    "                                bound=bound, sample=sample)\n",
    "\n",
    "# run the sampler (not that we have not included the dlogz tolerance)\n",
    "t0 = time()\n",
    "dsampler.run_nested(nlive_init=nlive, print_progress=False)\n",
    "t1 = time()\n",
    "\n",
    "timedynestydynamic = (t1-t0)\n",
    "\n",
    "print(\"Time taken to run 'dynesty' (in dynamic mode) is {} seconds\".format(timedynestydynamic))"
   ]
  },
  {
   "cell_type": "markdown",
   "metadata": {},
   "source": [
    "Let's just compare the marginal likelihoods and numbers of posterior samples between the static and dynamic methods."
   ]
  },
  {
   "cell_type": "code",
   "execution_count": null,
   "metadata": {},
   "outputs": [],
   "source": [
    "dres = dsampler.results # get results dictionary from sampler\n",
    "\n",
    "logZdynestydynamic = dres.logz[-1]        # value of logZ\n",
    "logZerrdynestydynamic = dres.logzerr[-1]  # estimate of the statistcal uncertainty on logZ\n",
    "\n",
    "print(\"Static: log(Z) = {} ± {}\".format(logZdynesty, logZerrdynesty))\n",
    "print(\"Dynamic: log(Z) = {} ± {}\".format(logZdynestydynamic, logZerrdynestydynamic))\n",
    "\n",
    "# draw posterior samples\n",
    "dweights = np.exp(dres['logwt'] - dres['logz'][-1])\n",
    "samples_dynestydynamic = resample_equal(dres.samples, dweights)\n",
    "essdynestydynamic = ess(np.exp(dres[\"logwt\"] - logZdynestydynamic))\n",
    "print('Static: num. posterior samples: {}'.format(len(samples_dynesty)))\n",
    "print('Dynamic: num. posterior samples: {}'.format(len(samples_dynestydynamic)))"
   ]
  },
  {
   "cell_type": "markdown",
   "metadata": {},
   "source": [
    "### UltraNest\n",
    "\n",
    "[UltraNest](https://johannesbuchner.github.io/UltraNest/) is Python-based implementation of the nested sampling, that contains several [sampling algorithms](https://johannesbuchner.github.io/UltraNest/method.html) designed for correctness of sampling. One particular method it provides is called RadFriends ([Buchner, 2014](https://arxiv.org/abs/1407.5459)) that is designed to be robust against effects caused by inaccuracies of drawing new samples from the constrained prior.\n",
    "\n",
    "UltraNest is available from its [github repository](https://github.com/JohannesBuchner/UltraNest.git), but can be installed form PyPi using\n",
    "\n",
    "```bash\n",
    "pip install ultranest\n",
    "```\n",
    "\n",
    "or using Conda [with](https://anaconda.org/conda-forge/ultranest):\n",
    "\n",
    "```bash\n",
    "conda install -c conda-forge ultranest\n",
    "```\n",
    "\n",
    "Similarly to [Nestle](#Nestle) and [dynesty](#dynesty), UltraNest samples from a unit hypercube, and therefore you have to defined a [prior transformation function](#Setting-the-prior-transform), so we can set up these functions in a very similar way to what we have seen [above](#Nestle)."
   ]
  },
  {
   "cell_type": "code",
   "execution_count": null,
   "metadata": {},
   "outputs": [],
   "source": [
    "# define the prior transform\n",
    "\n",
    "from scipy.special import ndtri\n",
    "\n",
    "def prior_transform_ultranest(theta):\n",
    "    \"\"\"\n",
    "    A function defining the tranform between the parameterisation in the unit hypercube\n",
    "    to the true parameters.\n",
    "\n",
    "    Args:\n",
    "        theta (list): a list/array containing the parameters.\n",
    "        \n",
    "    Returns:\n",
    "        list: a new list/array with the transformed parameters.\n",
    "    \"\"\"\n",
    "\n",
    "    # unpack the parameters (in their unit hypercube form)\n",
    "    mprime = theta[0]\n",
    "    cprime = theta[1]\n",
    "\n",
    "    cmin = -10.  # lower bound on uniform prior on c\n",
    "    cmax = 10.   # upper bound on uniform prior on c\n",
    "\n",
    "    mmu = 0.     # mean of Gaussian prior on m\n",
    "    msigma = 10. # standard deviation of Gaussian prior on m\n",
    "\n",
    "    m = mmu + msigma*ndtri(mprime) # convert back to m\n",
    "    c = cprime*(cmax-cmin) + cmin  # convert back to c\n",
    "\n",
    "    return np.array([m, c])"
   ]
  },
  {
   "cell_type": "markdown",
   "metadata": {},
   "source": [
    "We can again define the likelihood in a very similay way to [Nestle](#Nestle)."
   ]
  },
  {
   "cell_type": "code",
   "execution_count": null,
   "metadata": {},
   "outputs": [],
   "source": [
    "LN2PI = np.log(2.*np.pi)\n",
    "LNSIGMA = np.log(sigma)\n",
    "\n",
    "# define the Gaussian likelihood function\n",
    "def loglikelihood_ultranest(theta):\n",
    "    \"\"\"\n",
    "    The log-likelihood function.\n",
    "    \"\"\"\n",
    "\n",
    "    # unpack the parameters\n",
    "    m = theta[0]\n",
    "    c = theta[1]\n",
    "\n",
    "    # normalisation\n",
    "    norm = -0.5*M*LN2PI - M*LNSIGMA\n",
    "\n",
    "    # chi-squared (data, sigma and x are global variables defined early on in this notebook)\n",
    "    chisq = np.sum(((data-straight_line(x, m, c))/sigma)**2)\n",
    "\n",
    "    return norm - 0.5*chisq"
   ]
  },
  {
   "cell_type": "markdown",
   "metadata": {},
   "source": [
    "To run UltraNest we'll use the [`ReactiveNestedSampler`](https://johannesbuchner.github.io/UltraNest/ultranest.html#ultranest.integrator.ReactiveNestedSampler) method. Unlike other nested sampling methods, this does not require you to specify the number of live points to use. It will automatically adjust the number as required, starting with a default minimum of 400."
   ]
  },
  {
   "cell_type": "code",
   "execution_count": null,
   "metadata": {},
   "outputs": [],
   "source": [
    "import ultranest\n",
    "\n",
    "print('UltraNest version: {}'.format(ultranest.__version__))\n",
    "\n",
    "# set the ReactiveNestedSampler method\n",
    "sampler = ultranest.ReactiveNestedSampler([\"m\", \"c\"], loglikelihood_ultranest, prior_transform_ultranest)\n",
    "\n",
    "ndims = 2         # two parameters\n",
    "tol = 0.1         # the stopping criterion\n",
    "\n",
    "# run the nested sampling algorithm\n",
    "t0 = time()\n",
    "result = sampler.run(dlogz=tol)\n",
    "t1 = time()\n",
    "\n",
    "timeultranest = (t1-t0)"
   ]
  },
  {
   "cell_type": "code",
   "execution_count": null,
   "metadata": {},
   "outputs": [],
   "source": [
    "print(\"Time taken to run 'UltraNest' is {} seconds\".format(timeultranest))"
   ]
  },
  {
   "cell_type": "markdown",
   "metadata": {},
   "source": [
    "We can extract the value of the marginal likelihood, $\\ln{Z}$, and its uncertainties with the following:"
   ]
  },
  {
   "cell_type": "code",
   "execution_count": null,
   "metadata": {},
   "outputs": [],
   "source": [
    "logZultranest = result['logz']        # value of logZ\n",
    "logZerrultranest = result['logzerr']  # estimate of the statistcal uncertainty on logZ\n",
    "\n",
    "# output marginal likelihood\n",
    "print(\"Marginalised evidence is {} ± {}\".format(logZultranest, logZerrultranest))"
   ]
  },
  {
   "cell_type": "markdown",
   "metadata": {},
   "source": [
    "We can now resample from the nested samples to get the posterior samples."
   ]
  },
  {
   "cell_type": "code",
   "execution_count": null,
   "metadata": {},
   "outputs": [],
   "source": [
    "points = np.array(result[\"weighted_samples\"][\"points\"])\n",
    "weights = np.array(result[\"weighted_samples\"][\"weights\"])\n",
    "scaledweights = weights / weights.max()\n",
    "mask = np.random.rand(len(scaledweights)) < scaledweights\n",
    "\n",
    "samples_ultranest = points[mask, :]\n",
    "\n",
    "resdict['multranest_mu'] = np.mean(samples_ultranest[:,0])      # mean of m samples\n",
    "resdict['multranest_sig'] = np.std(samples_ultranest[:,0])      # standard deviation of m samples\n",
    "resdict['cultranest_mu'] = np.mean(samples_ultranest[:,1])      # mean of c samples\n",
    "resdict['cultranest_sig'] = np.std(samples_ultranest[:,1])      # standard deviation of c samples\n",
    "resdict['ccultranest'] = np.corrcoef(samples_ultranest.T)[0,1]  # correlation coefficient between parameters\n",
    "resdict['ultranest_npos'] = len(samples_ultranest)              # number of posterior samples\n",
    "resdict['ultranest_time'] = timeultranest                       # run time\n",
    "resdict['ultranest_logZ'] = logZultranest                       # log marginalised likelihood\n",
    "resdict['ultranest_logZerr'] = logZerrultranest                 # uncertainty on log(Z)\n",
    "\n",
    "# plot using corner.py\n",
    "plotposts(samples_ultranest)\n",
    "\n",
    "print('Number of posterior samples is {}'.format(samples_ultranest.shape[0]))"
   ]
  },
  {
   "cell_type": "code",
   "execution_count": null,
   "metadata": {},
   "outputs": [],
   "source": [
    "resdict['essultranest'] = int(len(samples_ultranest)/ timeultranest)\n",
    "print(\"Effective samples per second: {}\".format(resdict['essultranest']))"
   ]
  },
  {
   "cell_type": "markdown",
   "metadata": {},
   "source": [
    "We will now look at some nested sampling algorithms that are not pure Python, but do have Python wrappers.\n",
    "\n",
    "### PyMultiNest\n",
    "\n",
    "[PyMultiNest](http://johannesbuchner.github.io/PyMultiNest/) ([Buchner _et al_, 2014](https://www.aanda.org/articles/aa/abs/2014/04/aa22971-13/aa22971-13.html)) is a wrapper to the popular [MultiNest](https://github.com/farhanferoz/MultiNest) code ([Feroz & Hobson, 2008](http://xxx.lanl.gov/abs/0704.3704) & [Feroz _et al_, 2009](http://xxx.lanl.gov/abs/0704.3704)), which has been particularly taken up by the astrophysics and cosmology community. The basics underlying MultiNest were described in relation to [Nestle](#Nestle), although MultiNest can use more sophisticated sampling methods, such as importance sampling ([Feroz _et al_, 2014](http://xxx.lanl.gov/abs/1306.2144v2)).\n",
    "\n",
    "To use PyMultiNest, the MultiNest library itself must be installed (MultiNest can be downloaded from GitHub [here](https://github.com/farhanferoz/MultiNest)). Installation of PyMultiNest and its requirements are described [here](http://johannesbuchner.github.io/PyMultiNest/install.html); once MultiNest is installed you can then install PyMultiNest using `pip` with:\n",
    "\n",
    "```bash\n",
    "pip install pymultinest\n",
    "```\n",
    "\n",
    "A simpler solution, that comes bundled with MultiNest, is to install using [Conda](https://conda.io/en/latest/index.html) [with](https://anaconda.org/conda-forge/pymultinest):\n",
    "\n",
    "```bash\n",
    "conda install -c conda-forge pymultinest\n",
    "```\n",
    "\n",
    "> **Note**: If using MultiNest, and software wrapping it, for your work please note the software license restrictions [here](https://github.com/farhanferoz/MultiNest/blob/master/MultiNest_v3.11/LICENCE). \n",
    "\n",
    "Some examples of running PyMultiNest can be found [here](http://johannesbuchner.github.io/pymultinest-tutorial/), although an interface through a [`solver` function](https://github.com/JohannesBuchner/PyMultiNest/blob/master/pymultinest_demo.py) and [`Solver` class](https://github.com/JohannesBuchner/PyMultiNest/blob/master/pymultinest_solver_demo.py) are also available. We'll use the `Solver` class method, which can take in the same initialisation keyword arguments as the [`run()` method](http://johannesbuchner.github.io/PyMultiNest/pymultinest_run.html).\n",
    "\n",
    "We use the `Solver` class to create a new class for our specific example. As with [CPNest](#CPNest) we use this class to define our log likeihood function, and like [Nestle](#Nestle) we define a prior transform to go from a unit hypercube to the true parameterisation. These functions can only take in arrays of the parameter values that we are exploring and cannot take in additional arguments. Therefore any additional values required must either be global variables, or a new `__init__` method for the class must be defined. We'll show the latter of these.\n",
    "\n",
    "> **Note**: PyMultiNest is also available in Python through the [Monte Python](http://monte-python.readthedocs.io/en/latest/nested.html) package."
   ]
  },
  {
   "cell_type": "code",
   "execution_count": null,
   "metadata": {},
   "outputs": [],
   "source": [
    "# import the Solver class\n",
    "import pymultinest\n",
    "from pymultinest.solve import Solver\n",
    "from scipy.special import ndtri\n",
    "\n",
    "LN2PI = np.log(2.*np.pi)\n",
    "\n",
    "class StraightLineModelPyMultiNest(Solver):\n",
    "    \"\"\"\n",
    "    A simple straight line model, with a Gaussian likelihood.\n",
    "\n",
    "    Args:\n",
    "        data (:class:`numpy.ndarray`): an array containing the observed data\n",
    "        abscissa (:class:`numpy.ndarray`): an array containing the points at which the data were taken\n",
    "        modelfunc (function): a function defining the model\n",
    "        sigma (float): the standard deviation of the noise in the data\n",
    "        **kwargs: keyword arguments for the run method\n",
    "    \"\"\"\n",
    "\n",
    "    # define the prior parameters\n",
    "    cmin = -10.  # lower range on c (the same as the uniform c prior lower bound)\n",
    "    cmax = 10.   # upper range on c (the same as the uniform c prior upper bound)\n",
    "\n",
    "    mmu = 0.     # mean of the Gaussian prior on m\n",
    "    msigma = 10. # standard deviation of the Gaussian prior on m\n",
    "\n",
    "    def __init__(self, data, abscissa, modelfunc, sigma, **kwargs):\n",
    "        # set the data\n",
    "        self._data = data         # oberserved data\n",
    "        self._abscissa = abscissa # points at which the observed data are taken\n",
    "        self._sigma = sigma       # standard deviation(s) of the data\n",
    "        self._logsigma = np.log(sigma) # log sigma here to save computations in the likelihood\n",
    "        self._ndata = len(data)   # number of data points\n",
    "        self._model = modelfunc   # model function\n",
    "\n",
    "        Solver.__init__(self, **kwargs)\n",
    "\n",
    "    def Prior(self, cube):\n",
    "        \"\"\"\n",
    "        The prior transform going from the unit hypercube to the true parameters. This function\n",
    "        has to be called \"Prior\".\n",
    "\n",
    "        Args:\n",
    "            cube (:class:`numpy.ndarray`): an array of values drawn from the unit hypercube\n",
    "\n",
    "        Returns:\n",
    "            :class:`numpy.ndarray`: an array of the transformed parameters\n",
    "        \"\"\"\n",
    "\n",
    "        # extract values\n",
    "        mprime = cube[0]\n",
    "        cprime = cube[1]\n",
    "\n",
    "        m = self.mmu + self.msigma*ndtri(mprime)      # convert back to m\n",
    "        c = cprime*(self.cmax-self.cmin) + self.cmin  # convert back to c\n",
    "\n",
    "        return np.array([m, c])\n",
    "\n",
    "    def LogLikelihood(self, cube):\n",
    "        \"\"\"\n",
    "        The log likelihood function. This function has to be called \"LogLikelihood\".\n",
    "\n",
    "        Args:\n",
    "            cube (:class:`numpy.ndarray`): an array of parameter values.\n",
    "\n",
    "        Returns:\n",
    "            float: the log likelihood value.\n",
    "        \"\"\"\n",
    "\n",
    "        # extract parameters\n",
    "        m = cube[0]\n",
    "        c = cube[1]\n",
    "\n",
    "        # calculate the model\n",
    "        model = self._model(x, m, c)\n",
    "\n",
    "        # normalisation\n",
    "        norm = -0.5*self._ndata*LN2PI - self._ndata*self._logsigma\n",
    "\n",
    "        # chi-squared\n",
    "        chisq = np.sum(((self._data - model)/(self._sigma))**2)\n",
    "\n",
    "        return norm - 0.5*chisq"
   ]
  },
  {
   "cell_type": "markdown",
   "metadata": {},
   "source": [
    "Now we can run the sampler. As before we'll use 1024 live points, and like with [Nestle](#Nestle) we'll use a stopping criterion of 0.1. By default the sampler will use importance sampling."
   ]
  },
  {
   "cell_type": "code",
   "execution_count": null,
   "metadata": {},
   "outputs": [],
   "source": [
    "nlive = 1024 # number of live points\n",
    "ndim = 2     # number of parameters\n",
    "tol = 0.1    # stopping criterion\n",
    "\n",
    "# run the algorithm\n",
    "t0 = time()\n",
    "solution = StraightLineModelPyMultiNest(data, x, straight_line, sigma, n_dims=ndim,\n",
    "                                        n_live_points=nlive, evidence_tolerance=tol);\n",
    "t1 = time()\n",
    "\n",
    "timepymultinest = (t1-t0)"
   ]
  },
  {
   "cell_type": "code",
   "execution_count": null,
   "metadata": {},
   "outputs": [],
   "source": [
    "print(\"Time taken to run 'PyMultiNest' is {} seconds\".format(timepymultinest))"
   ]
  },
  {
   "cell_type": "markdown",
   "metadata": {},
   "source": [
    "Now we can extract the value of $\\ln{Z}$ and its uncertainty."
   ]
  },
  {
   "cell_type": "code",
   "execution_count": null,
   "metadata": {},
   "outputs": [],
   "source": [
    "logZpymnest = solution.logZ        # value of log Z\n",
    "logZerrpymnest = solution.logZerr  # estimate of the statistcal uncertainty on logZ\n",
    "\n",
    "print(\"log(Z) = {} ± {}\".format(logZpymnest, logZerrpymnest))"
   ]
  },
  {
   "cell_type": "markdown",
   "metadata": {},
   "source": [
    "These solutions, and the mean and standard deviation of the $m$ and $c$ parameters, can also be shown by using:"
   ]
  },
  {
   "cell_type": "code",
   "execution_count": null,
   "metadata": {},
   "outputs": [],
   "source": [
    "print(solution)"
   ]
  },
  {
   "cell_type": "markdown",
   "metadata": {},
   "source": [
    "We can extract and plot the posteriors. The `solution.samples` value contains an array of the posterior samples rather than the nested samples, so no resamping is required."
   ]
  },
  {
   "cell_type": "code",
   "execution_count": null,
   "metadata": {},
   "outputs": [],
   "source": [
    "mchain_pymnest = solution.samples[:,0] # extract chain of m values\n",
    "cchain_pymnest = solution.samples[:,1] # extract chain if c values\n",
    "\n",
    "samples_pymnest = np.vstack((mchain_pymnest, cchain_pymnest)).T\n",
    "\n",
    "resdict['mpymnest_mu'] = np.mean(samples_pymnest[:,0])      # mean of m samples\n",
    "resdict['mpymnest_sig'] = np.std(samples_pymnest[:,0])      # standard deviation of m samples\n",
    "resdict['cpymnest_mu'] = np.mean(samples_pymnest[:,1])      # mean of c samples\n",
    "resdict['cpymnest_sig'] = np.std(samples_pymnest[:,1])      # standard deviation of c samples\n",
    "resdict['ccpymnest'] = np.corrcoef(samples_pymnest.T)[0,1]  # correlation coefficient between parameters\n",
    "resdict['pymnest_npos'] = len(samples_pymnest)              # number of posterior samples\n",
    "resdict['pymnest_time'] = timepymultinest                   # run time\n",
    "resdict['pymnest_logZ'] = logZpymnest                       # log marginalised likelihood\n",
    "resdict['pymnest_logZerr'] = logZerrpymnest                 # uncertainty on log(Z)\n",
    "\n",
    "# print out the number of posterior samples\n",
    "print('Number of posterior samples is {}'.format(samples_pymnest.shape[0]))\n",
    "\n",
    "# plot using corner.py\n",
    "plotposts(samples_pymnest)"
   ]
  },
  {
   "cell_type": "code",
   "execution_count": null,
   "metadata": {},
   "outputs": [],
   "source": [
    "resdict['esspymnest'] = int(len(samples_pymnest)/ timepymultinest)\n",
    "print(\"Effective samples per second: {}\".format(resdict['esspymnest']))"
   ]
  },
  {
   "cell_type": "markdown",
   "metadata": {},
   "source": [
    "### DNest4\n",
    "\n",
    "[DNest4](https://github.com/eggplantbren/DNest4) ([Brewer & Foreman-Mackey, 2016](https://arxiv.org/abs/1606.03757)) uses a nested sampling algorithm called _Diffusive Nested Sampling_ ([Brewer _et al_, 2011](https://arxiv.org/abs/0912.2380)). The main difference between this method and others is that it can at any point still propose samples throughout the whole prior, rather than being constrained to draw points within the current minimum likelihood bound. This allows it to find volumes of high likelihood that might be missed by other methods because they lie in an area where no live points remain, i.e. it is good for sampling narrow multi-model posteriors. It can also be used in cases where the number of parameters in the model that is being fit is itself a variable, e.g., if the line model could either be a straight line, or a quadratic, or a cubic. The method used is called a Reversible Jump MCMC ([Green, 1995](https://academic.oup.com/biomet/article/82/4/711/252058)), although this is not currently available in the Python interface for DNest4.\n",
    "\n",
    "An example of using the Python wrapper for DNest4 for a straight line mode is given [here](https://github.com/eggplantbren/DNest4/blob/master/python/examples/straightline/straightline.py), but we will reproduce it with minor modifications (in that example $\\sigma$ is also included in the fitting).\n",
    "\n",
    "You can install the development version of DNest4 by cloning it from its [GitHub repository](https://github.com/eggplantbren/DNest4) and following the instructions [here](https://github.com/eggplantbren/DNest4#compiling). However, the Python interace can be installed from [PyPI](https://pypi.org/project/dnest4/) via pip with\n",
    "\n",
    "```bash\n",
    "pip install dnest4\n",
    "```\n",
    "\n",
    "or through Conda [with](https://anaconda.org/conda-forge/dnest4)\n",
    "\n",
    "```bash\n",
    "conda install -c conda-forge dnest4 \n",
    "```\n",
    "\n",
    "For DNest4 we need to create a `Model` class that contains the following methods:\n",
    " * `from_prior()`: a function that draws a sample from the prior distributions of the parameters\n",
    " * `perturb()`: a function that proposes new sample values\n",
    " * `log_likelihood()`: the natural logarithm of the likelihood function\n",
    "\n",
    "The `perturb()` method also needs to calculate the natural logarithm of the [Metropolis-Hastings ratio](https://en.wikipedia.org/wiki/Metropolis%E2%80%93Hastings_algorithm) required to give the acceptance probability:\n",
    "\n",
    "$$\n",
    "H = \\frac{p(\\theta'|I)}{p(\\theta|I)} \\frac{g(\\theta|\\theta')}{g(\\theta'|\\theta)},\n",
    "$$\n",
    "\n",
    "where the first ratio on the right-hand-side is the ratio of priors at the proposed point $\\theta'$ and current point $\\theta$, and the second ratio of the ratio of the proposal distributions. In our case the proposal distribution is symmetric, so its ratio is unity, and the ratio of the prior depends on the Gaussian prior on $m$, but not on the uniform prior for $c$.\n",
    "\n",
    "Parameters cannot be passed to the class on initialisation, so things such as the data must be global variables."
   ]
  },
  {
   "cell_type": "code",
   "execution_count": null,
   "metadata": {},
   "outputs": [],
   "source": [
    "# import randh function, which draws points from a heavy-tailed distribution, and wrapm which wraps a point within a given range\n",
    "from dnest4 import randh, wrap\n",
    "\n",
    "LN2PI = np.log(2.*np.pi)\n",
    "LNSIGMA = np.log(sigma)\n",
    "\n",
    "# define prior range values as global variables\n",
    "cmin = -10.  # lower range on c (the same as the uniform c prior lower bound)\n",
    "cmax = 10.   # upper range on c (the same as the uniform c prior upper bound)\n",
    "\n",
    "mmu = 0.     # mean of the Gaussian prior on m\n",
    "msigma = 10. # standard deviation of the Gaussian prior on m\n",
    "\n",
    "class DNest4Model(object):\n",
    "    \"\"\"\n",
    "    Specify the model in Python.\n",
    "    \"\"\"\n",
    "    def __init__(self):\n",
    "        \"\"\"\n",
    "        Parameter values *are not* stored inside the class\n",
    "        \"\"\"\n",
    "        pass\n",
    "\n",
    "    def from_prior(self):\n",
    "        \"\"\"\n",
    "        Draw points from the prior distribution.\n",
    "\n",
    "        Returns:\n",
    "            :class:`np.ndarray`: a numpy array containing the parameter values.\n",
    "        \"\"\"\n",
    "\n",
    "        m = np.random.normal(mmu, msigma)\n",
    "        c = np.random.uniform(cmin,  cmax)\n",
    "\n",
    "        return np.array([m, c])\n",
    "\n",
    "    def perturb(self, params):\n",
    "        \"\"\"\n",
    "        Perturb the current parameters by proposing a new position. This takes a numpy array of\n",
    "        parameters as input, and modifies it in-place. In just perturbs one parameter at a time.\n",
    "\n",
    "        Args:\n",
    "            params (:class:`np.ndarray`): the current parameters (this is modified by the function)\n",
    "\n",
    "        Returns:\n",
    "            float: the natural logarithm of the Metropolis-Hastings proposal ratio.\n",
    "        \"\"\"\n",
    "        logH = 0.0 # log of the Metropolis-Hastings prior x proposal ratio\n",
    "\n",
    "        # randomly choose which parameter to perturb \n",
    "        which = np.random.randint(len(params))\n",
    "        mmu = 0.\n",
    "        msigma = 10.\n",
    "        if which == 0:\n",
    "            # update H for Gaussian prior\n",
    "            logH -= -0.5*((params[which]-mmu)/msigma)**2\n",
    "\n",
    "        params[which] += 1.*randh() # we could scale this or use different distributions for each parameter, but in our case we know our distribution is quite compact and unimodal\n",
    "\n",
    "        if which == 0:\n",
    "            # update H for Gaussian prior\n",
    "            logH += -0.5*((params[which]-mmu)/msigma)**2\n",
    "        else:\n",
    "            # wrap c value so that it stays within the prior range\n",
    "            params[which] = wrap(params[which], cmin, cmax)\n",
    "\n",
    "        return logH\n",
    "\n",
    "    def log_likelihood(self, params):\n",
    "        \"\"\"\n",
    "        Gaussian sampling distribution.\n",
    "        \"\"\"\n",
    "        m, c = params # unpack parameters\n",
    "        \n",
    "        norm = -0.5*M*LN2PI - M*LNSIGMA\n",
    "        chisq = np.sum(((data - straight_line(x, m, c))/sigma)**2)\n",
    "        return norm - 0.5*chisq"
   ]
  },
  {
   "cell_type": "markdown",
   "metadata": {},
   "source": [
    "We can now run the sampler. The values that are passed to the sampler are described in Section 7 of [Brewer & Foreman-Mackey, 2016](https://arxiv.org/abs/1606.03757), but we'll stick with the defaults used in the [example code](https://github.com/eggplantbren/DNest4/blob/master/python/examples/straightline/straightline.py). Unlike with the other nested sampling algorithms we do not pass a tolerance for the stopping criterion, but just specify the number of levels and steps to perform. The `num_steps` gives to total number of MCMC iterations, but if not set the code will run forever by default, until the process is killed by the user."
   ]
  },
  {
   "cell_type": "code",
   "execution_count": null,
   "metadata": {},
   "outputs": [],
   "source": [
    "# import dnest4\n",
    "import dnest4\n",
    "\n",
    "print('DNest4 version: {}'.format(dnest4.__version__))\n",
    "\n",
    "# Create a model object and a sampler\n",
    "model = DNest4Model()\n",
    "sampler = dnest4.DNest4Sampler(model, backend=dnest4.backends.CSVBackend(\".\", sep=\" \"))\n",
    "\n",
    "# Set up the sampler. The first argument is max_num_levels\n",
    "gen = sampler.sample(max_num_levels=30, num_steps=1000, new_level_interval=10000,\n",
    "                     num_per_step=10000, thread_steps=100, num_particles=5, lam=10, beta=100)\n",
    "\n",
    "# Do the sampling (one iteration here = one particle save)\n",
    "t0 = time()\n",
    "for sample in enumerate(gen):\n",
    "    pass\n",
    "t1 = time()\n",
    "\n",
    "timednest4 = (t1-t0)\n",
    "\n",
    "print(\"Time taken to run 'DNest4' is {} seconds\".format(timednest4))"
   ]
  },
  {
   "cell_type": "markdown",
   "metadata": {},
   "source": [
    "To create the posterior samples the output of DNest4 has to be processed, which can be performed using the `postprocess()` function. Once this is done the posterior samples will be held in a `posterior_sample.txt` file containing a column for each parameter. As stated in [Brewer & Foreman-Mackey, 2016](https://arxiv.org/abs/1606.03757):\n",
    "\n",
    "> _\"it is harder to compute justified error bars on $\\ln{(Z)}$ in DNS than it is in standard NS.\"_\n",
    "\n",
    "so we will not quote a value here."
   ]
  },
  {
   "cell_type": "code",
   "execution_count": null,
   "metadata": {},
   "outputs": [],
   "source": [
    "# Run the postprocessing to get marginal likelihood and generate posterior samples\n",
    "logZdnest4, infogaindnest4, _ = dnest4.postprocess(plot=False);\n",
    "\n",
    "samples_dnest4 = np.loadtxt('posterior_sample.txt')"
   ]
  },
  {
   "cell_type": "markdown",
   "metadata": {},
   "source": [
    "Now let's plot the posteriors (noting that the effective number of posterior samples is quite a bit smaller than for the other samplers)."
   ]
  },
  {
   "cell_type": "code",
   "execution_count": null,
   "metadata": {},
   "outputs": [],
   "source": [
    "# print out the number of posterior samples\n",
    "print('Number of posterior samples is {}'.format(samples_dnest4.shape[0]))\n",
    "\n",
    "resdict['mdnest4_mu'] = np.mean(samples_dnest4[:,0])      # mean of m samples\n",
    "resdict['mdnest4_sig'] = np.std(samples_dnest4[:,0])      # standard deviation of m samples\n",
    "resdict['cdnest4_mu'] = np.mean(samples_dnest4[:,1])      # mean of c samples\n",
    "resdict['cdnest4_sig'] = np.std(samples_dnest4[:,1])      # standard deviation of c samples\n",
    "resdict['ccdnest4'] = np.corrcoef(samples_dnest4.T)[0,1]  # correlation coefficient between parameters\n",
    "resdict['dnest4_npos'] = len(samples_dnest4)              # number of posterior samples\n",
    "resdict['dnest4_time'] = timednest4                       # run time\n",
    "resdict['dnest4_logZ'] = logZdnest4                       # log marginalised likelihood\n",
    "\n",
    "# plot using corner.py\n",
    "plotposts(samples_dnest4)"
   ]
  },
  {
   "cell_type": "code",
   "execution_count": null,
   "metadata": {},
   "outputs": [],
   "source": [
    "resdict['essdnest4'] = len(samples_dnest4)/ timednest4\n",
    "print(\"Effective samples per second: {0:.2f}\".format(resdict['essdnest4']))"
   ]
  },
  {
   "cell_type": "markdown",
   "metadata": {},
   "source": [
    "### PyPolyChord\n",
    "\n",
    "[PolyChord](https://github.com/PolyChord/PolyChordLite) ([Handley _et al_, 2015a](https://arxiv.org/abs/1502.01856), [Handley *et al*, 2015b](https://arxiv.org/abs/1506.00171)) is a nested sampling implementation that uses [slice sampling](https://en.wikipedia.org/wiki/Slice_sampling) when drawing new points from the constrained prior.\n",
    "\n",
    "The PolyChord package itself provides a Python interface called PyPolyChord for using the algorithm. PolyChord can be downloaded from Github [here](https://github.com/PolyChord/PolyChordLite) with:\n",
    "\n",
    "```bash\n",
    "git clone https://github.com/PolyChord/PolyChordLite.git\n",
    "```\n",
    "\n",
    "PyPolyChord can then be installed with\n",
    "\n",
    "```bash\n",
    "cd PolyChordLite\n",
    "python setup.py install\n",
    "```\n",
    "\n",
    "The installation will attempt to find a copy of the `libmpi.so` library. If you have not got MPI (or are having further problems with MPI) you can disable it by instead installing with:\n",
    "\n",
    "```bash\n",
    "python setup.py --no-mpi install\n",
    "```\n",
    "\n",
    "As with [Nestle](#Nestle) and [PyMultiNest](#PyMultiNest) PolyChord samples from a unit hypercube, so you need to define a prior transform function. We also need a log likelihood function. These can be very similar to those used for [Nestle](#Nestle), but the functions must take in and output list rather than lists or tuples. Values such as the data array cannot be passed to the functions explicitly, so must be set as global variables.\n",
    "\n",
    "> **Note**: If using PolyChord for your work, please note the license restrictions described [here](https://github.com/PolyChord/PolyChordLite/blob/master/LICENCE)."
   ]
  },
  {
   "cell_type": "code",
   "execution_count": null,
   "metadata": {},
   "outputs": [],
   "source": [
    "from scipy.special import ndtri\n",
    "\n",
    "LN2PI = np.log(2.*np.pi)\n",
    "LNSIGMA = np.log(sigma)\n",
    "\n",
    "def prior_transform_polychord(cube):\n",
    "    \"\"\"\n",
    "    A function defining the tranform between the parameterisation in the unit hypercube\n",
    "    to the true parameters.\n",
    "\n",
    "    Args:\n",
    "        cube (array, list): a list containing the parameters as drawn from a unit hypercube.\n",
    "\n",
    "    Returns:\n",
    "        list: the transformed parameters.\n",
    "    \"\"\"\n",
    "\n",
    "    # unpack the parameters (in their unit hypercube form)\n",
    "    mprime = cube[0]\n",
    "    cprime = cube[1]\n",
    "    \n",
    "    cmin = -10.  # lower bound on uniform prior on c\n",
    "    cmax = 10.   # upper bound on uniform prior on c\n",
    "\n",
    "    mmu = 0.     # mean of Gaussian prior on m\n",
    "    msigma = 10. # standard deviation of Gaussian prior on m\n",
    "\n",
    "    m = mmu + msigma*ndtri(mprime) # convert back to m\n",
    "    c = cprime*(cmax-cmin) + cmin  # convert back to c\n",
    "\n",
    "    theta = [m, c]\n",
    "\n",
    "    return theta\n",
    "\n",
    "\n",
    "def loglikelihood_polychord(theta):\n",
    "    \"\"\"\n",
    "    The log-likelihood function.\n",
    "\n",
    "    Args:\n",
    "        theta (array, list): the set of parameter values.\n",
    "\n",
    "    Returns:\n",
    "        float: the log-likelihood value.\n",
    "        list: A list of any derived parameters (an empty list if there are none).\n",
    "    \"\"\"\n",
    "\n",
    "    # unpack the parameters\n",
    "    m = theta[0]\n",
    "    c = theta[1]\n",
    "\n",
    "    # normalisation\n",
    "    norm = -0.5*M*LN2PI - M*LNSIGMA\n",
    "\n",
    "    # chi-squared (data, sigma and x are global variables defined early on in this notebook)\n",
    "    chisq = np.sum(((data-straight_line(x, m, c))/sigma)**2)\n",
    "\n",
    "    return norm - 0.5*chisq, []"
   ]
  },
  {
   "cell_type": "markdown",
   "metadata": {},
   "source": [
    "As before we'll use 1024 live points (the default is to use 25 times the dimensionality of the problem) and a stopping criterion of 0.1 (the default value is 0.001). The current version of PyPolyChord will return values of the marginal likelihood and its uncertainty from the `PyPolyChord` object that runs the algorithm, but the class does not currently contain the posterior samples. It instead outputs these to files. The location of these files is set by setting the keyword arguments `base_dir` (defaults to \"`chains`\") and `file_root` (defaults to \"`test`\") in a `PolyChordSettings` object. This sets `{root} = {base_dir}/{file_root}`, and within this the posterior samples can be found in `{root}.txt` and the other statistics found in `{root}.stats`.\n",
    "\n",
    "You may find that codes produce a \"Segmentation Fault\" soon after they start running. The PolyChord documentation says:\n",
    "\n",
    "> \"*The slice sampling & clustering steps use a recursive procedure. The default memory allocated to recursive \n",
    "> procedures is embarassingly small (to guard against memory leaks).*\"\n",
    "\n",
    "and the solution is to:\n",
    "\n",
    "> Try increasing the stack size:  \n",
    "> Linux:    `ulimit -s unlimited`  \n",
    "> OSX:      `ulimit -s hard`\n",
    "\n",
    "Alternatively, within a Python script you can achieve this using the [`resource`](https://docs.python.org/2/library/resource.html) module, as shown below."
   ]
  },
  {
   "cell_type": "code",
   "execution_count": null,
   "metadata": {},
   "outputs": [],
   "source": [
    "import resource\n",
    "curlimit = resource.getrlimit(resource.RLIMIT_STACK)\n",
    "resource.setrlimit(resource.RLIMIT_STACK, (resource.RLIM_INFINITY,resource.RLIM_INFINITY))"
   ]
  },
  {
   "cell_type": "code",
   "execution_count": null,
   "metadata": {},
   "outputs": [],
   "source": [
    "nlive = 1024   # number of live points\n",
    "ndims = 2      # number of parameters\n",
    "nderived = 0   # number of derived parameters (this is zero)\n",
    "tol = 0.1      # stopping criterion\n",
    "basedir = os.path.join(os.getcwd(), 'polychord')  # output base directory\n",
    "if not os.path.isdir(basedir):\n",
    "    os.makedirs(basedir)                          # create base directory\n",
    "    os.makedirs(os.path.join(basedir, 'clusters'))\n",
    "fileroot = 'straightline'                         # output file name\n",
    "broot = os.path.join(basedir, fileroot)\n",
    "\n",
    "# import PolyChord\n",
    "import pypolychord\n",
    "from pypolychord.settings import PolyChordSettings  # class for passing setup information\n",
    "from pypolychord.priors import UniformPrior         # pre-defined class for a uniform prior\n",
    "\n",
    "# setup run settings using the PolyChordSetting class\n",
    "pargs = {'nlive': nlive,\n",
    "         'precision_criterion': tol,\n",
    "         'base_dir': basedir,\n",
    "         'file_root': fileroot,\n",
    "         'write_resume': False, # don't output a resume file\n",
    "         'read_resume': False}  # don't read a resume file\n",
    "settings = PolyChordSettings(ndims, nderived, **pargs)\n",
    "\n",
    "t0 = time()\n",
    "output = pypolychord.run_polychord(loglikelihood_polychord, ndims, nderived, settings, prior_transform_polychord)\n",
    "t1 = time()\n",
    "\n",
    "timepolychord = (t1-t0)\n",
    "\n",
    "print(\"Time taken to run 'PyPolyChord' is {} seconds\".format(timepolychord))\n",
    "\n",
    "# reset stack resource limit\n",
    "resource.setrlimit(resource.RLIMIT_STACK, curlimit)"
   ]
  },
  {
   "cell_type": "markdown",
   "metadata": {},
   "source": [
    "We can extract the marginal likelihood and the uncertainty from the `output` variable. "
   ]
  },
  {
   "cell_type": "code",
   "execution_count": null,
   "metadata": {},
   "outputs": [],
   "source": [
    "print(\"log(Z) = {} ± {}\".format(output.logZ, output.logZerr))"
   ]
  },
  {
   "cell_type": "markdown",
   "metadata": {},
   "source": [
    "We can also extract the posterior samples from the file with the `_equal_weights.txt` suffix. Given we have two parameters, the chains for these will be the final two columns within the samples file."
   ]
  },
  {
   "cell_type": "code",
   "execution_count": null,
   "metadata": {},
   "outputs": [],
   "source": [
    "samplefile = broot+'_equal_weights.txt'\n",
    "samples_polychord = np.loadtxt(samplefile)\n",
    "samples_polychord = samples_polychord[:,-ndims:] # extract the last 'ndims' columns\n",
    "\n",
    "# print out the number of posterior samples\n",
    "print('Number of posterior samples is {}'.format(samples_polychord.shape[0]))\n",
    "\n",
    "resdict['mpolychord_mu'] = np.mean(samples_polychord[:,0])      # mean of m samples\n",
    "resdict['mpolychord_sig'] = np.std(samples_polychord[:,0])      # standard deviation of m samples\n",
    "resdict['cpolychord_mu'] = np.mean(samples_polychord[:,1])      # mean of c samples\n",
    "resdict['cpolychord_sig'] = np.std(samples_polychord[:,1])      # standard deviation of c samples\n",
    "resdict['ccpolychord'] = np.corrcoef(samples_polychord.T)[0,1]  # correlation coefficient between parameters\n",
    "resdict['polychord_npos'] = len(samples_polychord)              # number of posterior samples\n",
    "resdict['polychord_time'] = timepolychord                       # run time\n",
    "resdict['polychord_logZ'] = output.logZ                         # log marginalised likelihood\n",
    "resdict['polychord_logZerr'] = output.logZerr                   # uncertainty on log(Z)\n",
    "\n",
    "# plot using corner.py\n",
    "plotposts(samples_polychord)"
   ]
  },
  {
   "cell_type": "code",
   "execution_count": null,
   "metadata": {},
   "outputs": [],
   "source": [
    "resdict['esspolychord'] = int(len(samples_polychord)/ timepolychord)\n",
    "print(\"Effective samples per second: {}\".format(resdict['esspolychord']))"
   ]
  },
  {
   "cell_type": "markdown",
   "metadata": {},
   "source": [
    "## Summary\n",
    "\n",
    "The timings given in this notebook are not directly comparable as the various codes have not been run with identical settings, and the number of likelihood evaluations produced can be quite different. But, they may be helpful in providing a rough ball-park of expected run times. As mentioned in relation to [emcee above](#emcee), it is important to note that different samplers will produce different numbers of truly independent samples, so some methods that may take longer to run may actually give more independent samples. Therefore comparisons of the number of effective samples per second may be more useful, although these will still be quite problem dependent. It is also worth noting that some of the codes can make use or multiple CPU cores, or GPUs, but these have not been used here. So, speed-ups could be achieved by using these in-built parallelisations.\n",
    "\n",
    "The number of posterior samples produced by the nested sampling codes can depend strongly on the number of initial live points used. However, for the codes where we have specified a number of live points the final posterior sizes are very comparable. It should be noted that comparing posterior sample sizes and run times for DNest4 in particular is not entirely fair, as it is designed with more complex problems in mind and is not created to be efficient at simple examples where other methods work easily.\n",
    "\n",
    "Something that is also worth noting, in particular with regard to nested sampling algorithms, is that they will generally take longer to run when there is a larger degree of difference between the prior and the posterior (i.e., the data contains a lot of new information, which, in technical terms, is called having a large [Kullback-Leibler (KL) divergence](https://en.wikipedia.org/wiki/Kullback%E2%80%93Leibler_divergence)). So, estimating the parameters of a model when the data contains a high signal-to-noise ratio signal will often take longer than the same model but with a weaker signal in the data.\n",
    "\n",
    "Now, let's overplot everything (it will look a bit horrific)!"
   ]
  },
  {
   "cell_type": "code",
   "execution_count": null,
   "metadata": {},
   "outputs": [],
   "source": [
    "from matplotlib.pyplot import cm \n",
    "from matplotlib.colors import to_hex\n",
    "\n",
    "# get a list of all the samples\n",
    "chains = [samples_emcee, samples_pymc3, samples_zeus, samples_tfp, samples_pystan,\n",
    "          samples_pyjags, samples_nestle, samples_cpnest, samples_dynesty, samples_ultranest,\n",
    "          samples_pymnest, samples_dnest4, samples_polychord]\n",
    "\n",
    "color = cm.gnuplot(np.linspace(0, 1, len(chains)))\n",
    "\n",
    "hist2dkwargs = {'plot_datapoints': False,\n",
    "                'plot_density': False,\n",
    "                'levels': 1.0 - np.exp(-0.5 * np.arange(1.5, 2.1, 0.5) ** 2)} # roughly 1 and 2 sigma\n",
    "\n",
    "for i, chain in enumerate(chains):\n",
    "    cv = to_hex(color[i])\n",
    "    if i == 0:\n",
    "        fig = corner.corner(\n",
    "            chain,\n",
    "            labels=[r\"$m$\", r\"$c$\"],\n",
    "            color=cv,\n",
    "            hist_kwargs={'density': True},\n",
    "            **hist2dkwargs,\n",
    "        )\n",
    "    else:\n",
    "        if i < len(chains)-1:\n",
    "            corner.corner(\n",
    "                chain,\n",
    "                labels=[r\"$m$\", r\"$c$\"],\n",
    "                fig=fig,\n",
    "                color=cv,\n",
    "                hist_kwargs={'density': True},\n",
    "                **hist2dkwargs,\n",
    "            )\n",
    "        else: # plot true values on last plot\n",
    "            corner.corner(\n",
    "                chain,\n",
    "                labels=[r\"$m$\", r\"$c$\"],\n",
    "                truths=[m, c],\n",
    "                fig=fig,\n",
    "                color=cv,\n",
    "                hist_kwargs={'density': True},\n",
    "                **hist2dkwargs,\n",
    "            )\n",
    "            \n",
    "fig.set_size_inches(10.0, 9.0)"
   ]
  },
  {
   "cell_type": "code",
   "execution_count": null,
   "metadata": {},
   "outputs": [],
   "source": [
    "from IPython.display import Markdown\n",
    "\n",
    "outputtable = \"\"\"\n",
    "| Sampler | $m$ | $c$ | corr. coeff | Effective samples / s |\n",
    "|--- | :---: | :---: | :---: | :---: |\n",
    "| emcee | {memcee_mu:.3f} ± {memcee_sig:.3f} | {cemcee_mu:.3f} ± {cemcee_sig:.3f} | {ccemcee:.3f} | {essemcee:d} |\n",
    "| PyMC3 | {mpymc3_mu:.3f} ± {mpymc3_sig:.3f} | {cpymc3_mu:.3f} ± {cpymc3_sig:.3f} | {ccpymc3:.3f} | {esspymc3:d} |\n",
    "| TFP | {mtfp_mu:.3f} ± {mtfp_sig:.3f} | {ctfp_mu:.3f} ± {ctfp_sig:.3f} | {cctfp:.3f} | {esstfp:d} |\n",
    "| emcee | {mzeus_mu:.3f} ± {mzeus_sig:.3f} | {czeus_mu:.3f} ± {czeus_sig:.3f} | {cczeus:.3f} | {esszeus:d} |\n",
    "| PyStan | {mpystan_mu:.3f} ± {mpystan_sig:.3f} | {cpystan_mu:.3f} ± {cpystan_sig:.3f} | {ccpystan:.3f} | {esspystan:d} |\n",
    "| PyJAGS | {mpyjags_mu:.3f} ± {mpyjags_sig:.3f} | {cpyjags_mu:.3f} ± {cpyjags_sig:.3f} | {ccpyjags:.3f} | {esspyjags:d} |\n",
    "| Nestle | {mnestle_mu:.3f} ± {mnestle_sig:.3f} | {cnestle_mu:.3f} ± {cnestle_sig:.3f} | {ccnestle:.3f} | {essnestle:d} |\n",
    "| CPNest | {mcpnest_mu:.3f} ± {mcpnest_sig:.3f} | {ccpnest_mu:.3f} ± {ccpnest_sig:.3f} | {cccpnest:.3f} | {esscpnest:d} |\n",
    "| dynesty | {mdynesty_mu:.3f} ± {mdynesty_sig:.3f} | {cdynesty_mu:.3f} ± {cdynesty_sig:.3f} | {ccdynesty:.3f} | {essdynesty:d} |\n",
    "| UltraNest | {multranest_mu:.3f} ± {multranest_sig:.3f} | {cultranest_mu:.3f} ± {cultranest_sig:.3f} | {ccultranest:.3f} | {essultranest:d} |\n",
    "| PyMultiNest | {mpymnest_mu:.3f} ± {mpymnest_sig:.3f} | {cpymnest_mu:.3f} ± {cpymnest_sig:.3f} | {ccpymnest:.3f} | {esspymnest:d} |\n",
    "| DNest4 | {mdnest4_mu:.3f} ± {mdnest4_sig:.3f} | {cdnest4_mu:.3f} ± {cdnest4_sig:.3f} | {ccdnest4:.3f} | {essdnest4:.2f} |\n",
    "| PyPolyChord | {mpolychord_mu:.3f} ± {mpolychord_sig:.3f} | {cpolychord_mu:.3f} ± {cpolychord_sig:.3f} | {ccpolychord:.3f} | {esspolychord:d} |\n",
    "\"\"\"\n",
    "\n",
    "Markdown(outputtable.format(**resdict))"
   ]
  },
  {
   "cell_type": "code",
   "execution_count": null,
   "metadata": {},
   "outputs": [],
   "source": [
    "outputnest = \"\"\"\n",
    "#### Nested sampling\n",
    "\n",
    "| Sampler | $\\ln{{Z}}$ | num. posterior samples | run time (s) |\n",
    "| --- | --- | :---: | --- |\n",
    "| Nestle | {nestle_logZ:.3f} ± {nestle_logZerr:.3f} | {nestle_npos} | {nestle_time:.3f} |\n",
    "| CPNest | {cpnest_logZ:.3f} ± {cpnest_logZerr:.3f} | {cpnest_npos} | {cpnest_time:.3f} |\n",
    "| dynesty | {dynesty_logZ:.3f} ± {dynesty_logZerr:.3f} | {dynesty_npos} | {dynesty_time:.3f} |\n",
    "| UltraNest | {ultranest_logZ:.3f} ± {ultranest_logZerr:.3f} | {ultranest_npos} | {ultranest_time:.3f} |\n",
    "| PyMultiNest | {pymnest_logZ:.3f} ± {pymnest_logZerr:.3f} | {pymnest_npos} | {pymnest_time:.3f} |\n",
    "| DNest4 | {dnest4_logZ:.3f} | {dnest4_npos} | {dnest4_time:.3f} |\n",
    "| PyPolyChord| {polychord_logZ:.3f} ± {polychord_logZerr:.3f} | {polychord_npos} | {polychord_time:.3f} |\n",
    "\"\"\"\n",
    "\n",
    "Markdown(outputnest.format(**resdict))"
   ]
  },
  {
   "cell_type": "code",
   "execution_count": null,
   "metadata": {},
   "outputs": [],
   "source": [
    "import cpuinfo\n",
    "print('This was run on a single core \"{}\" CPU'.format(cpuinfo.get_cpu_info()['brand_raw']))"
   ]
  },
  {
   "cell_type": "markdown",
   "metadata": {},
   "source": [
    "## Running this notebook\n",
    "\n",
    "I have created a [Docker image](https://quay.io/repository/mattpitkin/samplers-demo), available on [Quay.io](https://quay.io/), in which Python 3.7 and all the above samplers are installed (this is roughly 9 Gb in size, so may take some time to download). This can be used to run this notebook in [Jupyter](http://jupyter.org/). You can download this notebook from [here](http://mattpitkin.github.io/samplers-demo/downloads/notebooks/Samplers.ipynb).\n",
    "\n",
    "If you have Docker installed then under Linux, Mac OS or Windows you can run the notebook by opening a terminal (e.g., the Powershell in Windows) and running:\n",
    "\n",
    "```bash\n",
    "sudo docker run -i -t -p 8888:8888 -v ${notebook_location}:/samplers quay.io/mattpitkin/samplers-demo:latest /bin/bash -c \"jupyter notebook --notebook-dir=/samplers --ip='*' --port=8888 --no-browser --allow-root --MultiKernelManager.default_kernel_name=Samplers\"\n",
    "```\n",
    "\n",
    "where `{notebook_location}` is replaced with the directory path containing the downloaded notebook. This will provide a link that can be pasted into your browser to show the notebook, and the `Samplers.ipynb` file can be selected. Under Windows remove the `sudo` from the above command."
   ]
  },
  {
   "cell_type": "code",
   "execution_count": null,
   "metadata": {},
   "outputs": [],
   "source": []
  }
 ],
 "metadata": {
  "kernelspec": {
   "display_name": "Samplers",
   "language": "python",
   "name": "python37"
  },
  "language_info": {
   "codemirror_mode": {
    "name": "ipython",
    "version": 3
   },
   "file_extension": ".py",
   "mimetype": "text/x-python",
   "name": "python",
   "nbconvert_exporter": "python",
   "pygments_lexer": "ipython3",
   "version": "3.7.10"
  },
  "toc": {
   "nav_menu": {
    "height": "208px",
    "width": "248px"
   },
   "number_sections": true,
   "sideBar": true,
   "skip_h1_title": false,
   "toc_cell": false,
   "toc_position": {},
   "toc_section_display": "block",
   "toc_window_display": false
  }
 },
 "nbformat": 4,
 "nbformat_minor": 2
}
